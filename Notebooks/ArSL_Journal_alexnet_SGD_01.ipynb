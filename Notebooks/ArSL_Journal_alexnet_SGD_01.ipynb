{
 "cells": [
  {
   "cell_type": "markdown",
   "id": "b609b4ef",
   "metadata": {},
   "source": [
    "## Variable that changed a lot"
   ]
  },
  {
   "cell_type": "code",
   "execution_count": 1,
   "id": "578fe4fa",
   "metadata": {},
   "outputs": [],
   "source": [
    "Model_name = \"alexnet\"\n",
    "\n",
    "run_num  = \"2\"         \n",
    "# It should match the the name of notebook\n",
    "tensor_baord_variable = Model_name + '_' + run_num\n",
    "\n",
    "# The path of the best check point\n",
    "path = f\"CheckPoints/{tensor_baord_variable}\""
   ]
  },
  {
   "cell_type": "code",
   "execution_count": 2,
   "id": "934f02c0",
   "metadata": {},
   "outputs": [
    {
     "data": {
      "text/plain": [
       "('alexnet_2', 'CheckPoints/alexnet_2')"
      ]
     },
     "execution_count": 2,
     "metadata": {},
     "output_type": "execute_result"
    }
   ],
   "source": [
    "tensor_baord_variable, path"
   ]
  },
  {
   "cell_type": "markdown",
   "id": "4e39debb",
   "metadata": {},
   "source": [
    "## Check the working environment"
   ]
  },
  {
   "cell_type": "code",
   "execution_count": 3,
   "id": "fb64ec1d",
   "metadata": {},
   "outputs": [
    {
     "name": "stdout",
     "output_type": "stream",
     "text": [
      "sys.base_prefix >>  /usr\n",
      "sys.prefix >>  /home/lenovo/Desktop/Barham/Conferance_Sign_Language_paper/conf_sign_lang\n",
      "is_venv(): True\n"
     ]
    }
   ],
   "source": [
    "import sys\n",
    "def is_venv(): return hasattr(sys, 'real_prefix') or sys.base_prefix != sys.prefix\n",
    "\n",
    "print(\"sys.base_prefix >> \", sys.base_prefix)\n",
    "print(\"sys.prefix >> \", sys.prefix)\n",
    "\n",
    "print(\"is_venv():\", is_venv())"
   ]
  },
  {
   "cell_type": "code",
   "execution_count": 4,
   "id": "9e611ec3",
   "metadata": {},
   "outputs": [
    {
     "name": "stdout",
     "output_type": "stream",
     "text": [
      "Using Virtualenv\n"
     ]
    }
   ],
   "source": [
    "import os\n",
    "\n",
    "if os.getenv('VIRTUAL_ENV'):\n",
    "    print('Using Virtualenv')\n",
    "else:\n",
    "    print('Not using Virtualenv')"
   ]
  },
  {
   "cell_type": "code",
   "execution_count": 5,
   "id": "eb2d909e",
   "metadata": {},
   "outputs": [
    {
     "name": "stdout",
     "output_type": "stream",
     "text": [
      "Python Executable: /home/lenovo/Desktop/Barham/Conferance_Sign_Language_paper/conf_sign_lang/bin/python\n",
      "Python Version: 3.8.10 (default, May 26 2023, 14:05:08) \n",
      "[GCC 9.4.0]\n",
      "Virtualenv: /home/lenovo/Desktop/Barham/Conferance_Sign_Language_paper/conf_sign_lang\n"
     ]
    }
   ],
   "source": [
    "import sys\n",
    "import os\n",
    "\n",
    "print(f'Python Executable: {sys.executable}')\n",
    "print(f'Python Version: {sys.version}')\n",
    "print(f'Virtualenv: {os.getenv(\"VIRTUAL_ENV\")}')"
   ]
  },
  {
   "cell_type": "markdown",
   "id": "e2b0190f",
   "metadata": {},
   "source": [
    "## Import libraries"
   ]
  },
  {
   "cell_type": "code",
   "execution_count": 6,
   "id": "c42b19b4",
   "metadata": {},
   "outputs": [
    {
     "name": "stdout",
     "output_type": "stream",
     "text": [
      "1.10.0+cu102\n"
     ]
    }
   ],
   "source": [
    "## Import important libraries \n",
    "\n",
    "import torch \n",
    "from torch import nn \n",
    "from torch import optim\n",
    "from torchvision import datasets, transforms\n",
    "from torch.utils.data import random_split, DataLoader\n",
    "\n",
    "import torchvision\n",
    "print(torch.__version__)"
   ]
  },
  {
   "cell_type": "code",
   "execution_count": 7,
   "id": "f11cf878",
   "metadata": {},
   "outputs": [],
   "source": [
    "# Tune the seed to get the same result for every run for the same parameters\n",
    "# Remove the randomness in the results \n",
    "\n",
    "torch.manual_seed(0)\n",
    "torch.backends.cudnn.deterministic = True"
   ]
  },
  {
   "cell_type": "markdown",
   "id": "fd691580",
   "metadata": {},
   "source": [
    "## Check the availabitlity of GPU"
   ]
  },
  {
   "cell_type": "code",
   "execution_count": 8,
   "id": "0b01891c",
   "metadata": {},
   "outputs": [
    {
     "name": "stdout",
     "output_type": "stream",
     "text": [
      "nvcc: NVIDIA (R) Cuda compiler driver\n",
      "Copyright (c) 2005-2019 NVIDIA Corporation\n",
      "Built on Sun_Jul_28_19:07:16_PDT_2019\n",
      "Cuda compilation tools, release 10.1, V10.1.243\n"
     ]
    }
   ],
   "source": [
    "# Chech the nvidia compiler driver\n",
    "!nvcc -V"
   ]
  },
  {
   "cell_type": "code",
   "execution_count": 9,
   "id": "948fa646",
   "metadata": {},
   "outputs": [
    {
     "name": "stdout",
     "output_type": "stream",
     "text": [
      "CUDA is available!  Training on GPU ...\n"
     ]
    }
   ],
   "source": [
    "# check if CUDA is available\n",
    "\n",
    "train_on_gpu = torch.cuda.is_available()\n",
    "\n",
    "if not train_on_gpu:\n",
    "    print('CUDA is not available.  Training on CPU ...')\n",
    "else:\n",
    "    print('CUDA is available!  Training on GPU ...')\n",
    "    \n",
    "device = torch.device(\"cuda\" if train_on_gpu else \"cpu\")\n"
   ]
  },
  {
   "cell_type": "code",
   "execution_count": 10,
   "id": "096d92ee",
   "metadata": {},
   "outputs": [
    {
     "data": {
      "text/plain": [
       "_CudaDeviceProperties(name='Quadro GV100', major=7, minor=0, total_memory=32505MB, multi_processor_count=80)"
      ]
     },
     "execution_count": 10,
     "metadata": {},
     "output_type": "execute_result"
    }
   ],
   "source": [
    "# check the device proparities\n",
    "torch.cuda.get_device_properties(torch.cuda.current_device())"
   ]
  },
  {
   "cell_type": "markdown",
   "id": "e0390cb4",
   "metadata": {},
   "source": [
    "## Dataset Pre-processing"
   ]
  },
  {
   "cell_type": "code",
   "execution_count": 11,
   "id": "d7e83cc4",
   "metadata": {},
   "outputs": [],
   "source": [
    "import os"
   ]
  },
  {
   "cell_type": "code",
   "execution_count": 12,
   "id": "b9301117",
   "metadata": {},
   "outputs": [],
   "source": [
    "# This class is used to apply specific transform on  the data \n",
    "\n",
    "class InheritedDataset():\n",
    "    def __init__(self, dataset, transform=None):\n",
    "        self.dataset = dataset\n",
    "        self.transform = transform\n",
    "\n",
    "    def __getitem__(self, index):\n",
    "        x, y, images_path = self.dataset[index]\n",
    "        if self.transform:\n",
    "            x = self.transform(x)\n",
    "        return x, y, images_path\n",
    "    \n",
    "    def __len__(self):\n",
    "        return len(self.dataset)"
   ]
  },
  {
   "cell_type": "code",
   "execution_count": 13,
   "id": "2bc7f058",
   "metadata": {},
   "outputs": [],
   "source": [
    "# Transformation or Processing for the dataset \n",
    "\n",
    "img_size = 224\n",
    "\n",
    "trans = transforms.Compose([  transforms.Resize(img_size),\n",
    "                              transforms.CenterCrop(img_size),\n",
    "                              transforms.ToTensor(),\n",
    "                            \n",
    " ] )\n",
    "\n",
    "transNoAugment = transforms.Compose([\n",
    "                                transforms.Resize(img_size),\n",
    "                                transforms.CenterCrop(img_size),\n",
    "                                transforms.ToTensor(),\n",
    " ] )"
   ]
  },
  {
   "cell_type": "code",
   "execution_count": 14,
   "id": "c36b1d14",
   "metadata": {},
   "outputs": [],
   "source": [
    "# https://gist.github.com/andrewjong/6b02ff237533b3b2c554701fb53d5c4d\n",
    "\n",
    "import torch\n",
    "from torchvision import datasets\n",
    "from PIL import Image, ImageOps\n",
    "from typing import Any # , Callable, cast, Dict, List, Optional, Tuple\n",
    "\n",
    "class ImageFolderWithPaths(datasets.ImageFolder):\n",
    "    \"\"\"\n",
    "    Custom dataset that includes image file paths. \n",
    "    Extends for torchvision.datasets.ImageFolder\n",
    "    \"\"\"\n",
    "\n",
    "    # override the __getitem__ method. this is the method that dataloader calls\n",
    "    def __getitem__(self, index):\n",
    "        # this is what ImageFolder normally returns \n",
    "        # print('Here')\n",
    "        original_tuple = super(ImageFolderWithPaths, self).__getitem__(index)\n",
    "        # the image file path\n",
    "#        print(\"Hello\")\n",
    "        # print(traindataset)\n",
    "        path = self.imgs[index][0]\n",
    "        # make a new tuple that includes original and the path\n",
    "        tuple_with_path = (original_tuple + (path,))\n",
    "        return tuple_with_path"
   ]
  },
  {
   "cell_type": "code",
   "execution_count": 15,
   "id": "ca0657bd",
   "metadata": {},
   "outputs": [],
   "source": [
    "# \"https://stackoverflow.com/questions/12984426/pil-ioerror-image-file-truncated-with-big-images\"\n",
    "\n",
    "from PIL import ImageFile\n",
    "ImageFile.LOAD_TRUNCATED_IMAGES = True"
   ]
  },
  {
   "cell_type": "code",
   "execution_count": 16,
   "id": "9e07b493",
   "metadata": {},
   "outputs": [],
   "source": [
    "def custom_pil_loader(path: str) -> Image.Image:\n",
    "    \"\"\"\n",
    "    This function is used to fix the orientation of the image based on its EXIF data (Exchangeable Image File Format). \n",
    "    It handles cases where the image may have been rotated or flipped based on the device or software used to capture it.\n",
    "    \"\"\"\n",
    "    \n",
    "    # open path as file to avoid ResourceWarning (https://github.com/python-pillow/Pillow/issues/835)\n",
    "    # with open(path, \"rb\") as f:\n",
    "    # print(\"Second\")\n",
    "\n",
    "    with open(path, \"rb\") as f:\n",
    "        img = Image.open(f)\n",
    "    \n",
    "        fixed_image = ImageOps.exif_transpose(img)\n",
    "        return fixed_image.convert(\"RGB\")"
   ]
  },
  {
   "cell_type": "code",
   "execution_count": 17,
   "id": "e6afadf7",
   "metadata": {},
   "outputs": [],
   "source": [
    "import sklearn\n",
    "from sklearn.model_selection import train_test_split"
   ]
  },
  {
   "cell_type": "code",
   "execution_count": 18,
   "id": "8361945f",
   "metadata": {},
   "outputs": [],
   "source": [
    "# Assign the batch size and number of workers\n",
    "\n",
    "batch_size, num_workers  = 64, 32"
   ]
  },
  {
   "cell_type": "code",
   "execution_count": 19,
   "id": "e1b57dbb",
   "metadata": {},
   "outputs": [
    {
     "name": "stdout",
     "output_type": "stream",
     "text": [
      "Training Data len is  5499\n",
      "Validation Data len is  1179\n",
      "Testing Data len is  1178\n",
      "\n",
      "DataSet len is 7856\n",
      "Training Dataset len is 7856\n",
      "Testing Dataset len is 7856\n",
      "\n",
      "train_loader size is 86\n",
      "val_Loader size is 19\n",
      "test_Loader  size is 19\n"
     ]
    }
   ],
   "source": [
    "# Get the data using torch and convert it to tensors\n",
    "\n",
    "data_dir = \"/home/lenovo/Desktop/Barham/Journal_Sign_Language/Journal Work/Main Notebooks/Final Data Version\"\n",
    "\n",
    "dataset = ImageFolderWithPaths(root = data_dir, loader= custom_pil_loader) # transform = transforms.ToTensor())\n",
    "\n",
    "traindataset, testdataset = InheritedDataset(dataset,trans), InheritedDataset(dataset,transNoAugment)\n",
    "\n",
    "num_train = len(dataset)\n",
    "indices = list(range(num_train))\n",
    "\n",
    "# Data splitting \n",
    "# Split the data into training, validation and testing \n",
    "\n",
    "X_train, X_test = train_test_split(indices, test_size=0.3, random_state=42 , stratify = dataset.targets , shuffle = True)\n",
    "X_test_classes = [dataset.targets[i]  for i in X_test]\n",
    "X_test_after , X_validation = train_test_split(X_test, test_size=0.5, random_state=42,  stratify = X_test_classes , shuffle = True)\n",
    "\n",
    "\n",
    "\n",
    "train_data = torch.utils.data.Subset(traindataset, indices=X_train)\n",
    "val_data   = torch.utils.data.Subset(testdataset, indices=X_validation)\n",
    "test_data  = torch.utils.data.Subset(testdataset, indices=X_test_after)\n",
    "\n",
    "\n",
    "print(f'Training Data len is ', len(train_data))\n",
    "print(f'Validation Data len is ', len(val_data))\n",
    "print(f'Testing Data len is ', len(test_data))\n",
    "\n",
    "print()\n",
    "\n",
    "print(f'DataSet len is' , num_train)\n",
    "print(f'Training Dataset len is' , len(traindataset))\n",
    "print(f'Testing Dataset len is' , len(testdataset))\n",
    "\n",
    "# Prepare the loader of the data\n",
    "\n",
    "train_loader = torch.utils.data.DataLoader(train_data, batch_size=batch_size , num_workers=num_workers)\n",
    "\n",
    "val_loader = torch.utils.data.DataLoader(val_data, batch_size=batch_size, num_workers= num_workers)\n",
    "\n",
    "test_loader = torch.utils.data.DataLoader(test_data, batch_size= batch_size, num_workers = num_workers)\n",
    "\n",
    "print()\n",
    "print(f\"train_loader size is {len(train_loader)}\")\n",
    "print(f\"val_Loader size is {len(val_loader)}\")\n",
    "print(f\"test_Loader  size is {len(test_loader)}\")"
   ]
  },
  {
   "cell_type": "code",
   "execution_count": 20,
   "id": "d8b9ea0e",
   "metadata": {},
   "outputs": [
    {
     "name": "stdout",
     "output_type": "stream",
     "text": [
      "{'Ain': 0, 'Al': 1, 'Alef': 2, 'Beh': 3, 'Dad': 4, 'Dal': 5, 'Feh': 6, 'Ghain': 7, 'Hah': 8, 'Heh': 9, 'Jeem': 10, 'Kaf': 11, 'Khah': 12, 'Laa': 13, 'Lam': 14, 'Meem': 15, 'Noon': 16, 'Qaf': 17, 'Reh': 18, 'Sad': 19, 'Seen': 20, 'Sheen': 21, 'Tah': 22, 'Teh': 23, 'Teh_Marbuta': 24, 'Thal': 25, 'Theh': 26, 'Waw': 27, 'Yeh': 28, 'Zah': 29, 'Zain': 30}\n"
     ]
    }
   ],
   "source": [
    "# Print the index for the dataset for each class \n",
    "print(dataset.class_to_idx)"
   ]
  },
  {
   "cell_type": "code",
   "execution_count": 21,
   "id": "b234694c",
   "metadata": {},
   "outputs": [
    {
     "data": {
      "text/plain": [
       "['Ain',\n",
       " 'Al',\n",
       " 'Alef',\n",
       " 'Beh',\n",
       " 'Dad',\n",
       " 'Dal',\n",
       " 'Feh',\n",
       " 'Ghain',\n",
       " 'Hah',\n",
       " 'Heh',\n",
       " 'Jeem',\n",
       " 'Kaf',\n",
       " 'Khah',\n",
       " 'Laa',\n",
       " 'Lam',\n",
       " 'Meem',\n",
       " 'Noon',\n",
       " 'Qaf',\n",
       " 'Reh',\n",
       " 'Sad',\n",
       " 'Seen',\n",
       " 'Sheen',\n",
       " 'Tah',\n",
       " 'Teh',\n",
       " 'Teh_Marbuta',\n",
       " 'Thal',\n",
       " 'Theh',\n",
       " 'Waw',\n",
       " 'Yeh',\n",
       " 'Zah',\n",
       " 'Zain']"
      ]
     },
     "execution_count": 21,
     "metadata": {},
     "output_type": "execute_result"
    }
   ],
   "source": [
    "## Print the classes in the dataset \n",
    "\n",
    "dataset.classes"
   ]
  },
  {
   "cell_type": "code",
   "execution_count": 22,
   "id": "912ed6ed",
   "metadata": {},
   "outputs": [
    {
     "name": "stdout",
     "output_type": "stream",
     "text": [
      "Image Extensions: {'jpg', 'jpeg'}\n"
     ]
    }
   ],
   "source": [
    "from torchvision.datasets import ImageFolder\n",
    "\n",
    "# Get the list of images and their extensions\n",
    "image_paths = [path for path, _ in dataset.imgs]\n",
    "image_extensions = set([path.split('.')[-1].lower() for path in image_paths])\n",
    "\n",
    "# Print the unique image extensions\n",
    "print(\"Image Extensions:\", image_extensions)"
   ]
  },
  {
   "attachments": {},
   "cell_type": "markdown",
   "id": "0e184cc2",
   "metadata": {},
   "source": [
    "### Check corrupted images "
   ]
  },
  {
   "cell_type": "code",
   "execution_count": 23,
   "id": "414257cb",
   "metadata": {},
   "outputs": [],
   "source": [
    "import torch\n",
    "import torchvision.transforms as transforms\n",
    "\n",
    "def identify_corrupted_images(loader):\n",
    "    corrupted_images = []\n",
    "    \n",
    "    try:\n",
    "        for batch in loader:\n",
    "            _, _, image_paths = batch\n",
    "\n",
    "            # Check if any image in the batch is corrupted\n",
    "            for i in range(len(image_paths)):\n",
    "                image_path = image_paths[i]\n",
    "                \n",
    "                from PIL import Image\n",
    "\n",
    "                def is_image_corrupted(image_path):\n",
    "                    try:\n",
    "                        with open(image_path, 'rb') as f:\n",
    "                            Image.open(f)\n",
    "                        return False\n",
    "                    except:\n",
    "                        return True\n",
    "\n",
    "                corrupted = is_image_corrupted(image_path)\n",
    "                if corrupted:\n",
    "                    print(\"The image is corrupted.\")\n",
    "                else:\n",
    "                    pass\n",
    "\n",
    "\n",
    "                corrupted_images.append(image_path)\n",
    "    \n",
    "        return corrupted_images\n",
    "    except:\n",
    "        print(loader)\n",
    "# Loop over the train loader and identify corrupted images\n",
    "corrupted_train_images = identify_corrupted_images(train_loader)\n",
    "\n",
    "# # Loop over the validation loader and identify corrupted images\n",
    "# corrupted_val_images = identify_corrupted_images(val_loader)\n",
    "\n",
    "# # Loop over the test loader and identify corrupted images\n",
    "# corrupted_test_images = identify_corrupted_images(test_loader)\n"
   ]
  },
  {
   "cell_type": "code",
   "execution_count": 24,
   "id": "abe9d5ad",
   "metadata": {},
   "outputs": [],
   "source": [
    "# def is_image_truncated(image_path):\n",
    "#     try:\n",
    "#         # Open the image to check if it's valid\n",
    "#         with Image.open(image_path) as image:\n",
    "#             # Check if any operations can be performed on the image without errors\n",
    "#             image.verify()\n",
    "#         return False\n",
    "#     except (OSError, SyntaxError):\n",
    "#         return True"
   ]
  },
  {
   "cell_type": "code",
   "execution_count": 25,
   "id": "b9afdfde",
   "metadata": {},
   "outputs": [],
   "source": [
    "# import os\n",
    "# from PIL import Image\n",
    "\n",
    "# # Specify the root directory containing the subdirectories with images\n",
    "# root_dir = '/home/lenovo/Desktop/Barham/Journal_Sign_Language/Journal Work/Main Notebooks/Final Data Version'\n",
    "\n",
    "# # Iterate over the subdirectories and files\n",
    "# for subdir, dirs, files in os.walk(root_dir):\n",
    "\n",
    "#     for file in files:\n",
    "#         # Check if the file is an image (you can add more image file extensions if needed)\n",
    "#         if file.endswith('.jpg') or file.endswith('.jpeg') or file.endswith('.png'):\n",
    "            \n",
    "#             # Create the image path\n",
    "#             image_path = os.path.join(subdir, file)\n",
    "\n",
    "#             # Open the image using PIL\n",
    "\n",
    "#             image = Image.open(image_path)\n",
    "\n",
    "#             if is_image_truncated(image_path):\n",
    "#                 print(image_path)\n",
    "#                 print('The image file is truncated.')\n",
    "#             else:\n",
    "#                 print(image_path)\n",
    "#                 # print('The image file is not truncated.')"
   ]
  },
  {
   "cell_type": "markdown",
   "id": "81c03c20",
   "metadata": {},
   "source": [
    "### Check the images"
   ]
  },
  {
   "cell_type": "code",
   "execution_count": 26,
   "id": "5a20ca06",
   "metadata": {},
   "outputs": [],
   "source": [
    "import matplotlib.pyplot as plt"
   ]
  },
  {
   "cell_type": "code",
   "execution_count": 27,
   "id": "f66f698d",
   "metadata": {},
   "outputs": [],
   "source": [
    "examples = iter(test_loader)\n",
    "example_data, example_targets, paths = examples.next()"
   ]
  },
  {
   "cell_type": "code",
   "execution_count": 28,
   "id": "bd035a7f",
   "metadata": {},
   "outputs": [
    {
     "data": {
      "image/png": "[encoded data removed]",
      "text/plain": [
       "<Figure size 720x720 with 16 Axes>"
      ]
     },
     "metadata": {
      "needs_background": "light"
     },
     "output_type": "display_data"
    }
   ],
   "source": [
    "import matplotlib.pyplot as plt\n",
    "\n",
    "fig, axes = plt.subplots(4, 4, figsize=(10, 10))\n",
    "\n",
    "for i, ax in enumerate(axes.flat):\n",
    "    ax.imshow(example_data[i].permute(1, 2, 0))\n",
    "    # ax.axis('off')  # Turn off axis labels for each subplot\n",
    "\n",
    "plt.subplots_adjust(wspace=0.3, hspace=0.3)  # Adjust the spacing between subplots\n",
    "\n",
    "plt.show()"
   ]
  },
  {
   "cell_type": "markdown",
   "id": "df58be5a",
   "metadata": {},
   "source": [
    "### Add Tensorboard"
   ]
  },
  {
   "cell_type": "code",
   "execution_count": 29,
   "id": "c90ef130",
   "metadata": {},
   "outputs": [],
   "source": [
    "# Load the TensorBoard notebook extension\n",
    "# %load_ext tensorboard"
   ]
  },
  {
   "cell_type": "code",
   "execution_count": 30,
   "id": "ba8fa101",
   "metadata": {},
   "outputs": [],
   "source": [
    "from torch.utils.tensorboard import SummaryWriter\n",
    "# default `log_dir` is \"runs\" - we'll be more specific here\n",
    "writer = SummaryWriter(f\"runs/{tensor_baord_variable}\")"
   ]
  },
  {
   "cell_type": "code",
   "execution_count": 31,
   "id": "da17ff31",
   "metadata": {},
   "outputs": [],
   "source": [
    "############## TENSORBOARD ########################\n",
    "img_grid = torchvision.utils.make_grid(example_data)\n",
    "writer.add_image(\n",
    "    f'images_{tensor_baord_variable}', img_grid)\n",
    "writer.close()"
   ]
  },
  {
   "cell_type": "code",
   "execution_count": 32,
   "id": "df6c1503",
   "metadata": {},
   "outputs": [
    {
     "name": "stderr",
     "output_type": "stream",
     "text": [
      "UsageError: Line magic function `%tensorboard` not found.\n"
     ]
    }
   ],
   "source": [
    "%tensorboard --logdir=\"runs/{tensor_baord_variable}\""
   ]
  },
  {
   "cell_type": "markdown",
   "id": "24503ea2",
   "metadata": {},
   "source": [
    "## Data visulization"
   ]
  },
  {
   "cell_type": "code",
   "execution_count": 33,
   "id": "e1cd77be",
   "metadata": {},
   "outputs": [],
   "source": [
    "from collections import Counter\n",
    "import numpy as np"
   ]
  },
  {
   "cell_type": "code",
   "execution_count": 34,
   "id": "f0d103d1",
   "metadata": {},
   "outputs": [],
   "source": [
    "training_Targets = [] \n",
    "validation_Targets = [] \n",
    "testing_Targets = [] \n",
    "\n",
    "for i in X_train: \n",
    "  training_Targets.append(dataset.targets[i])\n",
    "\n",
    "for i in X_validation: \n",
    "  validation_Targets.append(dataset.targets[i])\n",
    "\n",
    "for i in X_test_after: \n",
    "  testing_Targets.append(dataset.targets[i])"
   ]
  },
  {
   "cell_type": "code",
   "execution_count": 35,
   "id": "1d23ad8f",
   "metadata": {},
   "outputs": [],
   "source": [
    "C_training   = Counter(training_Targets) \n",
    "C_validation = Counter(validation_Targets)\n",
    "C_testing    = Counter(testing_Targets)"
   ]
  },
  {
   "cell_type": "code",
   "execution_count": 36,
   "id": "b6bd178b",
   "metadata": {},
   "outputs": [
    {
     "data": {
      "text/plain": [
       "['Ain',\n",
       " 'Al',\n",
       " 'Alef',\n",
       " 'Beh',\n",
       " 'Dad',\n",
       " 'Dal',\n",
       " 'Feh',\n",
       " 'Ghain',\n",
       " 'Hah',\n",
       " 'Heh',\n",
       " 'Jeem',\n",
       " 'Kaf',\n",
       " 'Khah',\n",
       " 'Laa',\n",
       " 'Lam',\n",
       " 'Meem',\n",
       " 'Noon',\n",
       " 'Qaf',\n",
       " 'Reh',\n",
       " 'Sad',\n",
       " 'Seen',\n",
       " 'Sheen',\n",
       " 'Tah',\n",
       " 'Teh',\n",
       " 'Teh_Marbuta',\n",
       " 'Thal',\n",
       " 'Theh',\n",
       " 'Waw',\n",
       " 'Yeh',\n",
       " 'Zah',\n",
       " 'Zain']"
      ]
     },
     "execution_count": 36,
     "metadata": {},
     "output_type": "execute_result"
    }
   ],
   "source": [
    "dataset.classes"
   ]
  },
  {
   "cell_type": "markdown",
   "id": "179ba664",
   "metadata": {},
   "source": [
    "#### Training dataset"
   ]
  },
  {
   "cell_type": "code",
   "execution_count": 37,
   "id": "4c23f105",
   "metadata": {},
   "outputs": [
    {
     "data": {
      "text/plain": [
       "Text(0.5, 0, 'Label')"
      ]
     },
     "execution_count": 37,
     "metadata": {},
     "output_type": "execute_result"
    },
    {
     "data": {
      "image/png": "[encoded data removed]",
      "text/plain": [
       "<Figure size 1440x720 with 1 Axes>"
      ]
     },
     "metadata": {
      "needs_background": "light"
     },
     "output_type": "display_data"
    }
   ],
   "source": [
    "plt.figure(figsize=(20,10))\n",
    "plt.bar(C_training.keys(), height=C_training.values(), color=\"green\")\n",
    "\n",
    "tick_marks = np.arange(len(dataset.classes));\n",
    "\n",
    "plt.xticks(tick_marks, dataset.classes, fontsize=16 , rotation=90);\n",
    "plt.yticks(fontsize=16);\n",
    "\n",
    "plt.ylabel('Frequency', fontsize=20, labelpad=30)\n",
    "plt.xlabel('Label', fontsize=20, labelpad=30)"
   ]
  },
  {
   "cell_type": "markdown",
   "id": "0eda43f4",
   "metadata": {},
   "source": [
    "#### Validation dataset"
   ]
  },
  {
   "cell_type": "code",
   "execution_count": 38,
   "id": "4eba46f9",
   "metadata": {},
   "outputs": [
    {
     "data": {
      "text/plain": [
       "Text(0.5, 0, 'Label')"
      ]
     },
     "execution_count": 38,
     "metadata": {},
     "output_type": "execute_result"
    },
    {
     "data": {
      "image/png": "[encoded data removed]",
      "text/plain": [
       "<Figure size 1440x720 with 1 Axes>"
      ]
     },
     "metadata": {
      "needs_background": "light"
     },
     "output_type": "display_data"
    }
   ],
   "source": [
    "plt.figure(figsize=(20,10))\n",
    "plt.bar(C_validation.keys(), height=C_validation.values())\n",
    "\n",
    "tick_marks = np.arange(len(dataset.classes));\n",
    "\n",
    "plt.xticks(tick_marks, dataset.classes, fontsize=16 , rotation=90);\n",
    "plt.yticks(fontsize=16);\n",
    "plt.ylabel('Frequency', fontsize=20, labelpad=30)\n",
    "plt.xlabel('Label', fontsize=20, labelpad=30)"
   ]
  },
  {
   "cell_type": "markdown",
   "id": "3cc3366f",
   "metadata": {},
   "source": [
    "#### Testing Dataset"
   ]
  },
  {
   "cell_type": "code",
   "execution_count": 39,
   "id": "b2843414",
   "metadata": {},
   "outputs": [
    {
     "data": {
      "text/plain": [
       "Text(0.5, 0, 'Label')"
      ]
     },
     "execution_count": 39,
     "metadata": {},
     "output_type": "execute_result"
    },
    {
     "data": {
      "image/png": "[encoded data removed]",
      "text/plain": [
       "<Figure size 1440x720 with 1 Axes>"
      ]
     },
     "metadata": {
      "needs_background": "light"
     },
     "output_type": "display_data"
    }
   ],
   "source": [
    "plt.figure(figsize=(20,10))\n",
    "\n",
    "plt.bar(C_testing.keys(), height=C_testing.values())\n",
    "\n",
    "tick_marks = np.arange(len(dataset.classes));\n",
    "\n",
    "plt.xticks(tick_marks, dataset.classes, fontsize=16 , rotation=90);\n",
    "plt.yticks(fontsize=16);\n",
    "plt.ylabel('Frequency', fontsize=20, labelpad=30)\n",
    "plt.xlabel('Label', fontsize=20, labelpad=30)"
   ]
  },
  {
   "cell_type": "markdown",
   "id": "0556ef8e",
   "metadata": {},
   "source": [
    "## Model Defenition"
   ]
  },
  {
   "cell_type": "code",
   "execution_count": 40,
   "id": "7cab301c",
   "metadata": {},
   "outputs": [],
   "source": [
    "import torchvision.models as models\n",
    "import torch.nn.functional as F"
   ]
  },
  {
   "cell_type": "code",
   "execution_count": 41,
   "id": "f01cecf6",
   "metadata": {},
   "outputs": [
    {
     "data": {
      "text/plain": [
       "AlexNet(\n",
       "  (features): Sequential(\n",
       "    (0): Conv2d(3, 64, kernel_size=(11, 11), stride=(4, 4), padding=(2, 2))\n",
       "    (1): ReLU(inplace=True)\n",
       "    (2): MaxPool2d(kernel_size=3, stride=2, padding=0, dilation=1, ceil_mode=False)\n",
       "    (3): Conv2d(64, 192, kernel_size=(5, 5), stride=(1, 1), padding=(2, 2))\n",
       "    (4): ReLU(inplace=True)\n",
       "    (5): MaxPool2d(kernel_size=3, stride=2, padding=0, dilation=1, ceil_mode=False)\n",
       "    (6): Conv2d(192, 384, kernel_size=(3, 3), stride=(1, 1), padding=(1, 1))\n",
       "    (7): ReLU(inplace=True)\n",
       "    (8): Conv2d(384, 256, kernel_size=(3, 3), stride=(1, 1), padding=(1, 1))\n",
       "    (9): ReLU(inplace=True)\n",
       "    (10): Conv2d(256, 256, kernel_size=(3, 3), stride=(1, 1), padding=(1, 1))\n",
       "    (11): ReLU(inplace=True)\n",
       "    (12): MaxPool2d(kernel_size=3, stride=2, padding=0, dilation=1, ceil_mode=False)\n",
       "  )\n",
       "  (avgpool): AdaptiveAvgPool2d(output_size=(6, 6))\n",
       "  (classifier): Sequential(\n",
       "    (0): Dropout(p=0.5, inplace=False)\n",
       "    (1): Linear(in_features=9216, out_features=4096, bias=True)\n",
       "    (2): ReLU(inplace=True)\n",
       "    (3): Dropout(p=0.5, inplace=False)\n",
       "    (4): Linear(in_features=4096, out_features=4096, bias=True)\n",
       "    (5): ReLU(inplace=True)\n",
       "    (6): Linear(in_features=4096, out_features=1000, bias=True)\n",
       "  )\n",
       ")"
      ]
     },
     "execution_count": 41,
     "metadata": {},
     "output_type": "execute_result"
    }
   ],
   "source": [
    "# Downloading: \"https://download.pytorch.org/models/alexnet-owt-7be5be79.pth\" to /home/lenovo/.cache/torch/hub/checkpoints/alexnet-owt-7be5be79.pth\n",
    "model = models.alexnet(pretrained=True)\n",
    "model"
   ]
  },
  {
   "cell_type": "code",
   "execution_count": 42,
   "id": "eb0987d6",
   "metadata": {},
   "outputs": [
    {
     "data": {
      "text/plain": [
       "Linear(in_features=4096, out_features=1000, bias=True)"
      ]
     },
     "execution_count": 42,
     "metadata": {},
     "output_type": "execute_result"
    }
   ],
   "source": [
    "model.classifier[6] "
   ]
  },
  {
   "cell_type": "code",
   "execution_count": 43,
   "id": "83f6998f",
   "metadata": {},
   "outputs": [],
   "source": [
    "num_of_output_classes = 31\n",
    "# change the last conv2d layer\n",
    "model.classifier[6] = nn.Conv2d(512, num_of_output_classes, kernel_size=(1, 1))\n",
    "# change the internal num_classes variable rather than redefining the forward pass\n",
    "model.num_classes = num_of_output_classes"
   ]
  },
  {
   "cell_type": "code",
   "execution_count": 44,
   "id": "c17509dc",
   "metadata": {},
   "outputs": [
    {
     "data": {
      "text/plain": [
       "AlexNet(\n",
       "  (features): Sequential(\n",
       "    (0): Conv2d(3, 64, kernel_size=(11, 11), stride=(4, 4), padding=(2, 2))\n",
       "    (1): ReLU(inplace=True)\n",
       "    (2): MaxPool2d(kernel_size=3, stride=2, padding=0, dilation=1, ceil_mode=False)\n",
       "    (3): Conv2d(64, 192, kernel_size=(5, 5), stride=(1, 1), padding=(2, 2))\n",
       "    (4): ReLU(inplace=True)\n",
       "    (5): MaxPool2d(kernel_size=3, stride=2, padding=0, dilation=1, ceil_mode=False)\n",
       "    (6): Conv2d(192, 384, kernel_size=(3, 3), stride=(1, 1), padding=(1, 1))\n",
       "    (7): ReLU(inplace=True)\n",
       "    (8): Conv2d(384, 256, kernel_size=(3, 3), stride=(1, 1), padding=(1, 1))\n",
       "    (9): ReLU(inplace=True)\n",
       "    (10): Conv2d(256, 256, kernel_size=(3, 3), stride=(1, 1), padding=(1, 1))\n",
       "    (11): ReLU(inplace=True)\n",
       "    (12): MaxPool2d(kernel_size=3, stride=2, padding=0, dilation=1, ceil_mode=False)\n",
       "  )\n",
       "  (avgpool): AdaptiveAvgPool2d(output_size=(6, 6))\n",
       "  (classifier): Sequential(\n",
       "    (0): Dropout(p=0.5, inplace=False)\n",
       "    (1): Linear(in_features=9216, out_features=4096, bias=True)\n",
       "    (2): ReLU(inplace=True)\n",
       "    (3): Dropout(p=0.5, inplace=False)\n",
       "    (4): Linear(in_features=4096, out_features=4096, bias=True)\n",
       "    (5): ReLU(inplace=True)\n",
       "    (6): Conv2d(512, 31, kernel_size=(1, 1), stride=(1, 1))\n",
       "  )\n",
       ")"
      ]
     },
     "execution_count": 44,
     "metadata": {},
     "output_type": "execute_result"
    }
   ],
   "source": [
    "model "
   ]
  },
  {
   "cell_type": "code",
   "execution_count": 45,
   "id": "0221836f",
   "metadata": {},
   "outputs": [
    {
     "name": "stdout",
     "output_type": "stream",
     "text": [
      "31\n"
     ]
    }
   ],
   "source": [
    "class Model(nn.Module):\n",
    "\n",
    "    def __init__(self, in_channels=3, num_class =31 ):\n",
    "        super(Model, self).__init__()\n",
    "\n",
    "        self.model = models.alexnet(pretrained=True)\n",
    "        \n",
    "#         for param in self.model.parameters():\n",
    "#             param.requires_grad = False\n",
    "\n",
    "        num_ftrs = self.model.classifier[6].in_features\n",
    "        features = list(self.model.classifier.children())[:-1] # Remove last layer\n",
    "        features.extend([nn.Linear(num_ftrs, num_class)])\n",
    "        self.model.classifier = nn.Sequential(*features)\n",
    "        print(self.model.classifier[6].out_features)\n",
    "\n",
    "    def forward(self, x):\n",
    "        return self.model(x)\n",
    "\n",
    "model = Model()"
   ]
  },
  {
   "cell_type": "code",
   "execution_count": 46,
   "id": "12230230",
   "metadata": {},
   "outputs": [
    {
     "data": {
      "text/plain": [
       "Model(\n",
       "  (model): AlexNet(\n",
       "    (features): Sequential(\n",
       "      (0): Conv2d(3, 64, kernel_size=(11, 11), stride=(4, 4), padding=(2, 2))\n",
       "      (1): ReLU(inplace=True)\n",
       "      (2): MaxPool2d(kernel_size=3, stride=2, padding=0, dilation=1, ceil_mode=False)\n",
       "      (3): Conv2d(64, 192, kernel_size=(5, 5), stride=(1, 1), padding=(2, 2))\n",
       "      (4): ReLU(inplace=True)\n",
       "      (5): MaxPool2d(kernel_size=3, stride=2, padding=0, dilation=1, ceil_mode=False)\n",
       "      (6): Conv2d(192, 384, kernel_size=(3, 3), stride=(1, 1), padding=(1, 1))\n",
       "      (7): ReLU(inplace=True)\n",
       "      (8): Conv2d(384, 256, kernel_size=(3, 3), stride=(1, 1), padding=(1, 1))\n",
       "      (9): ReLU(inplace=True)\n",
       "      (10): Conv2d(256, 256, kernel_size=(3, 3), stride=(1, 1), padding=(1, 1))\n",
       "      (11): ReLU(inplace=True)\n",
       "      (12): MaxPool2d(kernel_size=3, stride=2, padding=0, dilation=1, ceil_mode=False)\n",
       "    )\n",
       "    (avgpool): AdaptiveAvgPool2d(output_size=(6, 6))\n",
       "    (classifier): Sequential(\n",
       "      (0): Dropout(p=0.5, inplace=False)\n",
       "      (1): Linear(in_features=9216, out_features=4096, bias=True)\n",
       "      (2): ReLU(inplace=True)\n",
       "      (3): Dropout(p=0.5, inplace=False)\n",
       "      (4): Linear(in_features=4096, out_features=4096, bias=True)\n",
       "      (5): ReLU(inplace=True)\n",
       "      (6): Linear(in_features=4096, out_features=31, bias=True)\n",
       "    )\n",
       "  )\n",
       ")"
      ]
     },
     "execution_count": 46,
     "metadata": {},
     "output_type": "execute_result"
    }
   ],
   "source": [
    "# Move the model to the device\n",
    "model.to(device)"
   ]
  },
  {
   "cell_type": "markdown",
   "id": "9c1fe960",
   "metadata": {},
   "source": [
    "### Check the gradient of layers of ResNet-18"
   ]
  },
  {
   "cell_type": "code",
   "execution_count": 47,
   "id": "e51680ac",
   "metadata": {},
   "outputs": [],
   "source": [
    "for param in model.parameters():\n",
    "    if not param.requires_grad:\n",
    "        print(\"Freezing found on the layers\")"
   ]
  },
  {
   "cell_type": "markdown",
   "id": "7134c9fe",
   "metadata": {},
   "source": [
    "## Define a Loss function and optimizer"
   ]
  },
  {
   "cell_type": "code",
   "execution_count": 48,
   "id": "2763041c",
   "metadata": {},
   "outputs": [
    {
     "data": {
      "text/plain": [
       "SGD (\n",
       "Parameter Group 0\n",
       "    dampening: 0\n",
       "    lr: 0.1\n",
       "    momentum: 0\n",
       "    nesterov: False\n",
       "    weight_decay: 0\n",
       ")"
      ]
     },
     "execution_count": 48,
     "metadata": {},
     "output_type": "execute_result"
    }
   ],
   "source": [
    "# Define my Loss \n",
    "\n",
    "loss = nn.CrossEntropyLoss()\n",
    "\n",
    "# Define my optimizer \n",
    "\n",
    "params = model.parameters()\n",
    "optimzer = optim.SGD(params, lr=0.1)\n",
    "\n",
    "optimzer"
   ]
  },
  {
   "cell_type": "markdown",
   "id": "7fa6c367",
   "metadata": {},
   "source": [
    "## Model Training & Validation"
   ]
  },
  {
   "cell_type": "code",
   "execution_count": 49,
   "id": "dfdb9f5e",
   "metadata": {},
   "outputs": [],
   "source": [
    "from tqdm import tqdm "
   ]
  },
  {
   "cell_type": "markdown",
   "id": "7f9fad86",
   "metadata": {},
   "source": [
    "### Model training & Validation"
   ]
  },
  {
   "cell_type": "code",
   "execution_count": 50,
   "id": "778f4fcb",
   "metadata": {},
   "outputs": [],
   "source": [
    "# early stopping patience; how long to wait after last time validation loss improved.\n",
    "patience = 10"
   ]
  },
  {
   "cell_type": "code",
   "execution_count": 51,
   "id": "dd000cdc",
   "metadata": {},
   "outputs": [],
   "source": [
    "# import EarlyStopping\n",
    "from pytorchtools import EarlyStopping"
   ]
  },
  {
   "cell_type": "code",
   "execution_count": 52,
   "id": "c189fe5d",
   "metadata": {},
   "outputs": [],
   "source": [
    "# initialize the early_stopping object\n",
    "early_stopping = EarlyStopping(patience=patience, verbose=True)"
   ]
  },
  {
   "cell_type": "code",
   "execution_count": 53,
   "id": "d65a6415",
   "metadata": {},
   "outputs": [],
   "source": [
    "All_end_eopch_training_loss = []\n",
    "All_end_eopch_validation_loss = []"
   ]
  },
  {
   "cell_type": "code",
   "execution_count": 54,
   "id": "683f1e42",
   "metadata": {
    "scrolled": true
   },
   "outputs": [
    {
     "name": "stderr",
     "output_type": "stream",
     "text": [
      "                                                             \r"
     ]
    },
    {
     "name": "stdout",
     "output_type": "stream",
     "text": [
      "\n",
      "Epoch 1/300,  Step [86/86], Avg training loss:  nan, Avg training accuracy :  3.12500000%\n",
      "\n"
     ]
    },
    {
     "name": "stderr",
     "output_type": "stream",
     "text": [
      "                                               \r"
     ]
    },
    {
     "name": "stdout",
     "output_type": "stream",
     "text": [
      "\n",
      "Epoch 1, Avg validation loss: nan, Avg validation accuracy : 3.41130607%\n",
      "\n",
      "Validation loss decreased (inf --> nan).  Saving model ...\n"
     ]
    },
    {
     "name": "stderr",
     "output_type": "stream",
     "text": [
      "                                                             \r"
     ]
    },
    {
     "name": "stdout",
     "output_type": "stream",
     "text": [
      "\n",
      "Epoch 2/300,  Step [86/86], Avg training loss:  nan, Avg training accuracy :  3.10683139%\n",
      "\n"
     ]
    },
    {
     "name": "stderr",
     "output_type": "stream",
     "text": [
      "                                               \r"
     ]
    },
    {
     "name": "stdout",
     "output_type": "stream",
     "text": [
      "\n",
      "Epoch 2, Avg validation loss: nan, Avg validation accuracy : 3.41130607%\n",
      "\n",
      "Validation loss decreased (nan --> nan).  Saving model ...\n"
     ]
    },
    {
     "name": "stderr",
     "output_type": "stream",
     "text": [
      "                                                             \r"
     ]
    },
    {
     "name": "stdout",
     "output_type": "stream",
     "text": [
      "\n",
      "Epoch 3/300,  Step [86/86], Avg training loss:  nan, Avg training accuracy :  3.10683139%\n",
      "\n"
     ]
    },
    {
     "name": "stderr",
     "output_type": "stream",
     "text": [
      "                                               \r"
     ]
    },
    {
     "name": "stdout",
     "output_type": "stream",
     "text": [
      "\n",
      "Epoch 3, Avg validation loss: nan, Avg validation accuracy : 3.41130607%\n",
      "\n",
      "Validation loss decreased (nan --> nan).  Saving model ...\n"
     ]
    },
    {
     "name": "stderr",
     "output_type": "stream",
     "text": [
      "                                                             \r"
     ]
    },
    {
     "name": "stdout",
     "output_type": "stream",
     "text": [
      "\n",
      "Epoch 4/300,  Step [86/86], Avg training loss:  nan, Avg training accuracy :  3.10683139%\n",
      "\n"
     ]
    },
    {
     "name": "stderr",
     "output_type": "stream",
     "text": [
      "                                               \r"
     ]
    },
    {
     "name": "stdout",
     "output_type": "stream",
     "text": [
      "\n",
      "Epoch 4, Avg validation loss: nan, Avg validation accuracy : 3.41130607%\n",
      "\n",
      "Validation loss decreased (nan --> nan).  Saving model ...\n"
     ]
    },
    {
     "name": "stderr",
     "output_type": "stream",
     "text": [
      "                                                             \r"
     ]
    },
    {
     "name": "stdout",
     "output_type": "stream",
     "text": [
      "\n",
      "Epoch 5/300,  Step [86/86], Avg training loss:  nan, Avg training accuracy :  3.10683139%\n",
      "\n"
     ]
    },
    {
     "name": "stderr",
     "output_type": "stream",
     "text": [
      "                                               \r"
     ]
    },
    {
     "name": "stdout",
     "output_type": "stream",
     "text": [
      "\n",
      "Epoch 5, Avg validation loss: nan, Avg validation accuracy : 3.41130607%\n",
      "\n",
      "Validation loss decreased (nan --> nan).  Saving model ...\n"
     ]
    },
    {
     "name": "stderr",
     "output_type": "stream",
     "text": [
      "                                                             \r"
     ]
    },
    {
     "name": "stdout",
     "output_type": "stream",
     "text": [
      "\n",
      "Epoch 6/300,  Step [86/86], Avg training loss:  nan, Avg training accuracy :  3.10683139%\n",
      "\n"
     ]
    },
    {
     "name": "stderr",
     "output_type": "stream",
     "text": [
      "                                               \r"
     ]
    },
    {
     "name": "stdout",
     "output_type": "stream",
     "text": [
      "\n",
      "Epoch 6, Avg validation loss: nan, Avg validation accuracy : 3.41130607%\n",
      "\n",
      "Validation loss decreased (nan --> nan).  Saving model ...\n"
     ]
    },
    {
     "name": "stderr",
     "output_type": "stream",
     "text": [
      "                                                             \r"
     ]
    },
    {
     "name": "stdout",
     "output_type": "stream",
     "text": [
      "\n",
      "Epoch 7/300,  Step [86/86], Avg training loss:  nan, Avg training accuracy :  3.10683139%\n",
      "\n"
     ]
    },
    {
     "name": "stderr",
     "output_type": "stream",
     "text": [
      "                                               \r"
     ]
    },
    {
     "name": "stdout",
     "output_type": "stream",
     "text": [
      "\n",
      "Epoch 7, Avg validation loss: nan, Avg validation accuracy : 3.41130607%\n",
      "\n",
      "Validation loss decreased (nan --> nan).  Saving model ...\n"
     ]
    },
    {
     "name": "stderr",
     "output_type": "stream",
     "text": [
      "                                                             \r"
     ]
    },
    {
     "name": "stdout",
     "output_type": "stream",
     "text": [
      "\n",
      "Epoch 8/300,  Step [86/86], Avg training loss:  nan, Avg training accuracy :  3.10683139%\n",
      "\n"
     ]
    },
    {
     "name": "stderr",
     "output_type": "stream",
     "text": [
      "                                               \r"
     ]
    },
    {
     "name": "stdout",
     "output_type": "stream",
     "text": [
      "\n",
      "Epoch 8, Avg validation loss: nan, Avg validation accuracy : 3.41130607%\n",
      "\n",
      "Validation loss decreased (nan --> nan).  Saving model ...\n"
     ]
    },
    {
     "name": "stderr",
     "output_type": "stream",
     "text": [
      "                                                             \r"
     ]
    },
    {
     "name": "stdout",
     "output_type": "stream",
     "text": [
      "\n",
      "Epoch 9/300,  Step [86/86], Avg training loss:  nan, Avg training accuracy :  3.10683139%\n",
      "\n"
     ]
    },
    {
     "name": "stderr",
     "output_type": "stream",
     "text": [
      "                                               \r"
     ]
    },
    {
     "name": "stdout",
     "output_type": "stream",
     "text": [
      "\n",
      "Epoch 9, Avg validation loss: nan, Avg validation accuracy : 3.41130607%\n",
      "\n",
      "Validation loss decreased (nan --> nan).  Saving model ...\n"
     ]
    },
    {
     "name": "stderr",
     "output_type": "stream",
     "text": [
      "                                                             \r"
     ]
    },
    {
     "name": "stdout",
     "output_type": "stream",
     "text": [
      "\n",
      "Epoch 10/300,  Step [86/86], Avg training loss:  nan, Avg training accuracy :  3.10683139%\n",
      "\n"
     ]
    },
    {
     "name": "stderr",
     "output_type": "stream",
     "text": [
      "                                               \r"
     ]
    },
    {
     "name": "stdout",
     "output_type": "stream",
     "text": [
      "\n",
      "Epoch 10, Avg validation loss: nan, Avg validation accuracy : 3.41130607%\n",
      "\n",
      "Validation loss decreased (nan --> nan).  Saving model ...\n"
     ]
    },
    {
     "name": "stderr",
     "output_type": "stream",
     "text": [
      "                                                              \r"
     ]
    },
    {
     "name": "stdout",
     "output_type": "stream",
     "text": [
      "\n",
      "Epoch 11/300,  Step [86/86], Avg training loss:  nan, Avg training accuracy :  3.10683139%\n",
      "\n"
     ]
    },
    {
     "name": "stderr",
     "output_type": "stream",
     "text": [
      "                                               \r"
     ]
    },
    {
     "name": "stdout",
     "output_type": "stream",
     "text": [
      "\n",
      "Epoch 11, Avg validation loss: nan, Avg validation accuracy : 3.41130607%\n",
      "\n",
      "Validation loss decreased (nan --> nan).  Saving model ...\n"
     ]
    },
    {
     "name": "stderr",
     "output_type": "stream",
     "text": [
      "                                                              \r"
     ]
    },
    {
     "name": "stdout",
     "output_type": "stream",
     "text": [
      "\n",
      "Epoch 12/300,  Step [86/86], Avg training loss:  nan, Avg training accuracy :  3.10683139%\n",
      "\n"
     ]
    },
    {
     "name": "stderr",
     "output_type": "stream",
     "text": [
      "                                               \r"
     ]
    },
    {
     "name": "stdout",
     "output_type": "stream",
     "text": [
      "\n",
      "Epoch 12, Avg validation loss: nan, Avg validation accuracy : 3.41130607%\n",
      "\n",
      "Validation loss decreased (nan --> nan).  Saving model ...\n"
     ]
    },
    {
     "name": "stderr",
     "output_type": "stream",
     "text": [
      "                                                              \r"
     ]
    },
    {
     "name": "stdout",
     "output_type": "stream",
     "text": [
      "\n",
      "Epoch 13/300,  Step [86/86], Avg training loss:  nan, Avg training accuracy :  3.10683139%\n",
      "\n"
     ]
    },
    {
     "name": "stderr",
     "output_type": "stream",
     "text": [
      "                                               \r"
     ]
    },
    {
     "name": "stdout",
     "output_type": "stream",
     "text": [
      "\n",
      "Epoch 13, Avg validation loss: nan, Avg validation accuracy : 3.41130607%\n",
      "\n",
      "Validation loss decreased (nan --> nan).  Saving model ...\n"
     ]
    },
    {
     "name": "stderr",
     "output_type": "stream",
     "text": [
      "                                                              \r"
     ]
    },
    {
     "name": "stdout",
     "output_type": "stream",
     "text": [
      "\n",
      "Epoch 14/300,  Step [86/86], Avg training loss:  nan, Avg training accuracy :  3.10683139%\n",
      "\n"
     ]
    },
    {
     "name": "stderr",
     "output_type": "stream",
     "text": [
      "                                               \r"
     ]
    },
    {
     "name": "stdout",
     "output_type": "stream",
     "text": [
      "\n",
      "Epoch 14, Avg validation loss: nan, Avg validation accuracy : 3.41130607%\n",
      "\n",
      "Validation loss decreased (nan --> nan).  Saving model ...\n"
     ]
    },
    {
     "name": "stderr",
     "output_type": "stream",
     "text": [
      "                                                              \r"
     ]
    },
    {
     "name": "stdout",
     "output_type": "stream",
     "text": [
      "\n",
      "Epoch 15/300,  Step [86/86], Avg training loss:  nan, Avg training accuracy :  3.10683139%\n",
      "\n"
     ]
    },
    {
     "name": "stderr",
     "output_type": "stream",
     "text": [
      "                                               \r"
     ]
    },
    {
     "name": "stdout",
     "output_type": "stream",
     "text": [
      "\n",
      "Epoch 15, Avg validation loss: nan, Avg validation accuracy : 3.41130607%\n",
      "\n",
      "Validation loss decreased (nan --> nan).  Saving model ...\n"
     ]
    },
    {
     "name": "stderr",
     "output_type": "stream",
     "text": [
      "                                                              \r"
     ]
    },
    {
     "name": "stdout",
     "output_type": "stream",
     "text": [
      "\n",
      "Epoch 16/300,  Step [86/86], Avg training loss:  nan, Avg training accuracy :  3.10683139%\n",
      "\n"
     ]
    },
    {
     "name": "stderr",
     "output_type": "stream",
     "text": [
      "                                               \r"
     ]
    },
    {
     "name": "stdout",
     "output_type": "stream",
     "text": [
      "\n",
      "Epoch 16, Avg validation loss: nan, Avg validation accuracy : 3.41130607%\n",
      "\n",
      "Validation loss decreased (nan --> nan).  Saving model ...\n"
     ]
    },
    {
     "name": "stderr",
     "output_type": "stream",
     "text": [
      "                                                              \r"
     ]
    },
    {
     "name": "stdout",
     "output_type": "stream",
     "text": [
      "\n",
      "Epoch 17/300,  Step [86/86], Avg training loss:  nan, Avg training accuracy :  3.10683139%\n",
      "\n"
     ]
    },
    {
     "name": "stderr",
     "output_type": "stream",
     "text": [
      "                                               \r"
     ]
    },
    {
     "name": "stdout",
     "output_type": "stream",
     "text": [
      "\n",
      "Epoch 17, Avg validation loss: nan, Avg validation accuracy : 3.41130607%\n",
      "\n",
      "Validation loss decreased (nan --> nan).  Saving model ...\n"
     ]
    },
    {
     "name": "stderr",
     "output_type": "stream",
     "text": [
      "                                                              \r"
     ]
    },
    {
     "name": "stdout",
     "output_type": "stream",
     "text": [
      "\n",
      "Epoch 18/300,  Step [86/86], Avg training loss:  nan, Avg training accuracy :  3.10683139%\n",
      "\n"
     ]
    },
    {
     "name": "stderr",
     "output_type": "stream",
     "text": [
      "                                               \r"
     ]
    },
    {
     "name": "stdout",
     "output_type": "stream",
     "text": [
      "\n",
      "Epoch 18, Avg validation loss: nan, Avg validation accuracy : 3.41130607%\n",
      "\n",
      "Validation loss decreased (nan --> nan).  Saving model ...\n"
     ]
    },
    {
     "name": "stderr",
     "output_type": "stream",
     "text": [
      "                                                              \r"
     ]
    },
    {
     "name": "stdout",
     "output_type": "stream",
     "text": [
      "\n",
      "Epoch 19/300,  Step [86/86], Avg training loss:  nan, Avg training accuracy :  3.10683139%\n",
      "\n"
     ]
    },
    {
     "name": "stderr",
     "output_type": "stream",
     "text": [
      "                                               \r"
     ]
    },
    {
     "name": "stdout",
     "output_type": "stream",
     "text": [
      "\n",
      "Epoch 19, Avg validation loss: nan, Avg validation accuracy : 3.41130607%\n",
      "\n",
      "Validation loss decreased (nan --> nan).  Saving model ...\n"
     ]
    },
    {
     "name": "stderr",
     "output_type": "stream",
     "text": [
      "                                                              \r"
     ]
    },
    {
     "name": "stdout",
     "output_type": "stream",
     "text": [
      "\n",
      "Epoch 20/300,  Step [86/86], Avg training loss:  nan, Avg training accuracy :  3.10683139%\n",
      "\n"
     ]
    },
    {
     "name": "stderr",
     "output_type": "stream",
     "text": [
      "                                               \r"
     ]
    },
    {
     "name": "stdout",
     "output_type": "stream",
     "text": [
      "\n",
      "Epoch 20, Avg validation loss: nan, Avg validation accuracy : 3.41130607%\n",
      "\n",
      "Validation loss decreased (nan --> nan).  Saving model ...\n"
     ]
    },
    {
     "name": "stderr",
     "output_type": "stream",
     "text": [
      "                                                              \r"
     ]
    },
    {
     "name": "stdout",
     "output_type": "stream",
     "text": [
      "\n",
      "Epoch 21/300,  Step [86/86], Avg training loss:  nan, Avg training accuracy :  3.10683139%\n",
      "\n"
     ]
    },
    {
     "name": "stderr",
     "output_type": "stream",
     "text": [
      "                                               \r"
     ]
    },
    {
     "name": "stdout",
     "output_type": "stream",
     "text": [
      "\n",
      "Epoch 21, Avg validation loss: nan, Avg validation accuracy : 3.41130607%\n",
      "\n",
      "Validation loss decreased (nan --> nan).  Saving model ...\n"
     ]
    },
    {
     "name": "stderr",
     "output_type": "stream",
     "text": [
      "                                                              \r"
     ]
    },
    {
     "name": "stdout",
     "output_type": "stream",
     "text": [
      "\n",
      "Epoch 22/300,  Step [86/86], Avg training loss:  nan, Avg training accuracy :  3.10683139%\n",
      "\n"
     ]
    },
    {
     "name": "stderr",
     "output_type": "stream",
     "text": [
      "                                               \r"
     ]
    },
    {
     "name": "stdout",
     "output_type": "stream",
     "text": [
      "\n",
      "Epoch 22, Avg validation loss: nan, Avg validation accuracy : 3.41130607%\n",
      "\n",
      "Validation loss decreased (nan --> nan).  Saving model ...\n"
     ]
    },
    {
     "name": "stderr",
     "output_type": "stream",
     "text": [
      "                                                              \r"
     ]
    },
    {
     "name": "stdout",
     "output_type": "stream",
     "text": [
      "\n",
      "Epoch 23/300,  Step [86/86], Avg training loss:  nan, Avg training accuracy :  3.10683139%\n",
      "\n"
     ]
    },
    {
     "name": "stderr",
     "output_type": "stream",
     "text": [
      "                                               \r"
     ]
    },
    {
     "name": "stdout",
     "output_type": "stream",
     "text": [
      "\n",
      "Epoch 23, Avg validation loss: nan, Avg validation accuracy : 3.41130607%\n",
      "\n",
      "Validation loss decreased (nan --> nan).  Saving model ...\n"
     ]
    },
    {
     "name": "stderr",
     "output_type": "stream",
     "text": [
      "                                                              \r"
     ]
    },
    {
     "name": "stdout",
     "output_type": "stream",
     "text": [
      "\n",
      "Epoch 24/300,  Step [86/86], Avg training loss:  nan, Avg training accuracy :  3.10683139%\n",
      "\n"
     ]
    },
    {
     "name": "stderr",
     "output_type": "stream",
     "text": [
      "                                               \r"
     ]
    },
    {
     "name": "stdout",
     "output_type": "stream",
     "text": [
      "\n",
      "Epoch 24, Avg validation loss: nan, Avg validation accuracy : 3.41130607%\n",
      "\n",
      "Validation loss decreased (nan --> nan).  Saving model ...\n"
     ]
    },
    {
     "name": "stderr",
     "output_type": "stream",
     "text": [
      "                                                              \r"
     ]
    },
    {
     "name": "stdout",
     "output_type": "stream",
     "text": [
      "\n",
      "Epoch 25/300,  Step [86/86], Avg training loss:  nan, Avg training accuracy :  3.10683139%\n",
      "\n"
     ]
    },
    {
     "name": "stderr",
     "output_type": "stream",
     "text": [
      "                                               \r"
     ]
    },
    {
     "name": "stdout",
     "output_type": "stream",
     "text": [
      "\n",
      "Epoch 25, Avg validation loss: nan, Avg validation accuracy : 3.41130607%\n",
      "\n",
      "Validation loss decreased (nan --> nan).  Saving model ...\n"
     ]
    },
    {
     "name": "stderr",
     "output_type": "stream",
     "text": [
      "                                                              \r"
     ]
    },
    {
     "name": "stdout",
     "output_type": "stream",
     "text": [
      "\n",
      "Epoch 26/300,  Step [86/86], Avg training loss:  nan, Avg training accuracy :  3.10683139%\n",
      "\n"
     ]
    },
    {
     "name": "stderr",
     "output_type": "stream",
     "text": [
      "                                               \r"
     ]
    },
    {
     "name": "stdout",
     "output_type": "stream",
     "text": [
      "\n",
      "Epoch 26, Avg validation loss: nan, Avg validation accuracy : 3.41130607%\n",
      "\n",
      "Validation loss decreased (nan --> nan).  Saving model ...\n"
     ]
    },
    {
     "name": "stderr",
     "output_type": "stream",
     "text": [
      "                                                              \r"
     ]
    },
    {
     "name": "stdout",
     "output_type": "stream",
     "text": [
      "\n",
      "Epoch 27/300,  Step [86/86], Avg training loss:  nan, Avg training accuracy :  3.10683139%\n",
      "\n"
     ]
    },
    {
     "name": "stderr",
     "output_type": "stream",
     "text": [
      "                                               \r"
     ]
    },
    {
     "name": "stdout",
     "output_type": "stream",
     "text": [
      "\n",
      "Epoch 27, Avg validation loss: nan, Avg validation accuracy : 3.41130607%\n",
      "\n",
      "Validation loss decreased (nan --> nan).  Saving model ...\n"
     ]
    },
    {
     "name": "stderr",
     "output_type": "stream",
     "text": [
      "                                                              \r"
     ]
    },
    {
     "name": "stdout",
     "output_type": "stream",
     "text": [
      "\n",
      "Epoch 28/300,  Step [86/86], Avg training loss:  nan, Avg training accuracy :  3.10683139%\n",
      "\n"
     ]
    },
    {
     "name": "stderr",
     "output_type": "stream",
     "text": [
      "                                               \r"
     ]
    },
    {
     "name": "stdout",
     "output_type": "stream",
     "text": [
      "\n",
      "Epoch 28, Avg validation loss: nan, Avg validation accuracy : 3.41130607%\n",
      "\n",
      "Validation loss decreased (nan --> nan).  Saving model ...\n"
     ]
    },
    {
     "name": "stderr",
     "output_type": "stream",
     "text": [
      "                                                              \r"
     ]
    },
    {
     "name": "stdout",
     "output_type": "stream",
     "text": [
      "\n",
      "Epoch 29/300,  Step [86/86], Avg training loss:  nan, Avg training accuracy :  3.10683139%\n",
      "\n"
     ]
    },
    {
     "name": "stderr",
     "output_type": "stream",
     "text": [
      "                                               \r"
     ]
    },
    {
     "name": "stdout",
     "output_type": "stream",
     "text": [
      "\n",
      "Epoch 29, Avg validation loss: nan, Avg validation accuracy : 3.41130607%\n",
      "\n",
      "Validation loss decreased (nan --> nan).  Saving model ...\n"
     ]
    },
    {
     "name": "stderr",
     "output_type": "stream",
     "text": [
      "                                                              \r"
     ]
    },
    {
     "name": "stdout",
     "output_type": "stream",
     "text": [
      "\n",
      "Epoch 30/300,  Step [86/86], Avg training loss:  nan, Avg training accuracy :  3.10683139%\n",
      "\n"
     ]
    },
    {
     "name": "stderr",
     "output_type": "stream",
     "text": [
      "                                               \r"
     ]
    },
    {
     "name": "stdout",
     "output_type": "stream",
     "text": [
      "\n",
      "Epoch 30, Avg validation loss: nan, Avg validation accuracy : 3.41130607%\n",
      "\n",
      "Validation loss decreased (nan --> nan).  Saving model ...\n"
     ]
    },
    {
     "name": "stderr",
     "output_type": "stream",
     "text": [
      "                                                              \r"
     ]
    },
    {
     "name": "stdout",
     "output_type": "stream",
     "text": [
      "\n",
      "Epoch 31/300,  Step [86/86], Avg training loss:  nan, Avg training accuracy :  3.10683139%\n",
      "\n"
     ]
    },
    {
     "name": "stderr",
     "output_type": "stream",
     "text": [
      "                                               \r"
     ]
    },
    {
     "name": "stdout",
     "output_type": "stream",
     "text": [
      "\n",
      "Epoch 31, Avg validation loss: nan, Avg validation accuracy : 3.41130607%\n",
      "\n",
      "Validation loss decreased (nan --> nan).  Saving model ...\n"
     ]
    },
    {
     "name": "stderr",
     "output_type": "stream",
     "text": [
      "                                                              \r"
     ]
    },
    {
     "name": "stdout",
     "output_type": "stream",
     "text": [
      "\n",
      "Epoch 32/300,  Step [86/86], Avg training loss:  nan, Avg training accuracy :  3.10683139%\n",
      "\n"
     ]
    },
    {
     "name": "stderr",
     "output_type": "stream",
     "text": [
      "                                               \r"
     ]
    },
    {
     "name": "stdout",
     "output_type": "stream",
     "text": [
      "\n",
      "Epoch 32, Avg validation loss: nan, Avg validation accuracy : 3.41130607%\n",
      "\n",
      "Validation loss decreased (nan --> nan).  Saving model ...\n"
     ]
    },
    {
     "name": "stderr",
     "output_type": "stream",
     "text": [
      "                                                              \r"
     ]
    },
    {
     "name": "stdout",
     "output_type": "stream",
     "text": [
      "\n",
      "Epoch 33/300,  Step [86/86], Avg training loss:  nan, Avg training accuracy :  3.10683139%\n",
      "\n"
     ]
    },
    {
     "name": "stderr",
     "output_type": "stream",
     "text": [
      "                                               \r"
     ]
    },
    {
     "name": "stdout",
     "output_type": "stream",
     "text": [
      "\n",
      "Epoch 33, Avg validation loss: nan, Avg validation accuracy : 3.41130607%\n",
      "\n",
      "Validation loss decreased (nan --> nan).  Saving model ...\n"
     ]
    },
    {
     "name": "stderr",
     "output_type": "stream",
     "text": [
      "                                                              \r"
     ]
    },
    {
     "name": "stdout",
     "output_type": "stream",
     "text": [
      "\n",
      "Epoch 34/300,  Step [86/86], Avg training loss:  nan, Avg training accuracy :  3.10683139%\n",
      "\n"
     ]
    },
    {
     "name": "stderr",
     "output_type": "stream",
     "text": [
      "                                               \r"
     ]
    },
    {
     "name": "stdout",
     "output_type": "stream",
     "text": [
      "\n",
      "Epoch 34, Avg validation loss: nan, Avg validation accuracy : 3.41130607%\n",
      "\n",
      "Validation loss decreased (nan --> nan).  Saving model ...\n"
     ]
    },
    {
     "name": "stderr",
     "output_type": "stream",
     "text": [
      "                                                              \r"
     ]
    },
    {
     "name": "stdout",
     "output_type": "stream",
     "text": [
      "\n",
      "Epoch 35/300,  Step [86/86], Avg training loss:  nan, Avg training accuracy :  3.10683139%\n",
      "\n"
     ]
    },
    {
     "name": "stderr",
     "output_type": "stream",
     "text": [
      "                                               \r"
     ]
    },
    {
     "name": "stdout",
     "output_type": "stream",
     "text": [
      "\n",
      "Epoch 35, Avg validation loss: nan, Avg validation accuracy : 3.41130607%\n",
      "\n",
      "Validation loss decreased (nan --> nan).  Saving model ...\n"
     ]
    },
    {
     "name": "stderr",
     "output_type": "stream",
     "text": [
      "                                                              \r"
     ]
    },
    {
     "name": "stdout",
     "output_type": "stream",
     "text": [
      "\n",
      "Epoch 36/300,  Step [86/86], Avg training loss:  nan, Avg training accuracy :  3.10683139%\n",
      "\n"
     ]
    },
    {
     "name": "stderr",
     "output_type": "stream",
     "text": [
      "                                               \r"
     ]
    },
    {
     "name": "stdout",
     "output_type": "stream",
     "text": [
      "\n",
      "Epoch 36, Avg validation loss: nan, Avg validation accuracy : 3.41130607%\n",
      "\n",
      "Validation loss decreased (nan --> nan).  Saving model ...\n"
     ]
    },
    {
     "name": "stderr",
     "output_type": "stream",
     "text": [
      "                                                              \r"
     ]
    },
    {
     "name": "stdout",
     "output_type": "stream",
     "text": [
      "\n",
      "Epoch 37/300,  Step [86/86], Avg training loss:  nan, Avg training accuracy :  3.10683139%\n",
      "\n"
     ]
    },
    {
     "name": "stderr",
     "output_type": "stream",
     "text": [
      "                                               \r"
     ]
    },
    {
     "name": "stdout",
     "output_type": "stream",
     "text": [
      "\n",
      "Epoch 37, Avg validation loss: nan, Avg validation accuracy : 3.41130607%\n",
      "\n",
      "Validation loss decreased (nan --> nan).  Saving model ...\n"
     ]
    },
    {
     "name": "stderr",
     "output_type": "stream",
     "text": [
      "                                                              \r"
     ]
    },
    {
     "name": "stdout",
     "output_type": "stream",
     "text": [
      "\n",
      "Epoch 38/300,  Step [86/86], Avg training loss:  nan, Avg training accuracy :  3.10683139%\n",
      "\n"
     ]
    },
    {
     "name": "stderr",
     "output_type": "stream",
     "text": [
      "                                               \r"
     ]
    },
    {
     "name": "stdout",
     "output_type": "stream",
     "text": [
      "\n",
      "Epoch 38, Avg validation loss: nan, Avg validation accuracy : 3.41130607%\n",
      "\n",
      "Validation loss decreased (nan --> nan).  Saving model ...\n"
     ]
    },
    {
     "name": "stderr",
     "output_type": "stream",
     "text": [
      "                                                              \r"
     ]
    },
    {
     "name": "stdout",
     "output_type": "stream",
     "text": [
      "\n",
      "Epoch 39/300,  Step [86/86], Avg training loss:  nan, Avg training accuracy :  3.10683139%\n",
      "\n"
     ]
    },
    {
     "name": "stderr",
     "output_type": "stream",
     "text": [
      "                                               \r"
     ]
    },
    {
     "name": "stdout",
     "output_type": "stream",
     "text": [
      "\n",
      "Epoch 39, Avg validation loss: nan, Avg validation accuracy : 3.41130607%\n",
      "\n",
      "Validation loss decreased (nan --> nan).  Saving model ...\n"
     ]
    },
    {
     "name": "stderr",
     "output_type": "stream",
     "text": [
      "                                                              \r"
     ]
    },
    {
     "name": "stdout",
     "output_type": "stream",
     "text": [
      "\n",
      "Epoch 40/300,  Step [86/86], Avg training loss:  nan, Avg training accuracy :  3.10683139%\n",
      "\n"
     ]
    },
    {
     "name": "stderr",
     "output_type": "stream",
     "text": [
      "                                               \r"
     ]
    },
    {
     "name": "stdout",
     "output_type": "stream",
     "text": [
      "\n",
      "Epoch 40, Avg validation loss: nan, Avg validation accuracy : 3.41130607%\n",
      "\n",
      "Validation loss decreased (nan --> nan).  Saving model ...\n"
     ]
    },
    {
     "name": "stderr",
     "output_type": "stream",
     "text": [
      "                                                              \r"
     ]
    },
    {
     "name": "stdout",
     "output_type": "stream",
     "text": [
      "\n",
      "Epoch 41/300,  Step [86/86], Avg training loss:  nan, Avg training accuracy :  3.10683139%\n",
      "\n"
     ]
    },
    {
     "name": "stderr",
     "output_type": "stream",
     "text": [
      "                                               \r"
     ]
    },
    {
     "name": "stdout",
     "output_type": "stream",
     "text": [
      "\n",
      "Epoch 41, Avg validation loss: nan, Avg validation accuracy : 3.41130607%\n",
      "\n",
      "Validation loss decreased (nan --> nan).  Saving model ...\n"
     ]
    },
    {
     "name": "stderr",
     "output_type": "stream",
     "text": [
      "                                                              \r"
     ]
    },
    {
     "name": "stdout",
     "output_type": "stream",
     "text": [
      "\n",
      "Epoch 42/300,  Step [86/86], Avg training loss:  nan, Avg training accuracy :  3.10683139%\n",
      "\n"
     ]
    },
    {
     "name": "stderr",
     "output_type": "stream",
     "text": [
      "                                               \r"
     ]
    },
    {
     "name": "stdout",
     "output_type": "stream",
     "text": [
      "\n",
      "Epoch 42, Avg validation loss: nan, Avg validation accuracy : 3.41130607%\n",
      "\n",
      "Validation loss decreased (nan --> nan).  Saving model ...\n"
     ]
    },
    {
     "name": "stderr",
     "output_type": "stream",
     "text": [
      "                                                              \r"
     ]
    },
    {
     "name": "stdout",
     "output_type": "stream",
     "text": [
      "\n",
      "Epoch 43/300,  Step [86/86], Avg training loss:  nan, Avg training accuracy :  3.10683139%\n",
      "\n"
     ]
    },
    {
     "name": "stderr",
     "output_type": "stream",
     "text": [
      "                                               \r"
     ]
    },
    {
     "name": "stdout",
     "output_type": "stream",
     "text": [
      "\n",
      "Epoch 43, Avg validation loss: nan, Avg validation accuracy : 3.41130607%\n",
      "\n",
      "Validation loss decreased (nan --> nan).  Saving model ...\n"
     ]
    },
    {
     "name": "stderr",
     "output_type": "stream",
     "text": [
      "                                                              \r"
     ]
    },
    {
     "name": "stdout",
     "output_type": "stream",
     "text": [
      "\n",
      "Epoch 44/300,  Step [86/86], Avg training loss:  nan, Avg training accuracy :  3.10683139%\n",
      "\n"
     ]
    },
    {
     "name": "stderr",
     "output_type": "stream",
     "text": [
      "                                               \r"
     ]
    },
    {
     "name": "stdout",
     "output_type": "stream",
     "text": [
      "\n",
      "Epoch 44, Avg validation loss: nan, Avg validation accuracy : 3.41130607%\n",
      "\n",
      "Validation loss decreased (nan --> nan).  Saving model ...\n"
     ]
    },
    {
     "name": "stderr",
     "output_type": "stream",
     "text": [
      "                                                              \r"
     ]
    },
    {
     "name": "stdout",
     "output_type": "stream",
     "text": [
      "\n",
      "Epoch 45/300,  Step [86/86], Avg training loss:  nan, Avg training accuracy :  3.10683139%\n",
      "\n"
     ]
    },
    {
     "name": "stderr",
     "output_type": "stream",
     "text": [
      "                                               \r"
     ]
    },
    {
     "name": "stdout",
     "output_type": "stream",
     "text": [
      "\n",
      "Epoch 45, Avg validation loss: nan, Avg validation accuracy : 3.41130607%\n",
      "\n",
      "Validation loss decreased (nan --> nan).  Saving model ...\n"
     ]
    },
    {
     "name": "stderr",
     "output_type": "stream",
     "text": [
      "                                                              \r"
     ]
    },
    {
     "name": "stdout",
     "output_type": "stream",
     "text": [
      "\n",
      "Epoch 46/300,  Step [86/86], Avg training loss:  nan, Avg training accuracy :  3.10683139%\n",
      "\n"
     ]
    },
    {
     "name": "stderr",
     "output_type": "stream",
     "text": [
      "                                               \r"
     ]
    },
    {
     "name": "stdout",
     "output_type": "stream",
     "text": [
      "\n",
      "Epoch 46, Avg validation loss: nan, Avg validation accuracy : 3.41130607%\n",
      "\n",
      "Validation loss decreased (nan --> nan).  Saving model ...\n"
     ]
    },
    {
     "name": "stderr",
     "output_type": "stream",
     "text": [
      "                                                              \r"
     ]
    },
    {
     "name": "stdout",
     "output_type": "stream",
     "text": [
      "\n",
      "Epoch 47/300,  Step [86/86], Avg training loss:  nan, Avg training accuracy :  3.10683139%\n",
      "\n"
     ]
    },
    {
     "name": "stderr",
     "output_type": "stream",
     "text": [
      "                                               \r"
     ]
    },
    {
     "name": "stdout",
     "output_type": "stream",
     "text": [
      "\n",
      "Epoch 47, Avg validation loss: nan, Avg validation accuracy : 3.41130607%\n",
      "\n",
      "Validation loss decreased (nan --> nan).  Saving model ...\n"
     ]
    },
    {
     "name": "stderr",
     "output_type": "stream",
     "text": [
      "                                                              \r"
     ]
    },
    {
     "name": "stdout",
     "output_type": "stream",
     "text": [
      "\n",
      "Epoch 48/300,  Step [86/86], Avg training loss:  nan, Avg training accuracy :  3.10683139%\n",
      "\n"
     ]
    },
    {
     "name": "stderr",
     "output_type": "stream",
     "text": [
      "                                               \r"
     ]
    },
    {
     "name": "stdout",
     "output_type": "stream",
     "text": [
      "\n",
      "Epoch 48, Avg validation loss: nan, Avg validation accuracy : 3.41130607%\n",
      "\n",
      "Validation loss decreased (nan --> nan).  Saving model ...\n"
     ]
    },
    {
     "name": "stderr",
     "output_type": "stream",
     "text": [
      "                                                              \r"
     ]
    },
    {
     "name": "stdout",
     "output_type": "stream",
     "text": [
      "\n",
      "Epoch 49/300,  Step [86/86], Avg training loss:  nan, Avg training accuracy :  3.10683139%\n",
      "\n"
     ]
    },
    {
     "name": "stderr",
     "output_type": "stream",
     "text": [
      "                                               \r"
     ]
    },
    {
     "name": "stdout",
     "output_type": "stream",
     "text": [
      "\n",
      "Epoch 49, Avg validation loss: nan, Avg validation accuracy : 3.41130607%\n",
      "\n",
      "Validation loss decreased (nan --> nan).  Saving model ...\n"
     ]
    },
    {
     "name": "stderr",
     "output_type": "stream",
     "text": [
      "                                                              \r"
     ]
    },
    {
     "name": "stdout",
     "output_type": "stream",
     "text": [
      "\n",
      "Epoch 50/300,  Step [86/86], Avg training loss:  nan, Avg training accuracy :  3.10683139%\n",
      "\n"
     ]
    },
    {
     "name": "stderr",
     "output_type": "stream",
     "text": [
      "                                               \r"
     ]
    },
    {
     "name": "stdout",
     "output_type": "stream",
     "text": [
      "\n",
      "Epoch 50, Avg validation loss: nan, Avg validation accuracy : 3.41130607%\n",
      "\n",
      "Validation loss decreased (nan --> nan).  Saving model ...\n"
     ]
    },
    {
     "name": "stderr",
     "output_type": "stream",
     "text": [
      "                                                              \r"
     ]
    },
    {
     "name": "stdout",
     "output_type": "stream",
     "text": [
      "\n",
      "Epoch 51/300,  Step [86/86], Avg training loss:  nan, Avg training accuracy :  3.10683139%\n",
      "\n"
     ]
    },
    {
     "name": "stderr",
     "output_type": "stream",
     "text": [
      "                                               \r"
     ]
    },
    {
     "name": "stdout",
     "output_type": "stream",
     "text": [
      "\n",
      "Epoch 51, Avg validation loss: nan, Avg validation accuracy : 3.41130607%\n",
      "\n",
      "Validation loss decreased (nan --> nan).  Saving model ...\n"
     ]
    },
    {
     "name": "stderr",
     "output_type": "stream",
     "text": [
      "                                                              \r"
     ]
    },
    {
     "name": "stdout",
     "output_type": "stream",
     "text": [
      "\n",
      "Epoch 52/300,  Step [86/86], Avg training loss:  nan, Avg training accuracy :  3.10683139%\n",
      "\n"
     ]
    },
    {
     "name": "stderr",
     "output_type": "stream",
     "text": [
      "                                               \r"
     ]
    },
    {
     "name": "stdout",
     "output_type": "stream",
     "text": [
      "\n",
      "Epoch 52, Avg validation loss: nan, Avg validation accuracy : 3.41130607%\n",
      "\n",
      "Validation loss decreased (nan --> nan).  Saving model ...\n"
     ]
    },
    {
     "name": "stderr",
     "output_type": "stream",
     "text": [
      "                                                              \r"
     ]
    },
    {
     "name": "stdout",
     "output_type": "stream",
     "text": [
      "\n",
      "Epoch 53/300,  Step [86/86], Avg training loss:  nan, Avg training accuracy :  3.10683139%\n",
      "\n"
     ]
    },
    {
     "name": "stderr",
     "output_type": "stream",
     "text": [
      "                                               \r"
     ]
    },
    {
     "name": "stdout",
     "output_type": "stream",
     "text": [
      "\n",
      "Epoch 53, Avg validation loss: nan, Avg validation accuracy : 3.41130607%\n",
      "\n",
      "Validation loss decreased (nan --> nan).  Saving model ...\n"
     ]
    },
    {
     "name": "stderr",
     "output_type": "stream",
     "text": [
      "                                                              \r"
     ]
    },
    {
     "name": "stdout",
     "output_type": "stream",
     "text": [
      "\n",
      "Epoch 54/300,  Step [86/86], Avg training loss:  nan, Avg training accuracy :  3.10683139%\n",
      "\n"
     ]
    },
    {
     "name": "stderr",
     "output_type": "stream",
     "text": [
      "                                               \r"
     ]
    },
    {
     "name": "stdout",
     "output_type": "stream",
     "text": [
      "\n",
      "Epoch 54, Avg validation loss: nan, Avg validation accuracy : 3.41130607%\n",
      "\n",
      "Validation loss decreased (nan --> nan).  Saving model ...\n"
     ]
    },
    {
     "name": "stderr",
     "output_type": "stream",
     "text": [
      "                                                              \r"
     ]
    },
    {
     "name": "stdout",
     "output_type": "stream",
     "text": [
      "\n",
      "Epoch 55/300,  Step [86/86], Avg training loss:  nan, Avg training accuracy :  3.10683139%\n",
      "\n"
     ]
    },
    {
     "name": "stderr",
     "output_type": "stream",
     "text": [
      "                                               \r"
     ]
    },
    {
     "name": "stdout",
     "output_type": "stream",
     "text": [
      "\n",
      "Epoch 55, Avg validation loss: nan, Avg validation accuracy : 3.41130607%\n",
      "\n",
      "Validation loss decreased (nan --> nan).  Saving model ...\n"
     ]
    },
    {
     "name": "stderr",
     "output_type": "stream",
     "text": [
      "                                                              \r"
     ]
    },
    {
     "name": "stdout",
     "output_type": "stream",
     "text": [
      "\n",
      "Epoch 56/300,  Step [86/86], Avg training loss:  nan, Avg training accuracy :  3.10683139%\n",
      "\n"
     ]
    },
    {
     "name": "stderr",
     "output_type": "stream",
     "text": [
      "                                               \r"
     ]
    },
    {
     "name": "stdout",
     "output_type": "stream",
     "text": [
      "\n",
      "Epoch 56, Avg validation loss: nan, Avg validation accuracy : 3.41130607%\n",
      "\n",
      "Validation loss decreased (nan --> nan).  Saving model ...\n"
     ]
    },
    {
     "name": "stderr",
     "output_type": "stream",
     "text": [
      "                                                              \r"
     ]
    },
    {
     "name": "stdout",
     "output_type": "stream",
     "text": [
      "\n",
      "Epoch 57/300,  Step [86/86], Avg training loss:  nan, Avg training accuracy :  3.10683139%\n",
      "\n"
     ]
    },
    {
     "name": "stderr",
     "output_type": "stream",
     "text": [
      "                                               \r"
     ]
    },
    {
     "name": "stdout",
     "output_type": "stream",
     "text": [
      "\n",
      "Epoch 57, Avg validation loss: nan, Avg validation accuracy : 3.41130607%\n",
      "\n",
      "Validation loss decreased (nan --> nan).  Saving model ...\n"
     ]
    },
    {
     "name": "stderr",
     "output_type": "stream",
     "text": [
      "                                                              \r"
     ]
    },
    {
     "name": "stdout",
     "output_type": "stream",
     "text": [
      "\n",
      "Epoch 58/300,  Step [86/86], Avg training loss:  nan, Avg training accuracy :  3.10683139%\n",
      "\n"
     ]
    },
    {
     "name": "stderr",
     "output_type": "stream",
     "text": [
      "                                               \r"
     ]
    },
    {
     "name": "stdout",
     "output_type": "stream",
     "text": [
      "\n",
      "Epoch 58, Avg validation loss: nan, Avg validation accuracy : 3.41130607%\n",
      "\n",
      "Validation loss decreased (nan --> nan).  Saving model ...\n"
     ]
    },
    {
     "name": "stderr",
     "output_type": "stream",
     "text": [
      "                                                              \r"
     ]
    },
    {
     "name": "stdout",
     "output_type": "stream",
     "text": [
      "\n",
      "Epoch 59/300,  Step [86/86], Avg training loss:  nan, Avg training accuracy :  3.10683139%\n",
      "\n"
     ]
    },
    {
     "name": "stderr",
     "output_type": "stream",
     "text": [
      "                                               \r"
     ]
    },
    {
     "name": "stdout",
     "output_type": "stream",
     "text": [
      "\n",
      "Epoch 59, Avg validation loss: nan, Avg validation accuracy : 3.41130607%\n",
      "\n",
      "Validation loss decreased (nan --> nan).  Saving model ...\n"
     ]
    },
    {
     "name": "stderr",
     "output_type": "stream",
     "text": [
      "                                                              \r"
     ]
    },
    {
     "name": "stdout",
     "output_type": "stream",
     "text": [
      "\n",
      "Epoch 60/300,  Step [86/86], Avg training loss:  nan, Avg training accuracy :  3.10683139%\n",
      "\n"
     ]
    },
    {
     "name": "stderr",
     "output_type": "stream",
     "text": [
      "                                               \r"
     ]
    },
    {
     "name": "stdout",
     "output_type": "stream",
     "text": [
      "\n",
      "Epoch 60, Avg validation loss: nan, Avg validation accuracy : 3.41130607%\n",
      "\n",
      "Validation loss decreased (nan --> nan).  Saving model ...\n"
     ]
    },
    {
     "name": "stderr",
     "output_type": "stream",
     "text": [
      "                                                              \r"
     ]
    },
    {
     "name": "stdout",
     "output_type": "stream",
     "text": [
      "\n",
      "Epoch 61/300,  Step [86/86], Avg training loss:  nan, Avg training accuracy :  3.10683139%\n",
      "\n"
     ]
    },
    {
     "name": "stderr",
     "output_type": "stream",
     "text": [
      "                                               \r"
     ]
    },
    {
     "name": "stdout",
     "output_type": "stream",
     "text": [
      "\n",
      "Epoch 61, Avg validation loss: nan, Avg validation accuracy : 3.41130607%\n",
      "\n",
      "Validation loss decreased (nan --> nan).  Saving model ...\n"
     ]
    },
    {
     "name": "stderr",
     "output_type": "stream",
     "text": [
      "                                                              \r"
     ]
    },
    {
     "name": "stdout",
     "output_type": "stream",
     "text": [
      "\n",
      "Epoch 62/300,  Step [86/86], Avg training loss:  nan, Avg training accuracy :  3.10683139%\n",
      "\n"
     ]
    },
    {
     "name": "stderr",
     "output_type": "stream",
     "text": [
      "                                               \r"
     ]
    },
    {
     "name": "stdout",
     "output_type": "stream",
     "text": [
      "\n",
      "Epoch 62, Avg validation loss: nan, Avg validation accuracy : 3.41130607%\n",
      "\n",
      "Validation loss decreased (nan --> nan).  Saving model ...\n"
     ]
    },
    {
     "name": "stderr",
     "output_type": "stream",
     "text": [
      "                                                              \r"
     ]
    },
    {
     "name": "stdout",
     "output_type": "stream",
     "text": [
      "\n",
      "Epoch 63/300,  Step [86/86], Avg training loss:  nan, Avg training accuracy :  3.10683139%\n",
      "\n"
     ]
    },
    {
     "name": "stderr",
     "output_type": "stream",
     "text": [
      "                                               \r"
     ]
    },
    {
     "name": "stdout",
     "output_type": "stream",
     "text": [
      "\n",
      "Epoch 63, Avg validation loss: nan, Avg validation accuracy : 3.41130607%\n",
      "\n",
      "Validation loss decreased (nan --> nan).  Saving model ...\n"
     ]
    },
    {
     "name": "stderr",
     "output_type": "stream",
     "text": [
      "                                                              \r"
     ]
    },
    {
     "name": "stdout",
     "output_type": "stream",
     "text": [
      "\n",
      "Epoch 64/300,  Step [86/86], Avg training loss:  nan, Avg training accuracy :  3.10683139%\n",
      "\n"
     ]
    },
    {
     "name": "stderr",
     "output_type": "stream",
     "text": [
      "                                               \r"
     ]
    },
    {
     "name": "stdout",
     "output_type": "stream",
     "text": [
      "\n",
      "Epoch 64, Avg validation loss: nan, Avg validation accuracy : 3.41130607%\n",
      "\n",
      "Validation loss decreased (nan --> nan).  Saving model ...\n"
     ]
    },
    {
     "name": "stderr",
     "output_type": "stream",
     "text": [
      "                                                              \r"
     ]
    },
    {
     "name": "stdout",
     "output_type": "stream",
     "text": [
      "\n",
      "Epoch 65/300,  Step [86/86], Avg training loss:  nan, Avg training accuracy :  3.10683139%\n",
      "\n"
     ]
    },
    {
     "name": "stderr",
     "output_type": "stream",
     "text": [
      "                                               \r"
     ]
    },
    {
     "name": "stdout",
     "output_type": "stream",
     "text": [
      "\n",
      "Epoch 65, Avg validation loss: nan, Avg validation accuracy : 3.41130607%\n",
      "\n",
      "Validation loss decreased (nan --> nan).  Saving model ...\n"
     ]
    },
    {
     "name": "stderr",
     "output_type": "stream",
     "text": [
      "                                                              \r"
     ]
    },
    {
     "name": "stdout",
     "output_type": "stream",
     "text": [
      "\n",
      "Epoch 66/300,  Step [86/86], Avg training loss:  nan, Avg training accuracy :  3.10683139%\n",
      "\n"
     ]
    },
    {
     "name": "stderr",
     "output_type": "stream",
     "text": [
      "                                               \r"
     ]
    },
    {
     "name": "stdout",
     "output_type": "stream",
     "text": [
      "\n",
      "Epoch 66, Avg validation loss: nan, Avg validation accuracy : 3.41130607%\n",
      "\n",
      "Validation loss decreased (nan --> nan).  Saving model ...\n"
     ]
    },
    {
     "name": "stderr",
     "output_type": "stream",
     "text": [
      "                                                              \r"
     ]
    },
    {
     "name": "stdout",
     "output_type": "stream",
     "text": [
      "\n",
      "Epoch 67/300,  Step [86/86], Avg training loss:  nan, Avg training accuracy :  3.10683139%\n",
      "\n"
     ]
    },
    {
     "name": "stderr",
     "output_type": "stream",
     "text": [
      "                                               \r"
     ]
    },
    {
     "name": "stdout",
     "output_type": "stream",
     "text": [
      "\n",
      "Epoch 67, Avg validation loss: nan, Avg validation accuracy : 3.41130607%\n",
      "\n",
      "Validation loss decreased (nan --> nan).  Saving model ...\n"
     ]
    },
    {
     "name": "stderr",
     "output_type": "stream",
     "text": [
      "                                                              \r"
     ]
    },
    {
     "name": "stdout",
     "output_type": "stream",
     "text": [
      "\n",
      "Epoch 68/300,  Step [86/86], Avg training loss:  nan, Avg training accuracy :  3.10683139%\n",
      "\n"
     ]
    },
    {
     "name": "stderr",
     "output_type": "stream",
     "text": [
      "                                               \r"
     ]
    },
    {
     "name": "stdout",
     "output_type": "stream",
     "text": [
      "\n",
      "Epoch 68, Avg validation loss: nan, Avg validation accuracy : 3.41130607%\n",
      "\n",
      "Validation loss decreased (nan --> nan).  Saving model ...\n"
     ]
    },
    {
     "name": "stderr",
     "output_type": "stream",
     "text": [
      "                                                              \r"
     ]
    },
    {
     "name": "stdout",
     "output_type": "stream",
     "text": [
      "\n",
      "Epoch 69/300,  Step [86/86], Avg training loss:  nan, Avg training accuracy :  3.10683139%\n",
      "\n"
     ]
    },
    {
     "name": "stderr",
     "output_type": "stream",
     "text": [
      "                                               \r"
     ]
    },
    {
     "name": "stdout",
     "output_type": "stream",
     "text": [
      "\n",
      "Epoch 69, Avg validation loss: nan, Avg validation accuracy : 3.41130607%\n",
      "\n",
      "Validation loss decreased (nan --> nan).  Saving model ...\n"
     ]
    },
    {
     "name": "stderr",
     "output_type": "stream",
     "text": [
      "                                                              \r"
     ]
    },
    {
     "name": "stdout",
     "output_type": "stream",
     "text": [
      "\n",
      "Epoch 70/300,  Step [86/86], Avg training loss:  nan, Avg training accuracy :  3.10683139%\n",
      "\n"
     ]
    },
    {
     "name": "stderr",
     "output_type": "stream",
     "text": [
      "                                               \r"
     ]
    },
    {
     "name": "stdout",
     "output_type": "stream",
     "text": [
      "\n",
      "Epoch 70, Avg validation loss: nan, Avg validation accuracy : 3.41130607%\n",
      "\n",
      "Validation loss decreased (nan --> nan).  Saving model ...\n"
     ]
    },
    {
     "name": "stderr",
     "output_type": "stream",
     "text": [
      "                                                              \r"
     ]
    },
    {
     "name": "stdout",
     "output_type": "stream",
     "text": [
      "\n",
      "Epoch 71/300,  Step [86/86], Avg training loss:  nan, Avg training accuracy :  3.10683139%\n",
      "\n"
     ]
    },
    {
     "name": "stderr",
     "output_type": "stream",
     "text": [
      "                                               \r"
     ]
    },
    {
     "name": "stdout",
     "output_type": "stream",
     "text": [
      "\n",
      "Epoch 71, Avg validation loss: nan, Avg validation accuracy : 3.41130607%\n",
      "\n",
      "Validation loss decreased (nan --> nan).  Saving model ...\n"
     ]
    },
    {
     "name": "stderr",
     "output_type": "stream",
     "text": [
      "                                                              \r"
     ]
    },
    {
     "name": "stdout",
     "output_type": "stream",
     "text": [
      "\n",
      "Epoch 72/300,  Step [86/86], Avg training loss:  nan, Avg training accuracy :  3.10683139%\n",
      "\n"
     ]
    },
    {
     "name": "stderr",
     "output_type": "stream",
     "text": [
      "                                               \r"
     ]
    },
    {
     "name": "stdout",
     "output_type": "stream",
     "text": [
      "\n",
      "Epoch 72, Avg validation loss: nan, Avg validation accuracy : 3.41130607%\n",
      "\n",
      "Validation loss decreased (nan --> nan).  Saving model ...\n"
     ]
    },
    {
     "name": "stderr",
     "output_type": "stream",
     "text": [
      "                                                              \r"
     ]
    },
    {
     "name": "stdout",
     "output_type": "stream",
     "text": [
      "\n",
      "Epoch 73/300,  Step [86/86], Avg training loss:  nan, Avg training accuracy :  3.10683139%\n",
      "\n"
     ]
    },
    {
     "name": "stderr",
     "output_type": "stream",
     "text": [
      "                                               \r"
     ]
    },
    {
     "name": "stdout",
     "output_type": "stream",
     "text": [
      "\n",
      "Epoch 73, Avg validation loss: nan, Avg validation accuracy : 3.41130607%\n",
      "\n",
      "Validation loss decreased (nan --> nan).  Saving model ...\n"
     ]
    },
    {
     "name": "stderr",
     "output_type": "stream",
     "text": [
      "                                                              \r"
     ]
    },
    {
     "name": "stdout",
     "output_type": "stream",
     "text": [
      "\n",
      "Epoch 74/300,  Step [86/86], Avg training loss:  nan, Avg training accuracy :  3.10683139%\n",
      "\n"
     ]
    },
    {
     "name": "stderr",
     "output_type": "stream",
     "text": [
      "                                               \r"
     ]
    },
    {
     "name": "stdout",
     "output_type": "stream",
     "text": [
      "\n",
      "Epoch 74, Avg validation loss: nan, Avg validation accuracy : 3.41130607%\n",
      "\n",
      "Validation loss decreased (nan --> nan).  Saving model ...\n"
     ]
    },
    {
     "name": "stderr",
     "output_type": "stream",
     "text": [
      "                                                              \r"
     ]
    },
    {
     "name": "stdout",
     "output_type": "stream",
     "text": [
      "\n",
      "Epoch 75/300,  Step [86/86], Avg training loss:  nan, Avg training accuracy :  3.10683139%\n",
      "\n"
     ]
    },
    {
     "name": "stderr",
     "output_type": "stream",
     "text": [
      "                                               \r"
     ]
    },
    {
     "name": "stdout",
     "output_type": "stream",
     "text": [
      "\n",
      "Epoch 75, Avg validation loss: nan, Avg validation accuracy : 3.41130607%\n",
      "\n",
      "Validation loss decreased (nan --> nan).  Saving model ...\n"
     ]
    },
    {
     "name": "stderr",
     "output_type": "stream",
     "text": [
      "                                                              \r"
     ]
    },
    {
     "name": "stdout",
     "output_type": "stream",
     "text": [
      "\n",
      "Epoch 76/300,  Step [86/86], Avg training loss:  nan, Avg training accuracy :  3.10683139%\n",
      "\n"
     ]
    },
    {
     "name": "stderr",
     "output_type": "stream",
     "text": [
      "                                               \r"
     ]
    },
    {
     "name": "stdout",
     "output_type": "stream",
     "text": [
      "\n",
      "Epoch 76, Avg validation loss: nan, Avg validation accuracy : 3.41130607%\n",
      "\n",
      "Validation loss decreased (nan --> nan).  Saving model ...\n"
     ]
    },
    {
     "name": "stderr",
     "output_type": "stream",
     "text": [
      "                                                              \r"
     ]
    },
    {
     "name": "stdout",
     "output_type": "stream",
     "text": [
      "\n",
      "Epoch 77/300,  Step [86/86], Avg training loss:  nan, Avg training accuracy :  3.10683139%\n",
      "\n"
     ]
    },
    {
     "name": "stderr",
     "output_type": "stream",
     "text": [
      "                                               \r"
     ]
    },
    {
     "name": "stdout",
     "output_type": "stream",
     "text": [
      "\n",
      "Epoch 77, Avg validation loss: nan, Avg validation accuracy : 3.41130607%\n",
      "\n",
      "Validation loss decreased (nan --> nan).  Saving model ...\n"
     ]
    },
    {
     "name": "stderr",
     "output_type": "stream",
     "text": [
      "                                                              \r"
     ]
    },
    {
     "name": "stdout",
     "output_type": "stream",
     "text": [
      "\n",
      "Epoch 78/300,  Step [86/86], Avg training loss:  nan, Avg training accuracy :  3.10683139%\n",
      "\n"
     ]
    },
    {
     "name": "stderr",
     "output_type": "stream",
     "text": [
      "                                               \r"
     ]
    },
    {
     "name": "stdout",
     "output_type": "stream",
     "text": [
      "\n",
      "Epoch 78, Avg validation loss: nan, Avg validation accuracy : 3.41130607%\n",
      "\n",
      "Validation loss decreased (nan --> nan).  Saving model ...\n"
     ]
    },
    {
     "name": "stderr",
     "output_type": "stream",
     "text": [
      "                                                              \r"
     ]
    },
    {
     "name": "stdout",
     "output_type": "stream",
     "text": [
      "\n",
      "Epoch 79/300,  Step [86/86], Avg training loss:  nan, Avg training accuracy :  3.10683139%\n",
      "\n"
     ]
    },
    {
     "name": "stderr",
     "output_type": "stream",
     "text": [
      "                                               \r"
     ]
    },
    {
     "name": "stdout",
     "output_type": "stream",
     "text": [
      "\n",
      "Epoch 79, Avg validation loss: nan, Avg validation accuracy : 3.41130607%\n",
      "\n",
      "Validation loss decreased (nan --> nan).  Saving model ...\n"
     ]
    },
    {
     "name": "stderr",
     "output_type": "stream",
     "text": [
      "                                                              \r"
     ]
    },
    {
     "name": "stdout",
     "output_type": "stream",
     "text": [
      "\n",
      "Epoch 80/300,  Step [86/86], Avg training loss:  nan, Avg training accuracy :  3.10683139%\n",
      "\n"
     ]
    },
    {
     "name": "stderr",
     "output_type": "stream",
     "text": [
      "                                               \r"
     ]
    },
    {
     "name": "stdout",
     "output_type": "stream",
     "text": [
      "\n",
      "Epoch 80, Avg validation loss: nan, Avg validation accuracy : 3.41130607%\n",
      "\n",
      "Validation loss decreased (nan --> nan).  Saving model ...\n"
     ]
    },
    {
     "name": "stderr",
     "output_type": "stream",
     "text": [
      "                                                              \r"
     ]
    },
    {
     "name": "stdout",
     "output_type": "stream",
     "text": [
      "\n",
      "Epoch 81/300,  Step [86/86], Avg training loss:  nan, Avg training accuracy :  3.10683139%\n",
      "\n"
     ]
    },
    {
     "name": "stderr",
     "output_type": "stream",
     "text": [
      "                                               \r"
     ]
    },
    {
     "name": "stdout",
     "output_type": "stream",
     "text": [
      "\n",
      "Epoch 81, Avg validation loss: nan, Avg validation accuracy : 3.41130607%\n",
      "\n",
      "Validation loss decreased (nan --> nan).  Saving model ...\n"
     ]
    },
    {
     "name": "stderr",
     "output_type": "stream",
     "text": [
      "                                                              \r"
     ]
    },
    {
     "name": "stdout",
     "output_type": "stream",
     "text": [
      "\n",
      "Epoch 82/300,  Step [86/86], Avg training loss:  nan, Avg training accuracy :  3.10683139%\n",
      "\n"
     ]
    },
    {
     "name": "stderr",
     "output_type": "stream",
     "text": [
      "                                               \r"
     ]
    },
    {
     "name": "stdout",
     "output_type": "stream",
     "text": [
      "\n",
      "Epoch 82, Avg validation loss: nan, Avg validation accuracy : 3.41130607%\n",
      "\n",
      "Validation loss decreased (nan --> nan).  Saving model ...\n"
     ]
    },
    {
     "name": "stderr",
     "output_type": "stream",
     "text": [
      "                                                              \r"
     ]
    },
    {
     "name": "stdout",
     "output_type": "stream",
     "text": [
      "\n",
      "Epoch 83/300,  Step [86/86], Avg training loss:  nan, Avg training accuracy :  3.10683139%\n",
      "\n"
     ]
    },
    {
     "name": "stderr",
     "output_type": "stream",
     "text": [
      "                                               \r"
     ]
    },
    {
     "name": "stdout",
     "output_type": "stream",
     "text": [
      "\n",
      "Epoch 83, Avg validation loss: nan, Avg validation accuracy : 3.41130607%\n",
      "\n",
      "Validation loss decreased (nan --> nan).  Saving model ...\n"
     ]
    },
    {
     "name": "stderr",
     "output_type": "stream",
     "text": [
      "                                                              \r"
     ]
    },
    {
     "name": "stdout",
     "output_type": "stream",
     "text": [
      "\n",
      "Epoch 84/300,  Step [86/86], Avg training loss:  nan, Avg training accuracy :  3.10683139%\n",
      "\n"
     ]
    },
    {
     "name": "stderr",
     "output_type": "stream",
     "text": [
      "                                               \r"
     ]
    },
    {
     "name": "stdout",
     "output_type": "stream",
     "text": [
      "\n",
      "Epoch 84, Avg validation loss: nan, Avg validation accuracy : 3.41130607%\n",
      "\n",
      "Validation loss decreased (nan --> nan).  Saving model ...\n"
     ]
    },
    {
     "name": "stderr",
     "output_type": "stream",
     "text": [
      "                                                              \r"
     ]
    },
    {
     "name": "stdout",
     "output_type": "stream",
     "text": [
      "\n",
      "Epoch 85/300,  Step [86/86], Avg training loss:  nan, Avg training accuracy :  3.10683139%\n",
      "\n"
     ]
    },
    {
     "name": "stderr",
     "output_type": "stream",
     "text": [
      "                                               \r"
     ]
    },
    {
     "name": "stdout",
     "output_type": "stream",
     "text": [
      "\n",
      "Epoch 85, Avg validation loss: nan, Avg validation accuracy : 3.41130607%\n",
      "\n",
      "Validation loss decreased (nan --> nan).  Saving model ...\n"
     ]
    },
    {
     "name": "stderr",
     "output_type": "stream",
     "text": [
      "                                                              \r"
     ]
    },
    {
     "name": "stdout",
     "output_type": "stream",
     "text": [
      "\n",
      "Epoch 86/300,  Step [86/86], Avg training loss:  nan, Avg training accuracy :  3.10683139%\n",
      "\n"
     ]
    },
    {
     "name": "stderr",
     "output_type": "stream",
     "text": [
      "                                               \r"
     ]
    },
    {
     "name": "stdout",
     "output_type": "stream",
     "text": [
      "\n",
      "Epoch 86, Avg validation loss: nan, Avg validation accuracy : 3.41130607%\n",
      "\n",
      "Validation loss decreased (nan --> nan).  Saving model ...\n"
     ]
    },
    {
     "name": "stderr",
     "output_type": "stream",
     "text": [
      "                                                              \r"
     ]
    },
    {
     "name": "stdout",
     "output_type": "stream",
     "text": [
      "\n",
      "Epoch 87/300,  Step [86/86], Avg training loss:  nan, Avg training accuracy :  3.10683139%\n",
      "\n"
     ]
    },
    {
     "name": "stderr",
     "output_type": "stream",
     "text": [
      "                                               \r"
     ]
    },
    {
     "name": "stdout",
     "output_type": "stream",
     "text": [
      "\n",
      "Epoch 87, Avg validation loss: nan, Avg validation accuracy : 3.41130607%\n",
      "\n",
      "Validation loss decreased (nan --> nan).  Saving model ...\n"
     ]
    },
    {
     "name": "stderr",
     "output_type": "stream",
     "text": [
      "                                                              \r"
     ]
    },
    {
     "name": "stdout",
     "output_type": "stream",
     "text": [
      "\n",
      "Epoch 88/300,  Step [86/86], Avg training loss:  nan, Avg training accuracy :  3.10683139%\n",
      "\n"
     ]
    },
    {
     "name": "stderr",
     "output_type": "stream",
     "text": [
      "                                               \r"
     ]
    },
    {
     "name": "stdout",
     "output_type": "stream",
     "text": [
      "\n",
      "Epoch 88, Avg validation loss: nan, Avg validation accuracy : 3.41130607%\n",
      "\n",
      "Validation loss decreased (nan --> nan).  Saving model ...\n"
     ]
    },
    {
     "name": "stderr",
     "output_type": "stream",
     "text": [
      "                                                              \r"
     ]
    },
    {
     "name": "stdout",
     "output_type": "stream",
     "text": [
      "\n",
      "Epoch 89/300,  Step [86/86], Avg training loss:  nan, Avg training accuracy :  3.10683139%\n",
      "\n"
     ]
    },
    {
     "name": "stderr",
     "output_type": "stream",
     "text": [
      "                                               \r"
     ]
    },
    {
     "name": "stdout",
     "output_type": "stream",
     "text": [
      "\n",
      "Epoch 89, Avg validation loss: nan, Avg validation accuracy : 3.41130607%\n",
      "\n",
      "Validation loss decreased (nan --> nan).  Saving model ...\n"
     ]
    },
    {
     "name": "stderr",
     "output_type": "stream",
     "text": [
      "                                                              \r"
     ]
    },
    {
     "name": "stdout",
     "output_type": "stream",
     "text": [
      "\n",
      "Epoch 90/300,  Step [86/86], Avg training loss:  nan, Avg training accuracy :  3.10683139%\n",
      "\n"
     ]
    },
    {
     "name": "stderr",
     "output_type": "stream",
     "text": [
      "                                               \r"
     ]
    },
    {
     "name": "stdout",
     "output_type": "stream",
     "text": [
      "\n",
      "Epoch 90, Avg validation loss: nan, Avg validation accuracy : 3.41130607%\n",
      "\n",
      "Validation loss decreased (nan --> nan).  Saving model ...\n"
     ]
    },
    {
     "name": "stderr",
     "output_type": "stream",
     "text": [
      "                                                              \r"
     ]
    },
    {
     "name": "stdout",
     "output_type": "stream",
     "text": [
      "\n",
      "Epoch 91/300,  Step [86/86], Avg training loss:  nan, Avg training accuracy :  3.10683139%\n",
      "\n"
     ]
    },
    {
     "name": "stderr",
     "output_type": "stream",
     "text": [
      "                                               \r"
     ]
    },
    {
     "name": "stdout",
     "output_type": "stream",
     "text": [
      "\n",
      "Epoch 91, Avg validation loss: nan, Avg validation accuracy : 3.41130607%\n",
      "\n",
      "Validation loss decreased (nan --> nan).  Saving model ...\n"
     ]
    },
    {
     "name": "stderr",
     "output_type": "stream",
     "text": [
      "                                                              \r"
     ]
    },
    {
     "name": "stdout",
     "output_type": "stream",
     "text": [
      "\n",
      "Epoch 92/300,  Step [86/86], Avg training loss:  nan, Avg training accuracy :  3.10683139%\n",
      "\n"
     ]
    },
    {
     "name": "stderr",
     "output_type": "stream",
     "text": [
      "                                               \r"
     ]
    },
    {
     "name": "stdout",
     "output_type": "stream",
     "text": [
      "\n",
      "Epoch 92, Avg validation loss: nan, Avg validation accuracy : 3.41130607%\n",
      "\n",
      "Validation loss decreased (nan --> nan).  Saving model ...\n"
     ]
    },
    {
     "name": "stderr",
     "output_type": "stream",
     "text": [
      "                                                              \r"
     ]
    },
    {
     "name": "stdout",
     "output_type": "stream",
     "text": [
      "\n",
      "Epoch 93/300,  Step [86/86], Avg training loss:  nan, Avg training accuracy :  3.10683139%\n",
      "\n"
     ]
    },
    {
     "name": "stderr",
     "output_type": "stream",
     "text": [
      "                                               \r"
     ]
    },
    {
     "name": "stdout",
     "output_type": "stream",
     "text": [
      "\n",
      "Epoch 93, Avg validation loss: nan, Avg validation accuracy : 3.41130607%\n",
      "\n",
      "Validation loss decreased (nan --> nan).  Saving model ...\n"
     ]
    },
    {
     "name": "stderr",
     "output_type": "stream",
     "text": [
      "                                                              \r"
     ]
    },
    {
     "name": "stdout",
     "output_type": "stream",
     "text": [
      "\n",
      "Epoch 94/300,  Step [86/86], Avg training loss:  nan, Avg training accuracy :  3.10683139%\n",
      "\n"
     ]
    },
    {
     "name": "stderr",
     "output_type": "stream",
     "text": [
      "                                               \r"
     ]
    },
    {
     "name": "stdout",
     "output_type": "stream",
     "text": [
      "\n",
      "Epoch 94, Avg validation loss: nan, Avg validation accuracy : 3.41130607%\n",
      "\n",
      "Validation loss decreased (nan --> nan).  Saving model ...\n"
     ]
    },
    {
     "name": "stderr",
     "output_type": "stream",
     "text": [
      "                                                              \r"
     ]
    },
    {
     "name": "stdout",
     "output_type": "stream",
     "text": [
      "\n",
      "Epoch 95/300,  Step [86/86], Avg training loss:  nan, Avg training accuracy :  3.10683139%\n",
      "\n"
     ]
    },
    {
     "name": "stderr",
     "output_type": "stream",
     "text": [
      "                                               \r"
     ]
    },
    {
     "name": "stdout",
     "output_type": "stream",
     "text": [
      "\n",
      "Epoch 95, Avg validation loss: nan, Avg validation accuracy : 3.41130607%\n",
      "\n",
      "Validation loss decreased (nan --> nan).  Saving model ...\n"
     ]
    },
    {
     "name": "stderr",
     "output_type": "stream",
     "text": [
      "                                                              \r"
     ]
    },
    {
     "name": "stdout",
     "output_type": "stream",
     "text": [
      "\n",
      "Epoch 96/300,  Step [86/86], Avg training loss:  nan, Avg training accuracy :  3.10683139%\n",
      "\n"
     ]
    },
    {
     "name": "stderr",
     "output_type": "stream",
     "text": [
      "                                               \r"
     ]
    },
    {
     "name": "stdout",
     "output_type": "stream",
     "text": [
      "\n",
      "Epoch 96, Avg validation loss: nan, Avg validation accuracy : 3.41130607%\n",
      "\n",
      "Validation loss decreased (nan --> nan).  Saving model ...\n"
     ]
    },
    {
     "name": "stderr",
     "output_type": "stream",
     "text": [
      "                                                              \r"
     ]
    },
    {
     "name": "stdout",
     "output_type": "stream",
     "text": [
      "\n",
      "Epoch 97/300,  Step [86/86], Avg training loss:  nan, Avg training accuracy :  3.10683139%\n",
      "\n"
     ]
    },
    {
     "name": "stderr",
     "output_type": "stream",
     "text": [
      "                                               \r"
     ]
    },
    {
     "name": "stdout",
     "output_type": "stream",
     "text": [
      "\n",
      "Epoch 97, Avg validation loss: nan, Avg validation accuracy : 3.41130607%\n",
      "\n",
      "Validation loss decreased (nan --> nan).  Saving model ...\n"
     ]
    },
    {
     "name": "stderr",
     "output_type": "stream",
     "text": [
      "                                                              \r"
     ]
    },
    {
     "name": "stdout",
     "output_type": "stream",
     "text": [
      "\n",
      "Epoch 98/300,  Step [86/86], Avg training loss:  nan, Avg training accuracy :  3.10683139%\n",
      "\n"
     ]
    },
    {
     "name": "stderr",
     "output_type": "stream",
     "text": [
      "                                               \r"
     ]
    },
    {
     "name": "stdout",
     "output_type": "stream",
     "text": [
      "\n",
      "Epoch 98, Avg validation loss: nan, Avg validation accuracy : 3.41130607%\n",
      "\n",
      "Validation loss decreased (nan --> nan).  Saving model ...\n"
     ]
    },
    {
     "name": "stderr",
     "output_type": "stream",
     "text": [
      "                                                              \r"
     ]
    },
    {
     "name": "stdout",
     "output_type": "stream",
     "text": [
      "\n",
      "Epoch 99/300,  Step [86/86], Avg training loss:  nan, Avg training accuracy :  3.10683139%\n",
      "\n"
     ]
    },
    {
     "name": "stderr",
     "output_type": "stream",
     "text": [
      "                                               \r"
     ]
    },
    {
     "name": "stdout",
     "output_type": "stream",
     "text": [
      "\n",
      "Epoch 99, Avg validation loss: nan, Avg validation accuracy : 3.41130607%\n",
      "\n",
      "Validation loss decreased (nan --> nan).  Saving model ...\n"
     ]
    },
    {
     "name": "stderr",
     "output_type": "stream",
     "text": [
      "                                                              \r"
     ]
    },
    {
     "name": "stdout",
     "output_type": "stream",
     "text": [
      "\n",
      "Epoch 100/300,  Step [86/86], Avg training loss:  nan, Avg training accuracy :  3.10683139%\n",
      "\n"
     ]
    },
    {
     "name": "stderr",
     "output_type": "stream",
     "text": [
      "                                               \r"
     ]
    },
    {
     "name": "stdout",
     "output_type": "stream",
     "text": [
      "\n",
      "Epoch 100, Avg validation loss: nan, Avg validation accuracy : 3.41130607%\n",
      "\n",
      "Validation loss decreased (nan --> nan).  Saving model ...\n"
     ]
    },
    {
     "name": "stderr",
     "output_type": "stream",
     "text": [
      "                                                               \r"
     ]
    },
    {
     "name": "stdout",
     "output_type": "stream",
     "text": [
      "\n",
      "Epoch 101/300,  Step [86/86], Avg training loss:  nan, Avg training accuracy :  3.10683139%\n",
      "\n"
     ]
    },
    {
     "name": "stderr",
     "output_type": "stream",
     "text": [
      "                                               \r"
     ]
    },
    {
     "name": "stdout",
     "output_type": "stream",
     "text": [
      "\n",
      "Epoch 101, Avg validation loss: nan, Avg validation accuracy : 3.41130607%\n",
      "\n",
      "Validation loss decreased (nan --> nan).  Saving model ...\n"
     ]
    },
    {
     "name": "stderr",
     "output_type": "stream",
     "text": [
      "                                                               \r"
     ]
    },
    {
     "name": "stdout",
     "output_type": "stream",
     "text": [
      "\n",
      "Epoch 102/300,  Step [86/86], Avg training loss:  nan, Avg training accuracy :  3.10683139%\n",
      "\n"
     ]
    },
    {
     "name": "stderr",
     "output_type": "stream",
     "text": [
      "                                               \r"
     ]
    },
    {
     "name": "stdout",
     "output_type": "stream",
     "text": [
      "\n",
      "Epoch 102, Avg validation loss: nan, Avg validation accuracy : 3.41130607%\n",
      "\n",
      "Validation loss decreased (nan --> nan).  Saving model ...\n"
     ]
    },
    {
     "name": "stderr",
     "output_type": "stream",
     "text": [
      "                                                               \r"
     ]
    },
    {
     "name": "stdout",
     "output_type": "stream",
     "text": [
      "\n",
      "Epoch 103/300,  Step [86/86], Avg training loss:  nan, Avg training accuracy :  3.10683139%\n",
      "\n"
     ]
    },
    {
     "name": "stderr",
     "output_type": "stream",
     "text": [
      "                                               \r"
     ]
    },
    {
     "name": "stdout",
     "output_type": "stream",
     "text": [
      "\n",
      "Epoch 103, Avg validation loss: nan, Avg validation accuracy : 3.41130607%\n",
      "\n",
      "Validation loss decreased (nan --> nan).  Saving model ...\n"
     ]
    },
    {
     "name": "stderr",
     "output_type": "stream",
     "text": [
      "                                                               \r"
     ]
    },
    {
     "name": "stdout",
     "output_type": "stream",
     "text": [
      "\n",
      "Epoch 104/300,  Step [86/86], Avg training loss:  nan, Avg training accuracy :  3.10683139%\n",
      "\n"
     ]
    },
    {
     "name": "stderr",
     "output_type": "stream",
     "text": [
      "                                               \r"
     ]
    },
    {
     "name": "stdout",
     "output_type": "stream",
     "text": [
      "\n",
      "Epoch 104, Avg validation loss: nan, Avg validation accuracy : 3.41130607%\n",
      "\n",
      "Validation loss decreased (nan --> nan).  Saving model ...\n"
     ]
    },
    {
     "name": "stderr",
     "output_type": "stream",
     "text": [
      "                                                               \r"
     ]
    },
    {
     "name": "stdout",
     "output_type": "stream",
     "text": [
      "\n",
      "Epoch 105/300,  Step [86/86], Avg training loss:  nan, Avg training accuracy :  3.10683139%\n",
      "\n"
     ]
    },
    {
     "name": "stderr",
     "output_type": "stream",
     "text": [
      "                                               \r"
     ]
    },
    {
     "name": "stdout",
     "output_type": "stream",
     "text": [
      "\n",
      "Epoch 105, Avg validation loss: nan, Avg validation accuracy : 3.41130607%\n",
      "\n",
      "Validation loss decreased (nan --> nan).  Saving model ...\n"
     ]
    },
    {
     "name": "stderr",
     "output_type": "stream",
     "text": [
      "                                                               \r"
     ]
    },
    {
     "name": "stdout",
     "output_type": "stream",
     "text": [
      "\n",
      "Epoch 106/300,  Step [86/86], Avg training loss:  nan, Avg training accuracy :  3.10683139%\n",
      "\n"
     ]
    },
    {
     "name": "stderr",
     "output_type": "stream",
     "text": [
      "                                               \r"
     ]
    },
    {
     "name": "stdout",
     "output_type": "stream",
     "text": [
      "\n",
      "Epoch 106, Avg validation loss: nan, Avg validation accuracy : 3.41130607%\n",
      "\n",
      "Validation loss decreased (nan --> nan).  Saving model ...\n"
     ]
    },
    {
     "name": "stderr",
     "output_type": "stream",
     "text": [
      "                                                               \r"
     ]
    },
    {
     "name": "stdout",
     "output_type": "stream",
     "text": [
      "\n",
      "Epoch 107/300,  Step [86/86], Avg training loss:  nan, Avg training accuracy :  3.10683139%\n",
      "\n"
     ]
    },
    {
     "name": "stderr",
     "output_type": "stream",
     "text": [
      "                                               \r"
     ]
    },
    {
     "name": "stdout",
     "output_type": "stream",
     "text": [
      "\n",
      "Epoch 107, Avg validation loss: nan, Avg validation accuracy : 3.41130607%\n",
      "\n",
      "Validation loss decreased (nan --> nan).  Saving model ...\n"
     ]
    },
    {
     "name": "stderr",
     "output_type": "stream",
     "text": [
      "                                                               \r"
     ]
    },
    {
     "name": "stdout",
     "output_type": "stream",
     "text": [
      "\n",
      "Epoch 108/300,  Step [86/86], Avg training loss:  nan, Avg training accuracy :  3.10683139%\n",
      "\n"
     ]
    },
    {
     "name": "stderr",
     "output_type": "stream",
     "text": [
      "                                               \r"
     ]
    },
    {
     "name": "stdout",
     "output_type": "stream",
     "text": [
      "\n",
      "Epoch 108, Avg validation loss: nan, Avg validation accuracy : 3.41130607%\n",
      "\n",
      "Validation loss decreased (nan --> nan).  Saving model ...\n"
     ]
    },
    {
     "name": "stderr",
     "output_type": "stream",
     "text": [
      "                                                               \r"
     ]
    },
    {
     "name": "stdout",
     "output_type": "stream",
     "text": [
      "\n",
      "Epoch 109/300,  Step [86/86], Avg training loss:  nan, Avg training accuracy :  3.10683139%\n",
      "\n"
     ]
    },
    {
     "name": "stderr",
     "output_type": "stream",
     "text": [
      "                                               \r"
     ]
    },
    {
     "name": "stdout",
     "output_type": "stream",
     "text": [
      "\n",
      "Epoch 109, Avg validation loss: nan, Avg validation accuracy : 3.41130607%\n",
      "\n",
      "Validation loss decreased (nan --> nan).  Saving model ...\n"
     ]
    },
    {
     "name": "stderr",
     "output_type": "stream",
     "text": [
      "                                                               \r"
     ]
    },
    {
     "name": "stdout",
     "output_type": "stream",
     "text": [
      "\n",
      "Epoch 110/300,  Step [86/86], Avg training loss:  nan, Avg training accuracy :  3.10683139%\n",
      "\n"
     ]
    },
    {
     "name": "stderr",
     "output_type": "stream",
     "text": [
      "                                               \r"
     ]
    },
    {
     "name": "stdout",
     "output_type": "stream",
     "text": [
      "\n",
      "Epoch 110, Avg validation loss: nan, Avg validation accuracy : 3.41130607%\n",
      "\n",
      "Validation loss decreased (nan --> nan).  Saving model ...\n"
     ]
    },
    {
     "name": "stderr",
     "output_type": "stream",
     "text": [
      "                                                               \r"
     ]
    },
    {
     "name": "stdout",
     "output_type": "stream",
     "text": [
      "\n",
      "Epoch 111/300,  Step [86/86], Avg training loss:  nan, Avg training accuracy :  3.10683139%\n",
      "\n"
     ]
    },
    {
     "name": "stderr",
     "output_type": "stream",
     "text": [
      "                                               \r"
     ]
    },
    {
     "name": "stdout",
     "output_type": "stream",
     "text": [
      "\n",
      "Epoch 111, Avg validation loss: nan, Avg validation accuracy : 3.41130607%\n",
      "\n",
      "Validation loss decreased (nan --> nan).  Saving model ...\n"
     ]
    },
    {
     "name": "stderr",
     "output_type": "stream",
     "text": [
      "                                                               \r"
     ]
    },
    {
     "name": "stdout",
     "output_type": "stream",
     "text": [
      "\n",
      "Epoch 112/300,  Step [86/86], Avg training loss:  nan, Avg training accuracy :  3.10683139%\n",
      "\n"
     ]
    },
    {
     "name": "stderr",
     "output_type": "stream",
     "text": [
      "                                               \r"
     ]
    },
    {
     "name": "stdout",
     "output_type": "stream",
     "text": [
      "\n",
      "Epoch 112, Avg validation loss: nan, Avg validation accuracy : 3.41130607%\n",
      "\n",
      "Validation loss decreased (nan --> nan).  Saving model ...\n"
     ]
    },
    {
     "name": "stderr",
     "output_type": "stream",
     "text": [
      "                                                               \r"
     ]
    },
    {
     "name": "stdout",
     "output_type": "stream",
     "text": [
      "\n",
      "Epoch 113/300,  Step [86/86], Avg training loss:  nan, Avg training accuracy :  3.10683139%\n",
      "\n"
     ]
    },
    {
     "name": "stderr",
     "output_type": "stream",
     "text": [
      "                                               \r"
     ]
    },
    {
     "name": "stdout",
     "output_type": "stream",
     "text": [
      "\n",
      "Epoch 113, Avg validation loss: nan, Avg validation accuracy : 3.41130607%\n",
      "\n",
      "Validation loss decreased (nan --> nan).  Saving model ...\n"
     ]
    },
    {
     "name": "stderr",
     "output_type": "stream",
     "text": [
      "                                                               \r"
     ]
    },
    {
     "name": "stdout",
     "output_type": "stream",
     "text": [
      "\n",
      "Epoch 114/300,  Step [86/86], Avg training loss:  nan, Avg training accuracy :  3.10683139%\n",
      "\n"
     ]
    },
    {
     "name": "stderr",
     "output_type": "stream",
     "text": [
      "                                               \r"
     ]
    },
    {
     "name": "stdout",
     "output_type": "stream",
     "text": [
      "\n",
      "Epoch 114, Avg validation loss: nan, Avg validation accuracy : 3.41130607%\n",
      "\n",
      "Validation loss decreased (nan --> nan).  Saving model ...\n"
     ]
    },
    {
     "name": "stderr",
     "output_type": "stream",
     "text": [
      "                                                               \r"
     ]
    },
    {
     "name": "stdout",
     "output_type": "stream",
     "text": [
      "\n",
      "Epoch 115/300,  Step [86/86], Avg training loss:  nan, Avg training accuracy :  3.10683139%\n",
      "\n"
     ]
    },
    {
     "name": "stderr",
     "output_type": "stream",
     "text": [
      "                                               \r"
     ]
    },
    {
     "name": "stdout",
     "output_type": "stream",
     "text": [
      "\n",
      "Epoch 115, Avg validation loss: nan, Avg validation accuracy : 3.41130607%\n",
      "\n",
      "Validation loss decreased (nan --> nan).  Saving model ...\n"
     ]
    },
    {
     "name": "stderr",
     "output_type": "stream",
     "text": [
      "                                                               \r"
     ]
    },
    {
     "name": "stdout",
     "output_type": "stream",
     "text": [
      "\n",
      "Epoch 116/300,  Step [86/86], Avg training loss:  nan, Avg training accuracy :  3.10683139%\n",
      "\n"
     ]
    },
    {
     "name": "stderr",
     "output_type": "stream",
     "text": [
      "                                               \r"
     ]
    },
    {
     "name": "stdout",
     "output_type": "stream",
     "text": [
      "\n",
      "Epoch 116, Avg validation loss: nan, Avg validation accuracy : 3.41130607%\n",
      "\n",
      "Validation loss decreased (nan --> nan).  Saving model ...\n"
     ]
    },
    {
     "name": "stderr",
     "output_type": "stream",
     "text": [
      "                                                               \r"
     ]
    },
    {
     "name": "stdout",
     "output_type": "stream",
     "text": [
      "\n",
      "Epoch 117/300,  Step [86/86], Avg training loss:  nan, Avg training accuracy :  3.10683139%\n",
      "\n"
     ]
    },
    {
     "name": "stderr",
     "output_type": "stream",
     "text": [
      "                                               \r"
     ]
    },
    {
     "name": "stdout",
     "output_type": "stream",
     "text": [
      "\n",
      "Epoch 117, Avg validation loss: nan, Avg validation accuracy : 3.41130607%\n",
      "\n",
      "Validation loss decreased (nan --> nan).  Saving model ...\n"
     ]
    },
    {
     "name": "stderr",
     "output_type": "stream",
     "text": [
      "                                                               \r"
     ]
    },
    {
     "name": "stdout",
     "output_type": "stream",
     "text": [
      "\n",
      "Epoch 118/300,  Step [86/86], Avg training loss:  nan, Avg training accuracy :  3.10683139%\n",
      "\n"
     ]
    },
    {
     "name": "stderr",
     "output_type": "stream",
     "text": [
      "                                               \r"
     ]
    },
    {
     "name": "stdout",
     "output_type": "stream",
     "text": [
      "\n",
      "Epoch 118, Avg validation loss: nan, Avg validation accuracy : 3.41130607%\n",
      "\n",
      "Validation loss decreased (nan --> nan).  Saving model ...\n"
     ]
    },
    {
     "name": "stderr",
     "output_type": "stream",
     "text": [
      "                                                               \r"
     ]
    },
    {
     "name": "stdout",
     "output_type": "stream",
     "text": [
      "\n",
      "Epoch 119/300,  Step [86/86], Avg training loss:  nan, Avg training accuracy :  3.10683139%\n",
      "\n"
     ]
    },
    {
     "name": "stderr",
     "output_type": "stream",
     "text": [
      "                                               \r"
     ]
    },
    {
     "name": "stdout",
     "output_type": "stream",
     "text": [
      "\n",
      "Epoch 119, Avg validation loss: nan, Avg validation accuracy : 3.41130607%\n",
      "\n",
      "Validation loss decreased (nan --> nan).  Saving model ...\n"
     ]
    },
    {
     "name": "stderr",
     "output_type": "stream",
     "text": [
      "                                                               \r"
     ]
    },
    {
     "name": "stdout",
     "output_type": "stream",
     "text": [
      "\n",
      "Epoch 120/300,  Step [86/86], Avg training loss:  nan, Avg training accuracy :  3.10683139%\n",
      "\n"
     ]
    },
    {
     "name": "stderr",
     "output_type": "stream",
     "text": [
      "                                               \r"
     ]
    },
    {
     "name": "stdout",
     "output_type": "stream",
     "text": [
      "\n",
      "Epoch 120, Avg validation loss: nan, Avg validation accuracy : 3.41130607%\n",
      "\n",
      "Validation loss decreased (nan --> nan).  Saving model ...\n"
     ]
    },
    {
     "name": "stderr",
     "output_type": "stream",
     "text": [
      "                                                               \r"
     ]
    },
    {
     "name": "stdout",
     "output_type": "stream",
     "text": [
      "\n",
      "Epoch 121/300,  Step [86/86], Avg training loss:  nan, Avg training accuracy :  3.10683139%\n",
      "\n"
     ]
    },
    {
     "name": "stderr",
     "output_type": "stream",
     "text": [
      "                                               \r"
     ]
    },
    {
     "name": "stdout",
     "output_type": "stream",
     "text": [
      "\n",
      "Epoch 121, Avg validation loss: nan, Avg validation accuracy : 3.41130607%\n",
      "\n",
      "Validation loss decreased (nan --> nan).  Saving model ...\n"
     ]
    },
    {
     "name": "stderr",
     "output_type": "stream",
     "text": [
      "                                                               \r"
     ]
    },
    {
     "name": "stdout",
     "output_type": "stream",
     "text": [
      "\n",
      "Epoch 122/300,  Step [86/86], Avg training loss:  nan, Avg training accuracy :  3.10683139%\n",
      "\n"
     ]
    },
    {
     "name": "stderr",
     "output_type": "stream",
     "text": [
      "                                               \r"
     ]
    },
    {
     "name": "stdout",
     "output_type": "stream",
     "text": [
      "\n",
      "Epoch 122, Avg validation loss: nan, Avg validation accuracy : 3.41130607%\n",
      "\n",
      "Validation loss decreased (nan --> nan).  Saving model ...\n"
     ]
    },
    {
     "name": "stderr",
     "output_type": "stream",
     "text": [
      "                                                               \r"
     ]
    },
    {
     "name": "stdout",
     "output_type": "stream",
     "text": [
      "\n",
      "Epoch 123/300,  Step [86/86], Avg training loss:  nan, Avg training accuracy :  3.10683139%\n",
      "\n"
     ]
    },
    {
     "name": "stderr",
     "output_type": "stream",
     "text": [
      "                                               \r"
     ]
    },
    {
     "name": "stdout",
     "output_type": "stream",
     "text": [
      "\n",
      "Epoch 123, Avg validation loss: nan, Avg validation accuracy : 3.41130607%\n",
      "\n",
      "Validation loss decreased (nan --> nan).  Saving model ...\n"
     ]
    },
    {
     "name": "stderr",
     "output_type": "stream",
     "text": [
      "                                                               \r"
     ]
    },
    {
     "name": "stdout",
     "output_type": "stream",
     "text": [
      "\n",
      "Epoch 124/300,  Step [86/86], Avg training loss:  nan, Avg training accuracy :  3.10683139%\n",
      "\n"
     ]
    },
    {
     "name": "stderr",
     "output_type": "stream",
     "text": [
      "                                               \r"
     ]
    },
    {
     "name": "stdout",
     "output_type": "stream",
     "text": [
      "\n",
      "Epoch 124, Avg validation loss: nan, Avg validation accuracy : 3.41130607%\n",
      "\n",
      "Validation loss decreased (nan --> nan).  Saving model ...\n"
     ]
    },
    {
     "name": "stderr",
     "output_type": "stream",
     "text": [
      "                                                               \r"
     ]
    },
    {
     "name": "stdout",
     "output_type": "stream",
     "text": [
      "\n",
      "Epoch 125/300,  Step [86/86], Avg training loss:  nan, Avg training accuracy :  3.10683139%\n",
      "\n"
     ]
    },
    {
     "name": "stderr",
     "output_type": "stream",
     "text": [
      "                                               \r"
     ]
    },
    {
     "name": "stdout",
     "output_type": "stream",
     "text": [
      "\n",
      "Epoch 125, Avg validation loss: nan, Avg validation accuracy : 3.41130607%\n",
      "\n",
      "Validation loss decreased (nan --> nan).  Saving model ...\n"
     ]
    },
    {
     "name": "stderr",
     "output_type": "stream",
     "text": [
      "                                                               \r"
     ]
    },
    {
     "name": "stdout",
     "output_type": "stream",
     "text": [
      "\n",
      "Epoch 126/300,  Step [86/86], Avg training loss:  nan, Avg training accuracy :  3.10683139%\n",
      "\n"
     ]
    },
    {
     "name": "stderr",
     "output_type": "stream",
     "text": [
      "                                               \r"
     ]
    },
    {
     "name": "stdout",
     "output_type": "stream",
     "text": [
      "\n",
      "Epoch 126, Avg validation loss: nan, Avg validation accuracy : 3.41130607%\n",
      "\n",
      "Validation loss decreased (nan --> nan).  Saving model ...\n"
     ]
    },
    {
     "name": "stderr",
     "output_type": "stream",
     "text": [
      "                                                               \r"
     ]
    },
    {
     "name": "stdout",
     "output_type": "stream",
     "text": [
      "\n",
      "Epoch 127/300,  Step [86/86], Avg training loss:  nan, Avg training accuracy :  3.10683139%\n",
      "\n"
     ]
    },
    {
     "name": "stderr",
     "output_type": "stream",
     "text": [
      "                                               \r"
     ]
    },
    {
     "name": "stdout",
     "output_type": "stream",
     "text": [
      "\n",
      "Epoch 127, Avg validation loss: nan, Avg validation accuracy : 3.41130607%\n",
      "\n",
      "Validation loss decreased (nan --> nan).  Saving model ...\n"
     ]
    },
    {
     "name": "stderr",
     "output_type": "stream",
     "text": [
      "                                                               \r"
     ]
    },
    {
     "name": "stdout",
     "output_type": "stream",
     "text": [
      "\n",
      "Epoch 128/300,  Step [86/86], Avg training loss:  nan, Avg training accuracy :  3.10683139%\n",
      "\n"
     ]
    },
    {
     "name": "stderr",
     "output_type": "stream",
     "text": [
      "                                               \r"
     ]
    },
    {
     "name": "stdout",
     "output_type": "stream",
     "text": [
      "\n",
      "Epoch 128, Avg validation loss: nan, Avg validation accuracy : 3.41130607%\n",
      "\n",
      "Validation loss decreased (nan --> nan).  Saving model ...\n"
     ]
    },
    {
     "name": "stderr",
     "output_type": "stream",
     "text": [
      "                                                               \r"
     ]
    },
    {
     "name": "stdout",
     "output_type": "stream",
     "text": [
      "\n",
      "Epoch 129/300,  Step [86/86], Avg training loss:  nan, Avg training accuracy :  3.10683139%\n",
      "\n"
     ]
    },
    {
     "name": "stderr",
     "output_type": "stream",
     "text": [
      "                                               \r"
     ]
    },
    {
     "name": "stdout",
     "output_type": "stream",
     "text": [
      "\n",
      "Epoch 129, Avg validation loss: nan, Avg validation accuracy : 3.41130607%\n",
      "\n",
      "Validation loss decreased (nan --> nan).  Saving model ...\n"
     ]
    },
    {
     "name": "stderr",
     "output_type": "stream",
     "text": [
      "                                                               \r"
     ]
    },
    {
     "name": "stdout",
     "output_type": "stream",
     "text": [
      "\n",
      "Epoch 130/300,  Step [86/86], Avg training loss:  nan, Avg training accuracy :  3.10683139%\n",
      "\n"
     ]
    },
    {
     "name": "stderr",
     "output_type": "stream",
     "text": [
      "                                               \r"
     ]
    },
    {
     "name": "stdout",
     "output_type": "stream",
     "text": [
      "\n",
      "Epoch 130, Avg validation loss: nan, Avg validation accuracy : 3.41130607%\n",
      "\n",
      "Validation loss decreased (nan --> nan).  Saving model ...\n"
     ]
    },
    {
     "name": "stderr",
     "output_type": "stream",
     "text": [
      "                                                               \r"
     ]
    },
    {
     "name": "stdout",
     "output_type": "stream",
     "text": [
      "\n",
      "Epoch 131/300,  Step [86/86], Avg training loss:  nan, Avg training accuracy :  3.10683139%\n",
      "\n"
     ]
    },
    {
     "name": "stderr",
     "output_type": "stream",
     "text": [
      "                                               \r"
     ]
    },
    {
     "name": "stdout",
     "output_type": "stream",
     "text": [
      "\n",
      "Epoch 131, Avg validation loss: nan, Avg validation accuracy : 3.41130607%\n",
      "\n",
      "Validation loss decreased (nan --> nan).  Saving model ...\n"
     ]
    },
    {
     "name": "stderr",
     "output_type": "stream",
     "text": [
      "                                                               \r"
     ]
    },
    {
     "name": "stdout",
     "output_type": "stream",
     "text": [
      "\n",
      "Epoch 132/300,  Step [86/86], Avg training loss:  nan, Avg training accuracy :  3.10683139%\n",
      "\n"
     ]
    },
    {
     "name": "stderr",
     "output_type": "stream",
     "text": [
      "                                               \r"
     ]
    },
    {
     "name": "stdout",
     "output_type": "stream",
     "text": [
      "\n",
      "Epoch 132, Avg validation loss: nan, Avg validation accuracy : 3.41130607%\n",
      "\n",
      "Validation loss decreased (nan --> nan).  Saving model ...\n"
     ]
    },
    {
     "name": "stderr",
     "output_type": "stream",
     "text": [
      "                                                               \r"
     ]
    },
    {
     "name": "stdout",
     "output_type": "stream",
     "text": [
      "\n",
      "Epoch 133/300,  Step [86/86], Avg training loss:  nan, Avg training accuracy :  3.10683139%\n",
      "\n"
     ]
    },
    {
     "name": "stderr",
     "output_type": "stream",
     "text": [
      "                                               \r"
     ]
    },
    {
     "name": "stdout",
     "output_type": "stream",
     "text": [
      "\n",
      "Epoch 133, Avg validation loss: nan, Avg validation accuracy : 3.41130607%\n",
      "\n",
      "Validation loss decreased (nan --> nan).  Saving model ...\n"
     ]
    },
    {
     "name": "stderr",
     "output_type": "stream",
     "text": [
      "                                                               \r"
     ]
    },
    {
     "name": "stdout",
     "output_type": "stream",
     "text": [
      "\n",
      "Epoch 134/300,  Step [86/86], Avg training loss:  nan, Avg training accuracy :  3.10683139%\n",
      "\n"
     ]
    },
    {
     "name": "stderr",
     "output_type": "stream",
     "text": [
      "                                               \r"
     ]
    },
    {
     "name": "stdout",
     "output_type": "stream",
     "text": [
      "\n",
      "Epoch 134, Avg validation loss: nan, Avg validation accuracy : 3.41130607%\n",
      "\n",
      "Validation loss decreased (nan --> nan).  Saving model ...\n"
     ]
    },
    {
     "name": "stderr",
     "output_type": "stream",
     "text": [
      "                                                               \r"
     ]
    },
    {
     "name": "stdout",
     "output_type": "stream",
     "text": [
      "\n",
      "Epoch 135/300,  Step [86/86], Avg training loss:  nan, Avg training accuracy :  3.10683139%\n",
      "\n"
     ]
    },
    {
     "name": "stderr",
     "output_type": "stream",
     "text": [
      "                                               \r"
     ]
    },
    {
     "name": "stdout",
     "output_type": "stream",
     "text": [
      "\n",
      "Epoch 135, Avg validation loss: nan, Avg validation accuracy : 3.41130607%\n",
      "\n",
      "Validation loss decreased (nan --> nan).  Saving model ...\n"
     ]
    },
    {
     "name": "stderr",
     "output_type": "stream",
     "text": [
      "                                                               \r"
     ]
    },
    {
     "name": "stdout",
     "output_type": "stream",
     "text": [
      "\n",
      "Epoch 136/300,  Step [86/86], Avg training loss:  nan, Avg training accuracy :  3.10683139%\n",
      "\n"
     ]
    },
    {
     "name": "stderr",
     "output_type": "stream",
     "text": [
      "                                               \r"
     ]
    },
    {
     "name": "stdout",
     "output_type": "stream",
     "text": [
      "\n",
      "Epoch 136, Avg validation loss: nan, Avg validation accuracy : 3.41130607%\n",
      "\n",
      "Validation loss decreased (nan --> nan).  Saving model ...\n"
     ]
    },
    {
     "name": "stderr",
     "output_type": "stream",
     "text": [
      "                                                               \r"
     ]
    },
    {
     "name": "stdout",
     "output_type": "stream",
     "text": [
      "\n",
      "Epoch 137/300,  Step [86/86], Avg training loss:  nan, Avg training accuracy :  3.10683139%\n",
      "\n"
     ]
    },
    {
     "name": "stderr",
     "output_type": "stream",
     "text": [
      "                                               \r"
     ]
    },
    {
     "name": "stdout",
     "output_type": "stream",
     "text": [
      "\n",
      "Epoch 137, Avg validation loss: nan, Avg validation accuracy : 3.41130607%\n",
      "\n",
      "Validation loss decreased (nan --> nan).  Saving model ...\n"
     ]
    },
    {
     "name": "stderr",
     "output_type": "stream",
     "text": [
      "                                                               \r"
     ]
    },
    {
     "name": "stdout",
     "output_type": "stream",
     "text": [
      "\n",
      "Epoch 138/300,  Step [86/86], Avg training loss:  nan, Avg training accuracy :  3.10683139%\n",
      "\n"
     ]
    },
    {
     "name": "stderr",
     "output_type": "stream",
     "text": [
      "                                               \r"
     ]
    },
    {
     "name": "stdout",
     "output_type": "stream",
     "text": [
      "\n",
      "Epoch 138, Avg validation loss: nan, Avg validation accuracy : 3.41130607%\n",
      "\n",
      "Validation loss decreased (nan --> nan).  Saving model ...\n"
     ]
    },
    {
     "name": "stderr",
     "output_type": "stream",
     "text": [
      "                                                               \r"
     ]
    },
    {
     "name": "stdout",
     "output_type": "stream",
     "text": [
      "\n",
      "Epoch 139/300,  Step [86/86], Avg training loss:  nan, Avg training accuracy :  3.10683139%\n",
      "\n"
     ]
    },
    {
     "name": "stderr",
     "output_type": "stream",
     "text": [
      "                                               \r"
     ]
    },
    {
     "name": "stdout",
     "output_type": "stream",
     "text": [
      "\n",
      "Epoch 139, Avg validation loss: nan, Avg validation accuracy : 3.41130607%\n",
      "\n",
      "Validation loss decreased (nan --> nan).  Saving model ...\n"
     ]
    },
    {
     "name": "stderr",
     "output_type": "stream",
     "text": [
      "                                                               \r"
     ]
    },
    {
     "name": "stdout",
     "output_type": "stream",
     "text": [
      "\n",
      "Epoch 140/300,  Step [86/86], Avg training loss:  nan, Avg training accuracy :  3.10683139%\n",
      "\n"
     ]
    },
    {
     "name": "stderr",
     "output_type": "stream",
     "text": [
      "                                               \r"
     ]
    },
    {
     "name": "stdout",
     "output_type": "stream",
     "text": [
      "\n",
      "Epoch 140, Avg validation loss: nan, Avg validation accuracy : 3.41130607%\n",
      "\n",
      "Validation loss decreased (nan --> nan).  Saving model ...\n"
     ]
    },
    {
     "name": "stderr",
     "output_type": "stream",
     "text": [
      "                                                               \r"
     ]
    },
    {
     "name": "stdout",
     "output_type": "stream",
     "text": [
      "\n",
      "Epoch 141/300,  Step [86/86], Avg training loss:  nan, Avg training accuracy :  3.10683139%\n",
      "\n"
     ]
    },
    {
     "name": "stderr",
     "output_type": "stream",
     "text": [
      "                                               \r"
     ]
    },
    {
     "name": "stdout",
     "output_type": "stream",
     "text": [
      "\n",
      "Epoch 141, Avg validation loss: nan, Avg validation accuracy : 3.41130607%\n",
      "\n",
      "Validation loss decreased (nan --> nan).  Saving model ...\n"
     ]
    },
    {
     "name": "stderr",
     "output_type": "stream",
     "text": [
      "                                                               \r"
     ]
    },
    {
     "name": "stdout",
     "output_type": "stream",
     "text": [
      "\n",
      "Epoch 142/300,  Step [86/86], Avg training loss:  nan, Avg training accuracy :  3.10683139%\n",
      "\n"
     ]
    },
    {
     "name": "stderr",
     "output_type": "stream",
     "text": [
      "                                               \r"
     ]
    },
    {
     "name": "stdout",
     "output_type": "stream",
     "text": [
      "\n",
      "Epoch 142, Avg validation loss: nan, Avg validation accuracy : 3.41130607%\n",
      "\n",
      "Validation loss decreased (nan --> nan).  Saving model ...\n"
     ]
    },
    {
     "name": "stderr",
     "output_type": "stream",
     "text": [
      "                                                               \r"
     ]
    },
    {
     "name": "stdout",
     "output_type": "stream",
     "text": [
      "\n",
      "Epoch 143/300,  Step [86/86], Avg training loss:  nan, Avg training accuracy :  3.10683139%\n",
      "\n"
     ]
    },
    {
     "name": "stderr",
     "output_type": "stream",
     "text": [
      "                                               \r"
     ]
    },
    {
     "name": "stdout",
     "output_type": "stream",
     "text": [
      "\n",
      "Epoch 143, Avg validation loss: nan, Avg validation accuracy : 3.41130607%\n",
      "\n",
      "Validation loss decreased (nan --> nan).  Saving model ...\n"
     ]
    },
    {
     "name": "stderr",
     "output_type": "stream",
     "text": [
      "                                                               \r"
     ]
    },
    {
     "name": "stdout",
     "output_type": "stream",
     "text": [
      "\n",
      "Epoch 144/300,  Step [86/86], Avg training loss:  nan, Avg training accuracy :  3.10683139%\n",
      "\n"
     ]
    },
    {
     "name": "stderr",
     "output_type": "stream",
     "text": [
      "                                               \r"
     ]
    },
    {
     "name": "stdout",
     "output_type": "stream",
     "text": [
      "\n",
      "Epoch 144, Avg validation loss: nan, Avg validation accuracy : 3.41130607%\n",
      "\n",
      "Validation loss decreased (nan --> nan).  Saving model ...\n"
     ]
    },
    {
     "name": "stderr",
     "output_type": "stream",
     "text": [
      "                                                               \r"
     ]
    },
    {
     "name": "stdout",
     "output_type": "stream",
     "text": [
      "\n",
      "Epoch 145/300,  Step [86/86], Avg training loss:  nan, Avg training accuracy :  3.10683139%\n",
      "\n"
     ]
    },
    {
     "name": "stderr",
     "output_type": "stream",
     "text": [
      "                                               \r"
     ]
    },
    {
     "name": "stdout",
     "output_type": "stream",
     "text": [
      "\n",
      "Epoch 145, Avg validation loss: nan, Avg validation accuracy : 3.41130607%\n",
      "\n",
      "Validation loss decreased (nan --> nan).  Saving model ...\n"
     ]
    },
    {
     "name": "stderr",
     "output_type": "stream",
     "text": [
      "                                                               \r"
     ]
    },
    {
     "name": "stdout",
     "output_type": "stream",
     "text": [
      "\n",
      "Epoch 146/300,  Step [86/86], Avg training loss:  nan, Avg training accuracy :  3.10683139%\n",
      "\n"
     ]
    },
    {
     "name": "stderr",
     "output_type": "stream",
     "text": [
      "                                               \r"
     ]
    },
    {
     "name": "stdout",
     "output_type": "stream",
     "text": [
      "\n",
      "Epoch 146, Avg validation loss: nan, Avg validation accuracy : 3.41130607%\n",
      "\n",
      "Validation loss decreased (nan --> nan).  Saving model ...\n"
     ]
    },
    {
     "name": "stderr",
     "output_type": "stream",
     "text": [
      "                                                               \r"
     ]
    },
    {
     "name": "stdout",
     "output_type": "stream",
     "text": [
      "\n",
      "Epoch 147/300,  Step [86/86], Avg training loss:  nan, Avg training accuracy :  3.10683139%\n",
      "\n"
     ]
    },
    {
     "name": "stderr",
     "output_type": "stream",
     "text": [
      "                                               \r"
     ]
    },
    {
     "name": "stdout",
     "output_type": "stream",
     "text": [
      "\n",
      "Epoch 147, Avg validation loss: nan, Avg validation accuracy : 3.41130607%\n",
      "\n",
      "Validation loss decreased (nan --> nan).  Saving model ...\n"
     ]
    },
    {
     "name": "stderr",
     "output_type": "stream",
     "text": [
      "                                                               \r"
     ]
    },
    {
     "name": "stdout",
     "output_type": "stream",
     "text": [
      "\n",
      "Epoch 148/300,  Step [86/86], Avg training loss:  nan, Avg training accuracy :  3.10683139%\n",
      "\n"
     ]
    },
    {
     "name": "stderr",
     "output_type": "stream",
     "text": [
      "                                               \r"
     ]
    },
    {
     "name": "stdout",
     "output_type": "stream",
     "text": [
      "\n",
      "Epoch 148, Avg validation loss: nan, Avg validation accuracy : 3.41130607%\n",
      "\n",
      "Validation loss decreased (nan --> nan).  Saving model ...\n"
     ]
    },
    {
     "name": "stderr",
     "output_type": "stream",
     "text": [
      "                                                               \r"
     ]
    },
    {
     "name": "stdout",
     "output_type": "stream",
     "text": [
      "\n",
      "Epoch 149/300,  Step [86/86], Avg training loss:  nan, Avg training accuracy :  3.10683139%\n",
      "\n"
     ]
    },
    {
     "name": "stderr",
     "output_type": "stream",
     "text": [
      "                                               \r"
     ]
    },
    {
     "name": "stdout",
     "output_type": "stream",
     "text": [
      "\n",
      "Epoch 149, Avg validation loss: nan, Avg validation accuracy : 3.41130607%\n",
      "\n",
      "Validation loss decreased (nan --> nan).  Saving model ...\n"
     ]
    },
    {
     "name": "stderr",
     "output_type": "stream",
     "text": [
      "                                                               \r"
     ]
    },
    {
     "name": "stdout",
     "output_type": "stream",
     "text": [
      "\n",
      "Epoch 150/300,  Step [86/86], Avg training loss:  nan, Avg training accuracy :  3.10683139%\n",
      "\n"
     ]
    },
    {
     "name": "stderr",
     "output_type": "stream",
     "text": [
      "                                               \r"
     ]
    },
    {
     "name": "stdout",
     "output_type": "stream",
     "text": [
      "\n",
      "Epoch 150, Avg validation loss: nan, Avg validation accuracy : 3.41130607%\n",
      "\n",
      "Validation loss decreased (nan --> nan).  Saving model ...\n"
     ]
    },
    {
     "name": "stderr",
     "output_type": "stream",
     "text": [
      "                                                               \r"
     ]
    },
    {
     "name": "stdout",
     "output_type": "stream",
     "text": [
      "\n",
      "Epoch 151/300,  Step [86/86], Avg training loss:  nan, Avg training accuracy :  3.10683139%\n",
      "\n"
     ]
    },
    {
     "name": "stderr",
     "output_type": "stream",
     "text": [
      "                                               \r"
     ]
    },
    {
     "name": "stdout",
     "output_type": "stream",
     "text": [
      "\n",
      "Epoch 151, Avg validation loss: nan, Avg validation accuracy : 3.41130607%\n",
      "\n",
      "Validation loss decreased (nan --> nan).  Saving model ...\n"
     ]
    },
    {
     "name": "stderr",
     "output_type": "stream",
     "text": [
      "                                                               \r"
     ]
    },
    {
     "name": "stdout",
     "output_type": "stream",
     "text": [
      "\n",
      "Epoch 152/300,  Step [86/86], Avg training loss:  nan, Avg training accuracy :  3.10683139%\n",
      "\n"
     ]
    },
    {
     "name": "stderr",
     "output_type": "stream",
     "text": [
      "                                               \r"
     ]
    },
    {
     "name": "stdout",
     "output_type": "stream",
     "text": [
      "\n",
      "Epoch 152, Avg validation loss: nan, Avg validation accuracy : 3.41130607%\n",
      "\n",
      "Validation loss decreased (nan --> nan).  Saving model ...\n"
     ]
    },
    {
     "name": "stderr",
     "output_type": "stream",
     "text": [
      "                                                               \r"
     ]
    },
    {
     "name": "stdout",
     "output_type": "stream",
     "text": [
      "\n",
      "Epoch 153/300,  Step [86/86], Avg training loss:  nan, Avg training accuracy :  3.10683139%\n",
      "\n"
     ]
    },
    {
     "name": "stderr",
     "output_type": "stream",
     "text": [
      "                                               \r"
     ]
    },
    {
     "name": "stdout",
     "output_type": "stream",
     "text": [
      "\n",
      "Epoch 153, Avg validation loss: nan, Avg validation accuracy : 3.41130607%\n",
      "\n",
      "Validation loss decreased (nan --> nan).  Saving model ...\n"
     ]
    },
    {
     "name": "stderr",
     "output_type": "stream",
     "text": [
      "                                                               \r"
     ]
    },
    {
     "name": "stdout",
     "output_type": "stream",
     "text": [
      "\n",
      "Epoch 154/300,  Step [86/86], Avg training loss:  nan, Avg training accuracy :  3.10683139%\n",
      "\n"
     ]
    },
    {
     "name": "stderr",
     "output_type": "stream",
     "text": [
      "                                               \r"
     ]
    },
    {
     "name": "stdout",
     "output_type": "stream",
     "text": [
      "\n",
      "Epoch 154, Avg validation loss: nan, Avg validation accuracy : 3.41130607%\n",
      "\n",
      "Validation loss decreased (nan --> nan).  Saving model ...\n"
     ]
    },
    {
     "name": "stderr",
     "output_type": "stream",
     "text": [
      "                                                               \r"
     ]
    },
    {
     "name": "stdout",
     "output_type": "stream",
     "text": [
      "\n",
      "Epoch 155/300,  Step [86/86], Avg training loss:  nan, Avg training accuracy :  3.10683139%\n",
      "\n"
     ]
    },
    {
     "name": "stderr",
     "output_type": "stream",
     "text": [
      "                                               \r"
     ]
    },
    {
     "name": "stdout",
     "output_type": "stream",
     "text": [
      "\n",
      "Epoch 155, Avg validation loss: nan, Avg validation accuracy : 3.41130607%\n",
      "\n",
      "Validation loss decreased (nan --> nan).  Saving model ...\n"
     ]
    },
    {
     "name": "stderr",
     "output_type": "stream",
     "text": [
      "                                                               \r"
     ]
    },
    {
     "name": "stdout",
     "output_type": "stream",
     "text": [
      "\n",
      "Epoch 156/300,  Step [86/86], Avg training loss:  nan, Avg training accuracy :  3.10683139%\n",
      "\n"
     ]
    },
    {
     "name": "stderr",
     "output_type": "stream",
     "text": [
      "                                               \r"
     ]
    },
    {
     "name": "stdout",
     "output_type": "stream",
     "text": [
      "\n",
      "Epoch 156, Avg validation loss: nan, Avg validation accuracy : 3.41130607%\n",
      "\n",
      "Validation loss decreased (nan --> nan).  Saving model ...\n"
     ]
    },
    {
     "name": "stderr",
     "output_type": "stream",
     "text": [
      "                                                               \r"
     ]
    },
    {
     "name": "stdout",
     "output_type": "stream",
     "text": [
      "\n",
      "Epoch 157/300,  Step [86/86], Avg training loss:  nan, Avg training accuracy :  3.10683139%\n",
      "\n"
     ]
    },
    {
     "name": "stderr",
     "output_type": "stream",
     "text": [
      "                                               \r"
     ]
    },
    {
     "name": "stdout",
     "output_type": "stream",
     "text": [
      "\n",
      "Epoch 157, Avg validation loss: nan, Avg validation accuracy : 3.41130607%\n",
      "\n",
      "Validation loss decreased (nan --> nan).  Saving model ...\n"
     ]
    },
    {
     "name": "stderr",
     "output_type": "stream",
     "text": [
      "                                                               \r"
     ]
    },
    {
     "name": "stdout",
     "output_type": "stream",
     "text": [
      "\n",
      "Epoch 158/300,  Step [86/86], Avg training loss:  nan, Avg training accuracy :  3.10683139%\n",
      "\n"
     ]
    },
    {
     "name": "stderr",
     "output_type": "stream",
     "text": [
      "                                               \r"
     ]
    },
    {
     "name": "stdout",
     "output_type": "stream",
     "text": [
      "\n",
      "Epoch 158, Avg validation loss: nan, Avg validation accuracy : 3.41130607%\n",
      "\n",
      "Validation loss decreased (nan --> nan).  Saving model ...\n"
     ]
    },
    {
     "name": "stderr",
     "output_type": "stream",
     "text": [
      "                                                               \r"
     ]
    },
    {
     "name": "stdout",
     "output_type": "stream",
     "text": [
      "\n",
      "Epoch 159/300,  Step [86/86], Avg training loss:  nan, Avg training accuracy :  3.10683139%\n",
      "\n"
     ]
    },
    {
     "name": "stderr",
     "output_type": "stream",
     "text": [
      "                                               \r"
     ]
    },
    {
     "name": "stdout",
     "output_type": "stream",
     "text": [
      "\n",
      "Epoch 159, Avg validation loss: nan, Avg validation accuracy : 3.41130607%\n",
      "\n",
      "Validation loss decreased (nan --> nan).  Saving model ...\n"
     ]
    },
    {
     "name": "stderr",
     "output_type": "stream",
     "text": [
      "                                                               \r"
     ]
    },
    {
     "name": "stdout",
     "output_type": "stream",
     "text": [
      "\n",
      "Epoch 160/300,  Step [86/86], Avg training loss:  nan, Avg training accuracy :  3.10683139%\n",
      "\n"
     ]
    },
    {
     "name": "stderr",
     "output_type": "stream",
     "text": [
      "                                               \r"
     ]
    },
    {
     "name": "stdout",
     "output_type": "stream",
     "text": [
      "\n",
      "Epoch 160, Avg validation loss: nan, Avg validation accuracy : 3.41130607%\n",
      "\n",
      "Validation loss decreased (nan --> nan).  Saving model ...\n"
     ]
    },
    {
     "name": "stderr",
     "output_type": "stream",
     "text": [
      "                                                               \r"
     ]
    },
    {
     "name": "stdout",
     "output_type": "stream",
     "text": [
      "\n",
      "Epoch 161/300,  Step [86/86], Avg training loss:  nan, Avg training accuracy :  3.10683139%\n",
      "\n"
     ]
    },
    {
     "name": "stderr",
     "output_type": "stream",
     "text": [
      "                                               \r"
     ]
    },
    {
     "name": "stdout",
     "output_type": "stream",
     "text": [
      "\n",
      "Epoch 161, Avg validation loss: nan, Avg validation accuracy : 3.41130607%\n",
      "\n",
      "Validation loss decreased (nan --> nan).  Saving model ...\n"
     ]
    },
    {
     "name": "stderr",
     "output_type": "stream",
     "text": [
      "                                                               \r"
     ]
    },
    {
     "name": "stdout",
     "output_type": "stream",
     "text": [
      "\n",
      "Epoch 162/300,  Step [86/86], Avg training loss:  nan, Avg training accuracy :  3.10683139%\n",
      "\n"
     ]
    },
    {
     "name": "stderr",
     "output_type": "stream",
     "text": [
      "                                               \r"
     ]
    },
    {
     "name": "stdout",
     "output_type": "stream",
     "text": [
      "\n",
      "Epoch 162, Avg validation loss: nan, Avg validation accuracy : 3.41130607%\n",
      "\n",
      "Validation loss decreased (nan --> nan).  Saving model ...\n"
     ]
    },
    {
     "name": "stderr",
     "output_type": "stream",
     "text": [
      "                                                               \r"
     ]
    },
    {
     "name": "stdout",
     "output_type": "stream",
     "text": [
      "\n",
      "Epoch 163/300,  Step [86/86], Avg training loss:  nan, Avg training accuracy :  3.10683139%\n",
      "\n"
     ]
    },
    {
     "name": "stderr",
     "output_type": "stream",
     "text": [
      "                                               \r"
     ]
    },
    {
     "name": "stdout",
     "output_type": "stream",
     "text": [
      "\n",
      "Epoch 163, Avg validation loss: nan, Avg validation accuracy : 3.41130607%\n",
      "\n",
      "Validation loss decreased (nan --> nan).  Saving model ...\n"
     ]
    },
    {
     "name": "stderr",
     "output_type": "stream",
     "text": [
      "                                                               \r"
     ]
    },
    {
     "name": "stdout",
     "output_type": "stream",
     "text": [
      "\n",
      "Epoch 164/300,  Step [86/86], Avg training loss:  nan, Avg training accuracy :  3.10683139%\n",
      "\n"
     ]
    },
    {
     "name": "stderr",
     "output_type": "stream",
     "text": [
      "                                               \r"
     ]
    },
    {
     "name": "stdout",
     "output_type": "stream",
     "text": [
      "\n",
      "Epoch 164, Avg validation loss: nan, Avg validation accuracy : 3.41130607%\n",
      "\n",
      "Validation loss decreased (nan --> nan).  Saving model ...\n"
     ]
    },
    {
     "name": "stderr",
     "output_type": "stream",
     "text": [
      "                                                               \r"
     ]
    },
    {
     "name": "stdout",
     "output_type": "stream",
     "text": [
      "\n",
      "Epoch 165/300,  Step [86/86], Avg training loss:  nan, Avg training accuracy :  3.10683139%\n",
      "\n"
     ]
    },
    {
     "name": "stderr",
     "output_type": "stream",
     "text": [
      "                                               \r"
     ]
    },
    {
     "name": "stdout",
     "output_type": "stream",
     "text": [
      "\n",
      "Epoch 165, Avg validation loss: nan, Avg validation accuracy : 3.41130607%\n",
      "\n",
      "Validation loss decreased (nan --> nan).  Saving model ...\n"
     ]
    },
    {
     "name": "stderr",
     "output_type": "stream",
     "text": [
      "                                                               \r"
     ]
    },
    {
     "name": "stdout",
     "output_type": "stream",
     "text": [
      "\n",
      "Epoch 166/300,  Step [86/86], Avg training loss:  nan, Avg training accuracy :  3.10683139%\n",
      "\n"
     ]
    },
    {
     "name": "stderr",
     "output_type": "stream",
     "text": [
      "                                               \r"
     ]
    },
    {
     "name": "stdout",
     "output_type": "stream",
     "text": [
      "\n",
      "Epoch 166, Avg validation loss: nan, Avg validation accuracy : 3.41130607%\n",
      "\n",
      "Validation loss decreased (nan --> nan).  Saving model ...\n"
     ]
    },
    {
     "name": "stderr",
     "output_type": "stream",
     "text": [
      "                                                               \r"
     ]
    },
    {
     "name": "stdout",
     "output_type": "stream",
     "text": [
      "\n",
      "Epoch 167/300,  Step [86/86], Avg training loss:  nan, Avg training accuracy :  3.10683139%\n",
      "\n"
     ]
    },
    {
     "name": "stderr",
     "output_type": "stream",
     "text": [
      "                                               \r"
     ]
    },
    {
     "name": "stdout",
     "output_type": "stream",
     "text": [
      "\n",
      "Epoch 167, Avg validation loss: nan, Avg validation accuracy : 3.41130607%\n",
      "\n",
      "Validation loss decreased (nan --> nan).  Saving model ...\n"
     ]
    },
    {
     "name": "stderr",
     "output_type": "stream",
     "text": [
      "                                                               \r"
     ]
    },
    {
     "name": "stdout",
     "output_type": "stream",
     "text": [
      "\n",
      "Epoch 168/300,  Step [86/86], Avg training loss:  nan, Avg training accuracy :  3.10683139%\n",
      "\n"
     ]
    },
    {
     "name": "stderr",
     "output_type": "stream",
     "text": [
      "                                               \r"
     ]
    },
    {
     "name": "stdout",
     "output_type": "stream",
     "text": [
      "\n",
      "Epoch 168, Avg validation loss: nan, Avg validation accuracy : 3.41130607%\n",
      "\n",
      "Validation loss decreased (nan --> nan).  Saving model ...\n"
     ]
    },
    {
     "name": "stderr",
     "output_type": "stream",
     "text": [
      "                                                               \r"
     ]
    },
    {
     "name": "stdout",
     "output_type": "stream",
     "text": [
      "\n",
      "Epoch 169/300,  Step [86/86], Avg training loss:  nan, Avg training accuracy :  3.10683139%\n",
      "\n"
     ]
    },
    {
     "name": "stderr",
     "output_type": "stream",
     "text": [
      "                                               \r"
     ]
    },
    {
     "name": "stdout",
     "output_type": "stream",
     "text": [
      "\n",
      "Epoch 169, Avg validation loss: nan, Avg validation accuracy : 3.41130607%\n",
      "\n",
      "Validation loss decreased (nan --> nan).  Saving model ...\n"
     ]
    },
    {
     "name": "stderr",
     "output_type": "stream",
     "text": [
      "                                                               \r"
     ]
    },
    {
     "name": "stdout",
     "output_type": "stream",
     "text": [
      "\n",
      "Epoch 170/300,  Step [86/86], Avg training loss:  nan, Avg training accuracy :  3.10683139%\n",
      "\n"
     ]
    },
    {
     "name": "stderr",
     "output_type": "stream",
     "text": [
      "                                               \r"
     ]
    },
    {
     "name": "stdout",
     "output_type": "stream",
     "text": [
      "\n",
      "Epoch 170, Avg validation loss: nan, Avg validation accuracy : 3.41130607%\n",
      "\n",
      "Validation loss decreased (nan --> nan).  Saving model ...\n"
     ]
    },
    {
     "name": "stderr",
     "output_type": "stream",
     "text": [
      "                                                               \r"
     ]
    },
    {
     "name": "stdout",
     "output_type": "stream",
     "text": [
      "\n",
      "Epoch 171/300,  Step [86/86], Avg training loss:  nan, Avg training accuracy :  3.10683139%\n",
      "\n"
     ]
    },
    {
     "name": "stderr",
     "output_type": "stream",
     "text": [
      "                                               \r"
     ]
    },
    {
     "name": "stdout",
     "output_type": "stream",
     "text": [
      "\n",
      "Epoch 171, Avg validation loss: nan, Avg validation accuracy : 3.41130607%\n",
      "\n",
      "Validation loss decreased (nan --> nan).  Saving model ...\n"
     ]
    },
    {
     "name": "stderr",
     "output_type": "stream",
     "text": [
      "                                                               \r"
     ]
    },
    {
     "name": "stdout",
     "output_type": "stream",
     "text": [
      "\n",
      "Epoch 172/300,  Step [86/86], Avg training loss:  nan, Avg training accuracy :  3.10683139%\n",
      "\n"
     ]
    },
    {
     "name": "stderr",
     "output_type": "stream",
     "text": [
      "                                               \r"
     ]
    },
    {
     "name": "stdout",
     "output_type": "stream",
     "text": [
      "\n",
      "Epoch 172, Avg validation loss: nan, Avg validation accuracy : 3.41130607%\n",
      "\n",
      "Validation loss decreased (nan --> nan).  Saving model ...\n"
     ]
    },
    {
     "name": "stderr",
     "output_type": "stream",
     "text": [
      "                                                               \r"
     ]
    },
    {
     "name": "stdout",
     "output_type": "stream",
     "text": [
      "\n",
      "Epoch 173/300,  Step [86/86], Avg training loss:  nan, Avg training accuracy :  3.10683139%\n",
      "\n"
     ]
    },
    {
     "name": "stderr",
     "output_type": "stream",
     "text": [
      "                                               \r"
     ]
    },
    {
     "name": "stdout",
     "output_type": "stream",
     "text": [
      "\n",
      "Epoch 173, Avg validation loss: nan, Avg validation accuracy : 3.41130607%\n",
      "\n",
      "Validation loss decreased (nan --> nan).  Saving model ...\n"
     ]
    },
    {
     "name": "stderr",
     "output_type": "stream",
     "text": [
      "                                                               \r"
     ]
    },
    {
     "name": "stdout",
     "output_type": "stream",
     "text": [
      "\n",
      "Epoch 174/300,  Step [86/86], Avg training loss:  nan, Avg training accuracy :  3.10683139%\n",
      "\n"
     ]
    },
    {
     "name": "stderr",
     "output_type": "stream",
     "text": [
      "                                               \r"
     ]
    },
    {
     "name": "stdout",
     "output_type": "stream",
     "text": [
      "\n",
      "Epoch 174, Avg validation loss: nan, Avg validation accuracy : 3.41130607%\n",
      "\n",
      "Validation loss decreased (nan --> nan).  Saving model ...\n"
     ]
    },
    {
     "name": "stderr",
     "output_type": "stream",
     "text": [
      "                                                               \r"
     ]
    },
    {
     "name": "stdout",
     "output_type": "stream",
     "text": [
      "\n",
      "Epoch 175/300,  Step [86/86], Avg training loss:  nan, Avg training accuracy :  3.10683139%\n",
      "\n"
     ]
    },
    {
     "name": "stderr",
     "output_type": "stream",
     "text": [
      "                                               \r"
     ]
    },
    {
     "name": "stdout",
     "output_type": "stream",
     "text": [
      "\n",
      "Epoch 175, Avg validation loss: nan, Avg validation accuracy : 3.41130607%\n",
      "\n",
      "Validation loss decreased (nan --> nan).  Saving model ...\n"
     ]
    },
    {
     "name": "stderr",
     "output_type": "stream",
     "text": [
      "                                                               \r"
     ]
    },
    {
     "name": "stdout",
     "output_type": "stream",
     "text": [
      "\n",
      "Epoch 176/300,  Step [86/86], Avg training loss:  nan, Avg training accuracy :  3.10683139%\n",
      "\n"
     ]
    },
    {
     "name": "stderr",
     "output_type": "stream",
     "text": [
      "                                               \r"
     ]
    },
    {
     "name": "stdout",
     "output_type": "stream",
     "text": [
      "\n",
      "Epoch 176, Avg validation loss: nan, Avg validation accuracy : 3.41130607%\n",
      "\n",
      "Validation loss decreased (nan --> nan).  Saving model ...\n"
     ]
    },
    {
     "name": "stderr",
     "output_type": "stream",
     "text": [
      "                                                               \r"
     ]
    },
    {
     "name": "stdout",
     "output_type": "stream",
     "text": [
      "\n",
      "Epoch 177/300,  Step [86/86], Avg training loss:  nan, Avg training accuracy :  3.10683139%\n",
      "\n"
     ]
    },
    {
     "name": "stderr",
     "output_type": "stream",
     "text": [
      "                                               \r"
     ]
    },
    {
     "name": "stdout",
     "output_type": "stream",
     "text": [
      "\n",
      "Epoch 177, Avg validation loss: nan, Avg validation accuracy : 3.41130607%\n",
      "\n",
      "Validation loss decreased (nan --> nan).  Saving model ...\n"
     ]
    },
    {
     "name": "stderr",
     "output_type": "stream",
     "text": [
      "                                                               \r"
     ]
    },
    {
     "name": "stdout",
     "output_type": "stream",
     "text": [
      "\n",
      "Epoch 178/300,  Step [86/86], Avg training loss:  nan, Avg training accuracy :  3.10683139%\n",
      "\n"
     ]
    },
    {
     "name": "stderr",
     "output_type": "stream",
     "text": [
      "                                               \r"
     ]
    },
    {
     "name": "stdout",
     "output_type": "stream",
     "text": [
      "\n",
      "Epoch 178, Avg validation loss: nan, Avg validation accuracy : 3.41130607%\n",
      "\n",
      "Validation loss decreased (nan --> nan).  Saving model ...\n"
     ]
    },
    {
     "name": "stderr",
     "output_type": "stream",
     "text": [
      "                                                               \r"
     ]
    },
    {
     "name": "stdout",
     "output_type": "stream",
     "text": [
      "\n",
      "Epoch 179/300,  Step [86/86], Avg training loss:  nan, Avg training accuracy :  3.10683139%\n",
      "\n"
     ]
    },
    {
     "name": "stderr",
     "output_type": "stream",
     "text": [
      "                                               \r"
     ]
    },
    {
     "name": "stdout",
     "output_type": "stream",
     "text": [
      "\n",
      "Epoch 179, Avg validation loss: nan, Avg validation accuracy : 3.41130607%\n",
      "\n",
      "Validation loss decreased (nan --> nan).  Saving model ...\n"
     ]
    },
    {
     "name": "stderr",
     "output_type": "stream",
     "text": [
      "                                                               \r"
     ]
    },
    {
     "name": "stdout",
     "output_type": "stream",
     "text": [
      "\n",
      "Epoch 180/300,  Step [86/86], Avg training loss:  nan, Avg training accuracy :  3.10683139%\n",
      "\n"
     ]
    },
    {
     "name": "stderr",
     "output_type": "stream",
     "text": [
      "                                               \r"
     ]
    },
    {
     "name": "stdout",
     "output_type": "stream",
     "text": [
      "\n",
      "Epoch 180, Avg validation loss: nan, Avg validation accuracy : 3.41130607%\n",
      "\n",
      "Validation loss decreased (nan --> nan).  Saving model ...\n"
     ]
    },
    {
     "name": "stderr",
     "output_type": "stream",
     "text": [
      "                                                               \r"
     ]
    },
    {
     "name": "stdout",
     "output_type": "stream",
     "text": [
      "\n",
      "Epoch 181/300,  Step [86/86], Avg training loss:  nan, Avg training accuracy :  3.10683139%\n",
      "\n"
     ]
    },
    {
     "name": "stderr",
     "output_type": "stream",
     "text": [
      "                                               \r"
     ]
    },
    {
     "name": "stdout",
     "output_type": "stream",
     "text": [
      "\n",
      "Epoch 181, Avg validation loss: nan, Avg validation accuracy : 3.41130607%\n",
      "\n",
      "Validation loss decreased (nan --> nan).  Saving model ...\n"
     ]
    },
    {
     "name": "stderr",
     "output_type": "stream",
     "text": [
      "                                                               \r"
     ]
    },
    {
     "name": "stdout",
     "output_type": "stream",
     "text": [
      "\n",
      "Epoch 182/300,  Step [86/86], Avg training loss:  nan, Avg training accuracy :  3.10683139%\n",
      "\n"
     ]
    },
    {
     "name": "stderr",
     "output_type": "stream",
     "text": [
      "                                               \r"
     ]
    },
    {
     "name": "stdout",
     "output_type": "stream",
     "text": [
      "\n",
      "Epoch 182, Avg validation loss: nan, Avg validation accuracy : 3.41130607%\n",
      "\n",
      "Validation loss decreased (nan --> nan).  Saving model ...\n"
     ]
    },
    {
     "name": "stderr",
     "output_type": "stream",
     "text": [
      "                                                               \r"
     ]
    },
    {
     "name": "stdout",
     "output_type": "stream",
     "text": [
      "\n",
      "Epoch 183/300,  Step [86/86], Avg training loss:  nan, Avg training accuracy :  3.10683139%\n",
      "\n"
     ]
    },
    {
     "name": "stderr",
     "output_type": "stream",
     "text": [
      "                                               \r"
     ]
    },
    {
     "name": "stdout",
     "output_type": "stream",
     "text": [
      "\n",
      "Epoch 183, Avg validation loss: nan, Avg validation accuracy : 3.41130607%\n",
      "\n",
      "Validation loss decreased (nan --> nan).  Saving model ...\n"
     ]
    },
    {
     "name": "stderr",
     "output_type": "stream",
     "text": [
      "                                                               \r"
     ]
    },
    {
     "name": "stdout",
     "output_type": "stream",
     "text": [
      "\n",
      "Epoch 184/300,  Step [86/86], Avg training loss:  nan, Avg training accuracy :  3.10683139%\n",
      "\n"
     ]
    },
    {
     "name": "stderr",
     "output_type": "stream",
     "text": [
      "                                               \r"
     ]
    },
    {
     "name": "stdout",
     "output_type": "stream",
     "text": [
      "\n",
      "Epoch 184, Avg validation loss: nan, Avg validation accuracy : 3.41130607%\n",
      "\n",
      "Validation loss decreased (nan --> nan).  Saving model ...\n"
     ]
    },
    {
     "name": "stderr",
     "output_type": "stream",
     "text": [
      "                                                               \r"
     ]
    },
    {
     "name": "stdout",
     "output_type": "stream",
     "text": [
      "\n",
      "Epoch 185/300,  Step [86/86], Avg training loss:  nan, Avg training accuracy :  3.10683139%\n",
      "\n"
     ]
    },
    {
     "name": "stderr",
     "output_type": "stream",
     "text": [
      "                                               \r"
     ]
    },
    {
     "name": "stdout",
     "output_type": "stream",
     "text": [
      "\n",
      "Epoch 185, Avg validation loss: nan, Avg validation accuracy : 3.41130607%\n",
      "\n",
      "Validation loss decreased (nan --> nan).  Saving model ...\n"
     ]
    },
    {
     "name": "stderr",
     "output_type": "stream",
     "text": [
      "                                                               \r"
     ]
    },
    {
     "name": "stdout",
     "output_type": "stream",
     "text": [
      "\n",
      "Epoch 186/300,  Step [86/86], Avg training loss:  nan, Avg training accuracy :  3.10683139%\n",
      "\n"
     ]
    },
    {
     "name": "stderr",
     "output_type": "stream",
     "text": [
      "                                               \r"
     ]
    },
    {
     "name": "stdout",
     "output_type": "stream",
     "text": [
      "\n",
      "Epoch 186, Avg validation loss: nan, Avg validation accuracy : 3.41130607%\n",
      "\n",
      "Validation loss decreased (nan --> nan).  Saving model ...\n"
     ]
    },
    {
     "name": "stderr",
     "output_type": "stream",
     "text": [
      "                                                               \r"
     ]
    },
    {
     "name": "stdout",
     "output_type": "stream",
     "text": [
      "\n",
      "Epoch 187/300,  Step [86/86], Avg training loss:  nan, Avg training accuracy :  3.10683139%\n",
      "\n"
     ]
    },
    {
     "name": "stderr",
     "output_type": "stream",
     "text": [
      "                                               \r"
     ]
    },
    {
     "name": "stdout",
     "output_type": "stream",
     "text": [
      "\n",
      "Epoch 187, Avg validation loss: nan, Avg validation accuracy : 3.41130607%\n",
      "\n",
      "Validation loss decreased (nan --> nan).  Saving model ...\n"
     ]
    },
    {
     "name": "stderr",
     "output_type": "stream",
     "text": [
      "                                                               \r"
     ]
    },
    {
     "name": "stdout",
     "output_type": "stream",
     "text": [
      "\n",
      "Epoch 188/300,  Step [86/86], Avg training loss:  nan, Avg training accuracy :  3.10683139%\n",
      "\n"
     ]
    },
    {
     "name": "stderr",
     "output_type": "stream",
     "text": [
      "                                               \r"
     ]
    },
    {
     "name": "stdout",
     "output_type": "stream",
     "text": [
      "\n",
      "Epoch 188, Avg validation loss: nan, Avg validation accuracy : 3.41130607%\n",
      "\n",
      "Validation loss decreased (nan --> nan).  Saving model ...\n"
     ]
    },
    {
     "name": "stderr",
     "output_type": "stream",
     "text": [
      "                                                               \r"
     ]
    },
    {
     "name": "stdout",
     "output_type": "stream",
     "text": [
      "\n",
      "Epoch 189/300,  Step [86/86], Avg training loss:  nan, Avg training accuracy :  3.10683139%\n",
      "\n"
     ]
    },
    {
     "name": "stderr",
     "output_type": "stream",
     "text": [
      "                                               \r"
     ]
    },
    {
     "name": "stdout",
     "output_type": "stream",
     "text": [
      "\n",
      "Epoch 189, Avg validation loss: nan, Avg validation accuracy : 3.41130607%\n",
      "\n",
      "Validation loss decreased (nan --> nan).  Saving model ...\n"
     ]
    },
    {
     "name": "stderr",
     "output_type": "stream",
     "text": [
      "                                                               \r"
     ]
    },
    {
     "name": "stdout",
     "output_type": "stream",
     "text": [
      "\n",
      "Epoch 190/300,  Step [86/86], Avg training loss:  nan, Avg training accuracy :  3.10683139%\n",
      "\n"
     ]
    },
    {
     "name": "stderr",
     "output_type": "stream",
     "text": [
      "                                               \r"
     ]
    },
    {
     "name": "stdout",
     "output_type": "stream",
     "text": [
      "\n",
      "Epoch 190, Avg validation loss: nan, Avg validation accuracy : 3.41130607%\n",
      "\n",
      "Validation loss decreased (nan --> nan).  Saving model ...\n"
     ]
    },
    {
     "name": "stderr",
     "output_type": "stream",
     "text": [
      "                                                               \r"
     ]
    },
    {
     "name": "stdout",
     "output_type": "stream",
     "text": [
      "\n",
      "Epoch 191/300,  Step [86/86], Avg training loss:  nan, Avg training accuracy :  3.10683139%\n",
      "\n"
     ]
    },
    {
     "name": "stderr",
     "output_type": "stream",
     "text": [
      "                                               \r"
     ]
    },
    {
     "name": "stdout",
     "output_type": "stream",
     "text": [
      "\n",
      "Epoch 191, Avg validation loss: nan, Avg validation accuracy : 3.41130607%\n",
      "\n",
      "Validation loss decreased (nan --> nan).  Saving model ...\n"
     ]
    },
    {
     "name": "stderr",
     "output_type": "stream",
     "text": [
      "                                                               \r"
     ]
    },
    {
     "name": "stdout",
     "output_type": "stream",
     "text": [
      "\n",
      "Epoch 192/300,  Step [86/86], Avg training loss:  nan, Avg training accuracy :  3.10683139%\n",
      "\n"
     ]
    },
    {
     "name": "stderr",
     "output_type": "stream",
     "text": [
      "                                               \r"
     ]
    },
    {
     "name": "stdout",
     "output_type": "stream",
     "text": [
      "\n",
      "Epoch 192, Avg validation loss: nan, Avg validation accuracy : 3.41130607%\n",
      "\n",
      "Validation loss decreased (nan --> nan).  Saving model ...\n"
     ]
    },
    {
     "name": "stderr",
     "output_type": "stream",
     "text": [
      "                                                               \r"
     ]
    },
    {
     "name": "stdout",
     "output_type": "stream",
     "text": [
      "\n",
      "Epoch 193/300,  Step [86/86], Avg training loss:  nan, Avg training accuracy :  3.10683139%\n",
      "\n"
     ]
    },
    {
     "name": "stderr",
     "output_type": "stream",
     "text": [
      "                                               \r"
     ]
    },
    {
     "name": "stdout",
     "output_type": "stream",
     "text": [
      "\n",
      "Epoch 193, Avg validation loss: nan, Avg validation accuracy : 3.41130607%\n",
      "\n",
      "Validation loss decreased (nan --> nan).  Saving model ...\n"
     ]
    },
    {
     "name": "stderr",
     "output_type": "stream",
     "text": [
      "                                                               \r"
     ]
    },
    {
     "name": "stdout",
     "output_type": "stream",
     "text": [
      "\n",
      "Epoch 194/300,  Step [86/86], Avg training loss:  nan, Avg training accuracy :  3.10683139%\n",
      "\n"
     ]
    },
    {
     "name": "stderr",
     "output_type": "stream",
     "text": [
      "                                               \r"
     ]
    },
    {
     "name": "stdout",
     "output_type": "stream",
     "text": [
      "\n",
      "Epoch 194, Avg validation loss: nan, Avg validation accuracy : 3.41130607%\n",
      "\n",
      "Validation loss decreased (nan --> nan).  Saving model ...\n"
     ]
    },
    {
     "name": "stderr",
     "output_type": "stream",
     "text": [
      "                                                               \r"
     ]
    },
    {
     "name": "stdout",
     "output_type": "stream",
     "text": [
      "\n",
      "Epoch 195/300,  Step [86/86], Avg training loss:  nan, Avg training accuracy :  3.10683139%\n",
      "\n"
     ]
    },
    {
     "name": "stderr",
     "output_type": "stream",
     "text": [
      "                                               \r"
     ]
    },
    {
     "name": "stdout",
     "output_type": "stream",
     "text": [
      "\n",
      "Epoch 195, Avg validation loss: nan, Avg validation accuracy : 3.41130607%\n",
      "\n",
      "Validation loss decreased (nan --> nan).  Saving model ...\n"
     ]
    },
    {
     "name": "stderr",
     "output_type": "stream",
     "text": [
      "                                                               \r"
     ]
    },
    {
     "name": "stdout",
     "output_type": "stream",
     "text": [
      "\n",
      "Epoch 196/300,  Step [86/86], Avg training loss:  nan, Avg training accuracy :  3.10683139%\n",
      "\n"
     ]
    },
    {
     "name": "stderr",
     "output_type": "stream",
     "text": [
      "                                               \r"
     ]
    },
    {
     "name": "stdout",
     "output_type": "stream",
     "text": [
      "\n",
      "Epoch 196, Avg validation loss: nan, Avg validation accuracy : 3.41130607%\n",
      "\n",
      "Validation loss decreased (nan --> nan).  Saving model ...\n"
     ]
    },
    {
     "name": "stderr",
     "output_type": "stream",
     "text": [
      "                                                               \r"
     ]
    },
    {
     "name": "stdout",
     "output_type": "stream",
     "text": [
      "\n",
      "Epoch 197/300,  Step [86/86], Avg training loss:  nan, Avg training accuracy :  3.10683139%\n",
      "\n"
     ]
    },
    {
     "name": "stderr",
     "output_type": "stream",
     "text": [
      "                                               \r"
     ]
    },
    {
     "name": "stdout",
     "output_type": "stream",
     "text": [
      "\n",
      "Epoch 197, Avg validation loss: nan, Avg validation accuracy : 3.41130607%\n",
      "\n",
      "Validation loss decreased (nan --> nan).  Saving model ...\n"
     ]
    },
    {
     "name": "stderr",
     "output_type": "stream",
     "text": [
      "                                                               \r"
     ]
    },
    {
     "name": "stdout",
     "output_type": "stream",
     "text": [
      "\n",
      "Epoch 198/300,  Step [86/86], Avg training loss:  nan, Avg training accuracy :  3.10683139%\n",
      "\n"
     ]
    },
    {
     "name": "stderr",
     "output_type": "stream",
     "text": [
      "                                               \r"
     ]
    },
    {
     "name": "stdout",
     "output_type": "stream",
     "text": [
      "\n",
      "Epoch 198, Avg validation loss: nan, Avg validation accuracy : 3.41130607%\n",
      "\n",
      "Validation loss decreased (nan --> nan).  Saving model ...\n"
     ]
    },
    {
     "name": "stderr",
     "output_type": "stream",
     "text": [
      "                                                               \r"
     ]
    },
    {
     "name": "stdout",
     "output_type": "stream",
     "text": [
      "\n",
      "Epoch 199/300,  Step [86/86], Avg training loss:  nan, Avg training accuracy :  3.10683139%\n",
      "\n"
     ]
    },
    {
     "name": "stderr",
     "output_type": "stream",
     "text": [
      "                                               \r"
     ]
    },
    {
     "name": "stdout",
     "output_type": "stream",
     "text": [
      "\n",
      "Epoch 199, Avg validation loss: nan, Avg validation accuracy : 3.41130607%\n",
      "\n",
      "Validation loss decreased (nan --> nan).  Saving model ...\n"
     ]
    },
    {
     "name": "stderr",
     "output_type": "stream",
     "text": [
      "                                                               \r"
     ]
    },
    {
     "name": "stdout",
     "output_type": "stream",
     "text": [
      "\n",
      "Epoch 200/300,  Step [86/86], Avg training loss:  nan, Avg training accuracy :  3.10683139%\n",
      "\n"
     ]
    },
    {
     "name": "stderr",
     "output_type": "stream",
     "text": [
      "                                               \r"
     ]
    },
    {
     "name": "stdout",
     "output_type": "stream",
     "text": [
      "\n",
      "Epoch 200, Avg validation loss: nan, Avg validation accuracy : 3.41130607%\n",
      "\n",
      "Validation loss decreased (nan --> nan).  Saving model ...\n"
     ]
    },
    {
     "name": "stderr",
     "output_type": "stream",
     "text": [
      "                                                               \r"
     ]
    },
    {
     "name": "stdout",
     "output_type": "stream",
     "text": [
      "\n",
      "Epoch 201/300,  Step [86/86], Avg training loss:  nan, Avg training accuracy :  3.10683139%\n",
      "\n"
     ]
    },
    {
     "name": "stderr",
     "output_type": "stream",
     "text": [
      "                                               \r"
     ]
    },
    {
     "name": "stdout",
     "output_type": "stream",
     "text": [
      "\n",
      "Epoch 201, Avg validation loss: nan, Avg validation accuracy : 3.41130607%\n",
      "\n",
      "Validation loss decreased (nan --> nan).  Saving model ...\n"
     ]
    },
    {
     "name": "stderr",
     "output_type": "stream",
     "text": [
      "                                                               \r"
     ]
    },
    {
     "name": "stdout",
     "output_type": "stream",
     "text": [
      "\n",
      "Epoch 202/300,  Step [86/86], Avg training loss:  nan, Avg training accuracy :  3.10683139%\n",
      "\n"
     ]
    },
    {
     "name": "stderr",
     "output_type": "stream",
     "text": [
      "                                               \r"
     ]
    },
    {
     "name": "stdout",
     "output_type": "stream",
     "text": [
      "\n",
      "Epoch 202, Avg validation loss: nan, Avg validation accuracy : 3.41130607%\n",
      "\n",
      "Validation loss decreased (nan --> nan).  Saving model ...\n"
     ]
    },
    {
     "name": "stderr",
     "output_type": "stream",
     "text": [
      "                                                               \r"
     ]
    },
    {
     "name": "stdout",
     "output_type": "stream",
     "text": [
      "\n",
      "Epoch 203/300,  Step [86/86], Avg training loss:  nan, Avg training accuracy :  3.10683139%\n",
      "\n"
     ]
    },
    {
     "name": "stderr",
     "output_type": "stream",
     "text": [
      "                                               \r"
     ]
    },
    {
     "name": "stdout",
     "output_type": "stream",
     "text": [
      "\n",
      "Epoch 203, Avg validation loss: nan, Avg validation accuracy : 3.41130607%\n",
      "\n",
      "Validation loss decreased (nan --> nan).  Saving model ...\n"
     ]
    },
    {
     "name": "stderr",
     "output_type": "stream",
     "text": [
      "                                                               \r"
     ]
    },
    {
     "name": "stdout",
     "output_type": "stream",
     "text": [
      "\n",
      "Epoch 204/300,  Step [86/86], Avg training loss:  nan, Avg training accuracy :  3.10683139%\n",
      "\n"
     ]
    },
    {
     "name": "stderr",
     "output_type": "stream",
     "text": [
      "                                               \r"
     ]
    },
    {
     "name": "stdout",
     "output_type": "stream",
     "text": [
      "\n",
      "Epoch 204, Avg validation loss: nan, Avg validation accuracy : 3.41130607%\n",
      "\n",
      "Validation loss decreased (nan --> nan).  Saving model ...\n"
     ]
    },
    {
     "name": "stderr",
     "output_type": "stream",
     "text": [
      "                                                               \r"
     ]
    },
    {
     "name": "stdout",
     "output_type": "stream",
     "text": [
      "\n",
      "Epoch 205/300,  Step [86/86], Avg training loss:  nan, Avg training accuracy :  3.10683139%\n",
      "\n"
     ]
    },
    {
     "name": "stderr",
     "output_type": "stream",
     "text": [
      "                                               \r"
     ]
    },
    {
     "name": "stdout",
     "output_type": "stream",
     "text": [
      "\n",
      "Epoch 205, Avg validation loss: nan, Avg validation accuracy : 3.41130607%\n",
      "\n",
      "Validation loss decreased (nan --> nan).  Saving model ...\n"
     ]
    },
    {
     "name": "stderr",
     "output_type": "stream",
     "text": [
      "                                                               \r"
     ]
    },
    {
     "name": "stdout",
     "output_type": "stream",
     "text": [
      "\n",
      "Epoch 206/300,  Step [86/86], Avg training loss:  nan, Avg training accuracy :  3.10683139%\n",
      "\n"
     ]
    },
    {
     "name": "stderr",
     "output_type": "stream",
     "text": [
      "                                               \r"
     ]
    },
    {
     "name": "stdout",
     "output_type": "stream",
     "text": [
      "\n",
      "Epoch 206, Avg validation loss: nan, Avg validation accuracy : 3.41130607%\n",
      "\n",
      "Validation loss decreased (nan --> nan).  Saving model ...\n"
     ]
    },
    {
     "name": "stderr",
     "output_type": "stream",
     "text": [
      "                                                               \r"
     ]
    },
    {
     "name": "stdout",
     "output_type": "stream",
     "text": [
      "\n",
      "Epoch 207/300,  Step [86/86], Avg training loss:  nan, Avg training accuracy :  3.10683139%\n",
      "\n"
     ]
    },
    {
     "name": "stderr",
     "output_type": "stream",
     "text": [
      "                                               \r"
     ]
    },
    {
     "name": "stdout",
     "output_type": "stream",
     "text": [
      "\n",
      "Epoch 207, Avg validation loss: nan, Avg validation accuracy : 3.41130607%\n",
      "\n",
      "Validation loss decreased (nan --> nan).  Saving model ...\n"
     ]
    },
    {
     "name": "stderr",
     "output_type": "stream",
     "text": [
      "                                                               \r"
     ]
    },
    {
     "name": "stdout",
     "output_type": "stream",
     "text": [
      "\n",
      "Epoch 208/300,  Step [86/86], Avg training loss:  nan, Avg training accuracy :  3.10683139%\n",
      "\n"
     ]
    },
    {
     "name": "stderr",
     "output_type": "stream",
     "text": [
      "                                               \r"
     ]
    },
    {
     "name": "stdout",
     "output_type": "stream",
     "text": [
      "\n",
      "Epoch 208, Avg validation loss: nan, Avg validation accuracy : 3.41130607%\n",
      "\n",
      "Validation loss decreased (nan --> nan).  Saving model ...\n"
     ]
    },
    {
     "name": "stderr",
     "output_type": "stream",
     "text": [
      "                                                               \r"
     ]
    },
    {
     "name": "stdout",
     "output_type": "stream",
     "text": [
      "\n",
      "Epoch 209/300,  Step [86/86], Avg training loss:  nan, Avg training accuracy :  3.10683139%\n",
      "\n"
     ]
    },
    {
     "name": "stderr",
     "output_type": "stream",
     "text": [
      "                                               \r"
     ]
    },
    {
     "name": "stdout",
     "output_type": "stream",
     "text": [
      "\n",
      "Epoch 209, Avg validation loss: nan, Avg validation accuracy : 3.41130607%\n",
      "\n",
      "Validation loss decreased (nan --> nan).  Saving model ...\n"
     ]
    },
    {
     "name": "stderr",
     "output_type": "stream",
     "text": [
      "                                                               \r"
     ]
    },
    {
     "name": "stdout",
     "output_type": "stream",
     "text": [
      "\n",
      "Epoch 210/300,  Step [86/86], Avg training loss:  nan, Avg training accuracy :  3.10683139%\n",
      "\n"
     ]
    },
    {
     "name": "stderr",
     "output_type": "stream",
     "text": [
      "                                               \r"
     ]
    },
    {
     "name": "stdout",
     "output_type": "stream",
     "text": [
      "\n",
      "Epoch 210, Avg validation loss: nan, Avg validation accuracy : 3.41130607%\n",
      "\n",
      "Validation loss decreased (nan --> nan).  Saving model ...\n"
     ]
    },
    {
     "name": "stderr",
     "output_type": "stream",
     "text": [
      "                                                               \r"
     ]
    },
    {
     "name": "stdout",
     "output_type": "stream",
     "text": [
      "\n",
      "Epoch 211/300,  Step [86/86], Avg training loss:  nan, Avg training accuracy :  3.10683139%\n",
      "\n"
     ]
    },
    {
     "name": "stderr",
     "output_type": "stream",
     "text": [
      "                                               \r"
     ]
    },
    {
     "name": "stdout",
     "output_type": "stream",
     "text": [
      "\n",
      "Epoch 211, Avg validation loss: nan, Avg validation accuracy : 3.41130607%\n",
      "\n",
      "Validation loss decreased (nan --> nan).  Saving model ...\n"
     ]
    },
    {
     "name": "stderr",
     "output_type": "stream",
     "text": [
      "                                                               \r"
     ]
    },
    {
     "name": "stdout",
     "output_type": "stream",
     "text": [
      "\n",
      "Epoch 212/300,  Step [86/86], Avg training loss:  nan, Avg training accuracy :  3.10683139%\n",
      "\n"
     ]
    },
    {
     "name": "stderr",
     "output_type": "stream",
     "text": [
      "                                               \r"
     ]
    },
    {
     "name": "stdout",
     "output_type": "stream",
     "text": [
      "\n",
      "Epoch 212, Avg validation loss: nan, Avg validation accuracy : 3.41130607%\n",
      "\n",
      "Validation loss decreased (nan --> nan).  Saving model ...\n"
     ]
    },
    {
     "name": "stderr",
     "output_type": "stream",
     "text": [
      "                                                               \r"
     ]
    },
    {
     "name": "stdout",
     "output_type": "stream",
     "text": [
      "\n",
      "Epoch 213/300,  Step [86/86], Avg training loss:  nan, Avg training accuracy :  3.10683139%\n",
      "\n"
     ]
    },
    {
     "name": "stderr",
     "output_type": "stream",
     "text": [
      "                                               \r"
     ]
    },
    {
     "name": "stdout",
     "output_type": "stream",
     "text": [
      "\n",
      "Epoch 213, Avg validation loss: nan, Avg validation accuracy : 3.41130607%\n",
      "\n",
      "Validation loss decreased (nan --> nan).  Saving model ...\n"
     ]
    },
    {
     "name": "stderr",
     "output_type": "stream",
     "text": [
      "                                                               \r"
     ]
    },
    {
     "name": "stdout",
     "output_type": "stream",
     "text": [
      "\n",
      "Epoch 214/300,  Step [86/86], Avg training loss:  nan, Avg training accuracy :  3.10683139%\n",
      "\n"
     ]
    },
    {
     "name": "stderr",
     "output_type": "stream",
     "text": [
      "                                               \r"
     ]
    },
    {
     "name": "stdout",
     "output_type": "stream",
     "text": [
      "\n",
      "Epoch 214, Avg validation loss: nan, Avg validation accuracy : 3.41130607%\n",
      "\n",
      "Validation loss decreased (nan --> nan).  Saving model ...\n"
     ]
    },
    {
     "name": "stderr",
     "output_type": "stream",
     "text": [
      "                                                               \r"
     ]
    },
    {
     "name": "stdout",
     "output_type": "stream",
     "text": [
      "\n",
      "Epoch 215/300,  Step [86/86], Avg training loss:  nan, Avg training accuracy :  3.10683139%\n",
      "\n"
     ]
    },
    {
     "name": "stderr",
     "output_type": "stream",
     "text": [
      "                                               \r"
     ]
    },
    {
     "name": "stdout",
     "output_type": "stream",
     "text": [
      "\n",
      "Epoch 215, Avg validation loss: nan, Avg validation accuracy : 3.41130607%\n",
      "\n",
      "Validation loss decreased (nan --> nan).  Saving model ...\n"
     ]
    },
    {
     "name": "stderr",
     "output_type": "stream",
     "text": [
      "                                                               \r"
     ]
    },
    {
     "name": "stdout",
     "output_type": "stream",
     "text": [
      "\n",
      "Epoch 216/300,  Step [86/86], Avg training loss:  nan, Avg training accuracy :  3.10683139%\n",
      "\n"
     ]
    },
    {
     "name": "stderr",
     "output_type": "stream",
     "text": [
      "                                               \r"
     ]
    },
    {
     "name": "stdout",
     "output_type": "stream",
     "text": [
      "\n",
      "Epoch 216, Avg validation loss: nan, Avg validation accuracy : 3.41130607%\n",
      "\n",
      "Validation loss decreased (nan --> nan).  Saving model ...\n"
     ]
    },
    {
     "name": "stderr",
     "output_type": "stream",
     "text": [
      "                                                               \r"
     ]
    },
    {
     "name": "stdout",
     "output_type": "stream",
     "text": [
      "\n",
      "Epoch 217/300,  Step [86/86], Avg training loss:  nan, Avg training accuracy :  3.10683139%\n",
      "\n"
     ]
    },
    {
     "name": "stderr",
     "output_type": "stream",
     "text": [
      "                                               \r"
     ]
    },
    {
     "name": "stdout",
     "output_type": "stream",
     "text": [
      "\n",
      "Epoch 217, Avg validation loss: nan, Avg validation accuracy : 3.41130607%\n",
      "\n",
      "Validation loss decreased (nan --> nan).  Saving model ...\n"
     ]
    },
    {
     "name": "stderr",
     "output_type": "stream",
     "text": [
      "                                                               \r"
     ]
    },
    {
     "name": "stdout",
     "output_type": "stream",
     "text": [
      "\n",
      "Epoch 218/300,  Step [86/86], Avg training loss:  nan, Avg training accuracy :  3.10683139%\n",
      "\n"
     ]
    },
    {
     "name": "stderr",
     "output_type": "stream",
     "text": [
      "                                               \r"
     ]
    },
    {
     "name": "stdout",
     "output_type": "stream",
     "text": [
      "\n",
      "Epoch 218, Avg validation loss: nan, Avg validation accuracy : 3.41130607%\n",
      "\n",
      "Validation loss decreased (nan --> nan).  Saving model ...\n"
     ]
    },
    {
     "name": "stderr",
     "output_type": "stream",
     "text": [
      "                                                               \r"
     ]
    },
    {
     "name": "stdout",
     "output_type": "stream",
     "text": [
      "\n",
      "Epoch 219/300,  Step [86/86], Avg training loss:  nan, Avg training accuracy :  3.10683139%\n",
      "\n"
     ]
    },
    {
     "name": "stderr",
     "output_type": "stream",
     "text": [
      "                                               \r"
     ]
    },
    {
     "name": "stdout",
     "output_type": "stream",
     "text": [
      "\n",
      "Epoch 219, Avg validation loss: nan, Avg validation accuracy : 3.41130607%\n",
      "\n",
      "Validation loss decreased (nan --> nan).  Saving model ...\n"
     ]
    },
    {
     "name": "stderr",
     "output_type": "stream",
     "text": [
      "                                                               \r"
     ]
    },
    {
     "name": "stdout",
     "output_type": "stream",
     "text": [
      "\n",
      "Epoch 220/300,  Step [86/86], Avg training loss:  nan, Avg training accuracy :  3.10683139%\n",
      "\n"
     ]
    },
    {
     "name": "stderr",
     "output_type": "stream",
     "text": [
      "                                               \r"
     ]
    },
    {
     "name": "stdout",
     "output_type": "stream",
     "text": [
      "\n",
      "Epoch 220, Avg validation loss: nan, Avg validation accuracy : 3.41130607%\n",
      "\n",
      "Validation loss decreased (nan --> nan).  Saving model ...\n"
     ]
    },
    {
     "name": "stderr",
     "output_type": "stream",
     "text": [
      "                                                               \r"
     ]
    },
    {
     "name": "stdout",
     "output_type": "stream",
     "text": [
      "\n",
      "Epoch 221/300,  Step [86/86], Avg training loss:  nan, Avg training accuracy :  3.10683139%\n",
      "\n"
     ]
    },
    {
     "name": "stderr",
     "output_type": "stream",
     "text": [
      "                                               \r"
     ]
    },
    {
     "name": "stdout",
     "output_type": "stream",
     "text": [
      "\n",
      "Epoch 221, Avg validation loss: nan, Avg validation accuracy : 3.41130607%\n",
      "\n",
      "Validation loss decreased (nan --> nan).  Saving model ...\n"
     ]
    },
    {
     "name": "stderr",
     "output_type": "stream",
     "text": [
      "                                                               \r"
     ]
    },
    {
     "name": "stdout",
     "output_type": "stream",
     "text": [
      "\n",
      "Epoch 222/300,  Step [86/86], Avg training loss:  nan, Avg training accuracy :  3.10683139%\n",
      "\n"
     ]
    },
    {
     "name": "stderr",
     "output_type": "stream",
     "text": [
      "                                               \r"
     ]
    },
    {
     "name": "stdout",
     "output_type": "stream",
     "text": [
      "\n",
      "Epoch 222, Avg validation loss: nan, Avg validation accuracy : 3.41130607%\n",
      "\n",
      "Validation loss decreased (nan --> nan).  Saving model ...\n"
     ]
    },
    {
     "name": "stderr",
     "output_type": "stream",
     "text": [
      "                                                               \r"
     ]
    },
    {
     "name": "stdout",
     "output_type": "stream",
     "text": [
      "\n",
      "Epoch 223/300,  Step [86/86], Avg training loss:  nan, Avg training accuracy :  3.10683139%\n",
      "\n"
     ]
    },
    {
     "name": "stderr",
     "output_type": "stream",
     "text": [
      "                                               \r"
     ]
    },
    {
     "name": "stdout",
     "output_type": "stream",
     "text": [
      "\n",
      "Epoch 223, Avg validation loss: nan, Avg validation accuracy : 3.41130607%\n",
      "\n",
      "Validation loss decreased (nan --> nan).  Saving model ...\n"
     ]
    },
    {
     "name": "stderr",
     "output_type": "stream",
     "text": [
      "                                                               \r"
     ]
    },
    {
     "name": "stdout",
     "output_type": "stream",
     "text": [
      "\n",
      "Epoch 224/300,  Step [86/86], Avg training loss:  nan, Avg training accuracy :  3.10683139%\n",
      "\n"
     ]
    },
    {
     "name": "stderr",
     "output_type": "stream",
     "text": [
      "                                               \r"
     ]
    },
    {
     "name": "stdout",
     "output_type": "stream",
     "text": [
      "\n",
      "Epoch 224, Avg validation loss: nan, Avg validation accuracy : 3.41130607%\n",
      "\n",
      "Validation loss decreased (nan --> nan).  Saving model ...\n"
     ]
    },
    {
     "name": "stderr",
     "output_type": "stream",
     "text": [
      "                                                               \r"
     ]
    },
    {
     "name": "stdout",
     "output_type": "stream",
     "text": [
      "\n",
      "Epoch 225/300,  Step [86/86], Avg training loss:  nan, Avg training accuracy :  3.10683139%\n",
      "\n"
     ]
    },
    {
     "name": "stderr",
     "output_type": "stream",
     "text": [
      "                                               \r"
     ]
    },
    {
     "name": "stdout",
     "output_type": "stream",
     "text": [
      "\n",
      "Epoch 225, Avg validation loss: nan, Avg validation accuracy : 3.41130607%\n",
      "\n",
      "Validation loss decreased (nan --> nan).  Saving model ...\n"
     ]
    },
    {
     "name": "stderr",
     "output_type": "stream",
     "text": [
      "                                                               \r"
     ]
    },
    {
     "name": "stdout",
     "output_type": "stream",
     "text": [
      "\n",
      "Epoch 226/300,  Step [86/86], Avg training loss:  nan, Avg training accuracy :  3.10683139%\n",
      "\n"
     ]
    },
    {
     "name": "stderr",
     "output_type": "stream",
     "text": [
      "                                               \r"
     ]
    },
    {
     "name": "stdout",
     "output_type": "stream",
     "text": [
      "\n",
      "Epoch 226, Avg validation loss: nan, Avg validation accuracy : 3.41130607%\n",
      "\n",
      "Validation loss decreased (nan --> nan).  Saving model ...\n"
     ]
    },
    {
     "name": "stderr",
     "output_type": "stream",
     "text": [
      "                                                               \r"
     ]
    },
    {
     "name": "stdout",
     "output_type": "stream",
     "text": [
      "\n",
      "Epoch 227/300,  Step [86/86], Avg training loss:  nan, Avg training accuracy :  3.10683139%\n",
      "\n"
     ]
    },
    {
     "name": "stderr",
     "output_type": "stream",
     "text": [
      "                                               \r"
     ]
    },
    {
     "name": "stdout",
     "output_type": "stream",
     "text": [
      "\n",
      "Epoch 227, Avg validation loss: nan, Avg validation accuracy : 3.41130607%\n",
      "\n",
      "Validation loss decreased (nan --> nan).  Saving model ...\n"
     ]
    },
    {
     "name": "stderr",
     "output_type": "stream",
     "text": [
      "                                                               \r"
     ]
    },
    {
     "name": "stdout",
     "output_type": "stream",
     "text": [
      "\n",
      "Epoch 228/300,  Step [86/86], Avg training loss:  nan, Avg training accuracy :  3.10683139%\n",
      "\n"
     ]
    },
    {
     "name": "stderr",
     "output_type": "stream",
     "text": [
      "                                               \r"
     ]
    },
    {
     "name": "stdout",
     "output_type": "stream",
     "text": [
      "\n",
      "Epoch 228, Avg validation loss: nan, Avg validation accuracy : 3.41130607%\n",
      "\n",
      "Validation loss decreased (nan --> nan).  Saving model ...\n"
     ]
    },
    {
     "name": "stderr",
     "output_type": "stream",
     "text": [
      "                                                               \r"
     ]
    },
    {
     "name": "stdout",
     "output_type": "stream",
     "text": [
      "\n",
      "Epoch 229/300,  Step [86/86], Avg training loss:  nan, Avg training accuracy :  3.10683139%\n",
      "\n"
     ]
    },
    {
     "name": "stderr",
     "output_type": "stream",
     "text": [
      "                                               \r"
     ]
    },
    {
     "name": "stdout",
     "output_type": "stream",
     "text": [
      "\n",
      "Epoch 229, Avg validation loss: nan, Avg validation accuracy : 3.41130607%\n",
      "\n",
      "Validation loss decreased (nan --> nan).  Saving model ...\n"
     ]
    },
    {
     "name": "stderr",
     "output_type": "stream",
     "text": [
      "                                                               \r"
     ]
    },
    {
     "name": "stdout",
     "output_type": "stream",
     "text": [
      "\n",
      "Epoch 230/300,  Step [86/86], Avg training loss:  nan, Avg training accuracy :  3.10683139%\n",
      "\n"
     ]
    },
    {
     "name": "stderr",
     "output_type": "stream",
     "text": [
      "                                               \r"
     ]
    },
    {
     "name": "stdout",
     "output_type": "stream",
     "text": [
      "\n",
      "Epoch 230, Avg validation loss: nan, Avg validation accuracy : 3.41130607%\n",
      "\n",
      "Validation loss decreased (nan --> nan).  Saving model ...\n"
     ]
    },
    {
     "name": "stderr",
     "output_type": "stream",
     "text": [
      "                                                               \r"
     ]
    },
    {
     "name": "stdout",
     "output_type": "stream",
     "text": [
      "\n",
      "Epoch 231/300,  Step [86/86], Avg training loss:  nan, Avg training accuracy :  3.10683139%\n",
      "\n"
     ]
    },
    {
     "name": "stderr",
     "output_type": "stream",
     "text": [
      "                                               \r"
     ]
    },
    {
     "name": "stdout",
     "output_type": "stream",
     "text": [
      "\n",
      "Epoch 231, Avg validation loss: nan, Avg validation accuracy : 3.41130607%\n",
      "\n",
      "Validation loss decreased (nan --> nan).  Saving model ...\n"
     ]
    },
    {
     "name": "stderr",
     "output_type": "stream",
     "text": [
      "                                                               \r"
     ]
    },
    {
     "name": "stdout",
     "output_type": "stream",
     "text": [
      "\n",
      "Epoch 232/300,  Step [86/86], Avg training loss:  nan, Avg training accuracy :  3.10683139%\n",
      "\n"
     ]
    },
    {
     "name": "stderr",
     "output_type": "stream",
     "text": [
      "                                               \r"
     ]
    },
    {
     "name": "stdout",
     "output_type": "stream",
     "text": [
      "\n",
      "Epoch 232, Avg validation loss: nan, Avg validation accuracy : 3.41130607%\n",
      "\n",
      "Validation loss decreased (nan --> nan).  Saving model ...\n"
     ]
    },
    {
     "name": "stderr",
     "output_type": "stream",
     "text": [
      "                                                               \r"
     ]
    },
    {
     "name": "stdout",
     "output_type": "stream",
     "text": [
      "\n",
      "Epoch 233/300,  Step [86/86], Avg training loss:  nan, Avg training accuracy :  3.10683139%\n",
      "\n"
     ]
    },
    {
     "name": "stderr",
     "output_type": "stream",
     "text": [
      "                                               \r"
     ]
    },
    {
     "name": "stdout",
     "output_type": "stream",
     "text": [
      "\n",
      "Epoch 233, Avg validation loss: nan, Avg validation accuracy : 3.41130607%\n",
      "\n",
      "Validation loss decreased (nan --> nan).  Saving model ...\n"
     ]
    },
    {
     "name": "stderr",
     "output_type": "stream",
     "text": [
      "                                                               \r"
     ]
    },
    {
     "name": "stdout",
     "output_type": "stream",
     "text": [
      "\n",
      "Epoch 234/300,  Step [86/86], Avg training loss:  nan, Avg training accuracy :  3.10683139%\n",
      "\n"
     ]
    },
    {
     "name": "stderr",
     "output_type": "stream",
     "text": [
      "                                               \r"
     ]
    },
    {
     "name": "stdout",
     "output_type": "stream",
     "text": [
      "\n",
      "Epoch 234, Avg validation loss: nan, Avg validation accuracy : 3.41130607%\n",
      "\n",
      "Validation loss decreased (nan --> nan).  Saving model ...\n"
     ]
    },
    {
     "name": "stderr",
     "output_type": "stream",
     "text": [
      "                                                               \r"
     ]
    },
    {
     "name": "stdout",
     "output_type": "stream",
     "text": [
      "\n",
      "Epoch 235/300,  Step [86/86], Avg training loss:  nan, Avg training accuracy :  3.10683139%\n",
      "\n"
     ]
    },
    {
     "name": "stderr",
     "output_type": "stream",
     "text": [
      "                                               \r"
     ]
    },
    {
     "name": "stdout",
     "output_type": "stream",
     "text": [
      "\n",
      "Epoch 235, Avg validation loss: nan, Avg validation accuracy : 3.41130607%\n",
      "\n",
      "Validation loss decreased (nan --> nan).  Saving model ...\n"
     ]
    },
    {
     "name": "stderr",
     "output_type": "stream",
     "text": [
      "                                                               \r"
     ]
    },
    {
     "name": "stdout",
     "output_type": "stream",
     "text": [
      "\n",
      "Epoch 236/300,  Step [86/86], Avg training loss:  nan, Avg training accuracy :  3.10683139%\n",
      "\n"
     ]
    },
    {
     "name": "stderr",
     "output_type": "stream",
     "text": [
      "                                               \r"
     ]
    },
    {
     "name": "stdout",
     "output_type": "stream",
     "text": [
      "\n",
      "Epoch 236, Avg validation loss: nan, Avg validation accuracy : 3.41130607%\n",
      "\n",
      "Validation loss decreased (nan --> nan).  Saving model ...\n"
     ]
    },
    {
     "name": "stderr",
     "output_type": "stream",
     "text": [
      "                                                               \r"
     ]
    },
    {
     "name": "stdout",
     "output_type": "stream",
     "text": [
      "\n",
      "Epoch 237/300,  Step [86/86], Avg training loss:  nan, Avg training accuracy :  3.10683139%\n",
      "\n"
     ]
    },
    {
     "name": "stderr",
     "output_type": "stream",
     "text": [
      "                                               \r"
     ]
    },
    {
     "name": "stdout",
     "output_type": "stream",
     "text": [
      "\n",
      "Epoch 237, Avg validation loss: nan, Avg validation accuracy : 3.41130607%\n",
      "\n",
      "Validation loss decreased (nan --> nan).  Saving model ...\n"
     ]
    },
    {
     "name": "stderr",
     "output_type": "stream",
     "text": [
      "                                                               \r"
     ]
    },
    {
     "name": "stdout",
     "output_type": "stream",
     "text": [
      "\n",
      "Epoch 238/300,  Step [86/86], Avg training loss:  nan, Avg training accuracy :  3.10683139%\n",
      "\n"
     ]
    },
    {
     "name": "stderr",
     "output_type": "stream",
     "text": [
      "                                               \r"
     ]
    },
    {
     "name": "stdout",
     "output_type": "stream",
     "text": [
      "\n",
      "Epoch 238, Avg validation loss: nan, Avg validation accuracy : 3.41130607%\n",
      "\n",
      "Validation loss decreased (nan --> nan).  Saving model ...\n"
     ]
    },
    {
     "name": "stderr",
     "output_type": "stream",
     "text": [
      "                                                               \r"
     ]
    },
    {
     "name": "stdout",
     "output_type": "stream",
     "text": [
      "\n",
      "Epoch 239/300,  Step [86/86], Avg training loss:  nan, Avg training accuracy :  3.10683139%\n",
      "\n"
     ]
    },
    {
     "name": "stderr",
     "output_type": "stream",
     "text": [
      "                                               \r"
     ]
    },
    {
     "name": "stdout",
     "output_type": "stream",
     "text": [
      "\n",
      "Epoch 239, Avg validation loss: nan, Avg validation accuracy : 3.41130607%\n",
      "\n",
      "Validation loss decreased (nan --> nan).  Saving model ...\n"
     ]
    },
    {
     "name": "stderr",
     "output_type": "stream",
     "text": [
      "                                                               \r"
     ]
    },
    {
     "name": "stdout",
     "output_type": "stream",
     "text": [
      "\n",
      "Epoch 240/300,  Step [86/86], Avg training loss:  nan, Avg training accuracy :  3.10683139%\n",
      "\n"
     ]
    },
    {
     "name": "stderr",
     "output_type": "stream",
     "text": [
      "                                               \r"
     ]
    },
    {
     "name": "stdout",
     "output_type": "stream",
     "text": [
      "\n",
      "Epoch 240, Avg validation loss: nan, Avg validation accuracy : 3.41130607%\n",
      "\n",
      "Validation loss decreased (nan --> nan).  Saving model ...\n"
     ]
    },
    {
     "name": "stderr",
     "output_type": "stream",
     "text": [
      "                                                               \r"
     ]
    },
    {
     "name": "stdout",
     "output_type": "stream",
     "text": [
      "\n",
      "Epoch 241/300,  Step [86/86], Avg training loss:  nan, Avg training accuracy :  3.10683139%\n",
      "\n"
     ]
    },
    {
     "name": "stderr",
     "output_type": "stream",
     "text": [
      "                                               \r"
     ]
    },
    {
     "name": "stdout",
     "output_type": "stream",
     "text": [
      "\n",
      "Epoch 241, Avg validation loss: nan, Avg validation accuracy : 3.41130607%\n",
      "\n",
      "Validation loss decreased (nan --> nan).  Saving model ...\n"
     ]
    },
    {
     "name": "stderr",
     "output_type": "stream",
     "text": [
      "                                                               \r"
     ]
    },
    {
     "name": "stdout",
     "output_type": "stream",
     "text": [
      "\n",
      "Epoch 242/300,  Step [86/86], Avg training loss:  nan, Avg training accuracy :  3.10683139%\n",
      "\n"
     ]
    },
    {
     "name": "stderr",
     "output_type": "stream",
     "text": [
      "                                               \r"
     ]
    },
    {
     "name": "stdout",
     "output_type": "stream",
     "text": [
      "\n",
      "Epoch 242, Avg validation loss: nan, Avg validation accuracy : 3.41130607%\n",
      "\n",
      "Validation loss decreased (nan --> nan).  Saving model ...\n"
     ]
    },
    {
     "name": "stderr",
     "output_type": "stream",
     "text": [
      "                                                               \r"
     ]
    },
    {
     "name": "stdout",
     "output_type": "stream",
     "text": [
      "\n",
      "Epoch 243/300,  Step [86/86], Avg training loss:  nan, Avg training accuracy :  3.10683139%\n",
      "\n"
     ]
    },
    {
     "name": "stderr",
     "output_type": "stream",
     "text": [
      "                                               \r"
     ]
    },
    {
     "name": "stdout",
     "output_type": "stream",
     "text": [
      "\n",
      "Epoch 243, Avg validation loss: nan, Avg validation accuracy : 3.41130607%\n",
      "\n",
      "Validation loss decreased (nan --> nan).  Saving model ...\n"
     ]
    },
    {
     "name": "stderr",
     "output_type": "stream",
     "text": [
      "                                                               \r"
     ]
    },
    {
     "name": "stdout",
     "output_type": "stream",
     "text": [
      "\n",
      "Epoch 244/300,  Step [86/86], Avg training loss:  nan, Avg training accuracy :  3.10683139%\n",
      "\n"
     ]
    },
    {
     "name": "stderr",
     "output_type": "stream",
     "text": [
      "                                               \r"
     ]
    },
    {
     "name": "stdout",
     "output_type": "stream",
     "text": [
      "\n",
      "Epoch 244, Avg validation loss: nan, Avg validation accuracy : 3.41130607%\n",
      "\n",
      "Validation loss decreased (nan --> nan).  Saving model ...\n"
     ]
    },
    {
     "name": "stderr",
     "output_type": "stream",
     "text": [
      "                                                               \r"
     ]
    },
    {
     "name": "stdout",
     "output_type": "stream",
     "text": [
      "\n",
      "Epoch 245/300,  Step [86/86], Avg training loss:  nan, Avg training accuracy :  3.10683139%\n",
      "\n"
     ]
    },
    {
     "name": "stderr",
     "output_type": "stream",
     "text": [
      "                                               \r"
     ]
    },
    {
     "name": "stdout",
     "output_type": "stream",
     "text": [
      "\n",
      "Epoch 245, Avg validation loss: nan, Avg validation accuracy : 3.41130607%\n",
      "\n",
      "Validation loss decreased (nan --> nan).  Saving model ...\n"
     ]
    },
    {
     "name": "stderr",
     "output_type": "stream",
     "text": [
      "                                                               \r"
     ]
    },
    {
     "name": "stdout",
     "output_type": "stream",
     "text": [
      "\n",
      "Epoch 246/300,  Step [86/86], Avg training loss:  nan, Avg training accuracy :  3.10683139%\n",
      "\n"
     ]
    },
    {
     "name": "stderr",
     "output_type": "stream",
     "text": [
      "                                               \r"
     ]
    },
    {
     "name": "stdout",
     "output_type": "stream",
     "text": [
      "\n",
      "Epoch 246, Avg validation loss: nan, Avg validation accuracy : 3.41130607%\n",
      "\n",
      "Validation loss decreased (nan --> nan).  Saving model ...\n"
     ]
    },
    {
     "name": "stderr",
     "output_type": "stream",
     "text": [
      "                                                               \r"
     ]
    },
    {
     "name": "stdout",
     "output_type": "stream",
     "text": [
      "\n",
      "Epoch 247/300,  Step [86/86], Avg training loss:  nan, Avg training accuracy :  3.10683139%\n",
      "\n"
     ]
    },
    {
     "name": "stderr",
     "output_type": "stream",
     "text": [
      "                                               \r"
     ]
    },
    {
     "name": "stdout",
     "output_type": "stream",
     "text": [
      "\n",
      "Epoch 247, Avg validation loss: nan, Avg validation accuracy : 3.41130607%\n",
      "\n",
      "Validation loss decreased (nan --> nan).  Saving model ...\n"
     ]
    },
    {
     "name": "stderr",
     "output_type": "stream",
     "text": [
      "                                                               \r"
     ]
    },
    {
     "name": "stdout",
     "output_type": "stream",
     "text": [
      "\n",
      "Epoch 248/300,  Step [86/86], Avg training loss:  nan, Avg training accuracy :  3.10683139%\n",
      "\n"
     ]
    },
    {
     "name": "stderr",
     "output_type": "stream",
     "text": [
      "                                               \r"
     ]
    },
    {
     "name": "stdout",
     "output_type": "stream",
     "text": [
      "\n",
      "Epoch 248, Avg validation loss: nan, Avg validation accuracy : 3.41130607%\n",
      "\n",
      "Validation loss decreased (nan --> nan).  Saving model ...\n"
     ]
    },
    {
     "name": "stderr",
     "output_type": "stream",
     "text": [
      "                                                               \r"
     ]
    },
    {
     "name": "stdout",
     "output_type": "stream",
     "text": [
      "\n",
      "Epoch 249/300,  Step [86/86], Avg training loss:  nan, Avg training accuracy :  3.10683139%\n",
      "\n"
     ]
    },
    {
     "name": "stderr",
     "output_type": "stream",
     "text": [
      "                                               \r"
     ]
    },
    {
     "name": "stdout",
     "output_type": "stream",
     "text": [
      "\n",
      "Epoch 249, Avg validation loss: nan, Avg validation accuracy : 3.41130607%\n",
      "\n",
      "Validation loss decreased (nan --> nan).  Saving model ...\n"
     ]
    },
    {
     "name": "stderr",
     "output_type": "stream",
     "text": [
      "                                                               \r"
     ]
    },
    {
     "name": "stdout",
     "output_type": "stream",
     "text": [
      "\n",
      "Epoch 250/300,  Step [86/86], Avg training loss:  nan, Avg training accuracy :  3.10683139%\n",
      "\n"
     ]
    },
    {
     "name": "stderr",
     "output_type": "stream",
     "text": [
      "                                               \r"
     ]
    },
    {
     "name": "stdout",
     "output_type": "stream",
     "text": [
      "\n",
      "Epoch 250, Avg validation loss: nan, Avg validation accuracy : 3.41130607%\n",
      "\n",
      "Validation loss decreased (nan --> nan).  Saving model ...\n"
     ]
    },
    {
     "name": "stderr",
     "output_type": "stream",
     "text": [
      "                                                               \r"
     ]
    },
    {
     "name": "stdout",
     "output_type": "stream",
     "text": [
      "\n",
      "Epoch 251/300,  Step [86/86], Avg training loss:  nan, Avg training accuracy :  3.10683139%\n",
      "\n"
     ]
    },
    {
     "name": "stderr",
     "output_type": "stream",
     "text": [
      "                                               \r"
     ]
    },
    {
     "name": "stdout",
     "output_type": "stream",
     "text": [
      "\n",
      "Epoch 251, Avg validation loss: nan, Avg validation accuracy : 3.41130607%\n",
      "\n",
      "Validation loss decreased (nan --> nan).  Saving model ...\n"
     ]
    },
    {
     "name": "stderr",
     "output_type": "stream",
     "text": [
      "                                                               \r"
     ]
    },
    {
     "name": "stdout",
     "output_type": "stream",
     "text": [
      "\n",
      "Epoch 252/300,  Step [86/86], Avg training loss:  nan, Avg training accuracy :  3.10683139%\n",
      "\n"
     ]
    },
    {
     "name": "stderr",
     "output_type": "stream",
     "text": [
      "                                               \r"
     ]
    },
    {
     "name": "stdout",
     "output_type": "stream",
     "text": [
      "\n",
      "Epoch 252, Avg validation loss: nan, Avg validation accuracy : 3.41130607%\n",
      "\n",
      "Validation loss decreased (nan --> nan).  Saving model ...\n"
     ]
    },
    {
     "name": "stderr",
     "output_type": "stream",
     "text": [
      "                                                               \r"
     ]
    },
    {
     "name": "stdout",
     "output_type": "stream",
     "text": [
      "\n",
      "Epoch 253/300,  Step [86/86], Avg training loss:  nan, Avg training accuracy :  3.10683139%\n",
      "\n"
     ]
    },
    {
     "name": "stderr",
     "output_type": "stream",
     "text": [
      "                                               \r"
     ]
    },
    {
     "name": "stdout",
     "output_type": "stream",
     "text": [
      "\n",
      "Epoch 253, Avg validation loss: nan, Avg validation accuracy : 3.41130607%\n",
      "\n",
      "Validation loss decreased (nan --> nan).  Saving model ...\n"
     ]
    },
    {
     "name": "stderr",
     "output_type": "stream",
     "text": [
      "                                                               \r"
     ]
    },
    {
     "name": "stdout",
     "output_type": "stream",
     "text": [
      "\n",
      "Epoch 254/300,  Step [86/86], Avg training loss:  nan, Avg training accuracy :  3.10683139%\n",
      "\n"
     ]
    },
    {
     "name": "stderr",
     "output_type": "stream",
     "text": [
      "                                               \r"
     ]
    },
    {
     "name": "stdout",
     "output_type": "stream",
     "text": [
      "\n",
      "Epoch 254, Avg validation loss: nan, Avg validation accuracy : 3.41130607%\n",
      "\n",
      "Validation loss decreased (nan --> nan).  Saving model ...\n"
     ]
    },
    {
     "name": "stderr",
     "output_type": "stream",
     "text": [
      "                                                               \r"
     ]
    },
    {
     "name": "stdout",
     "output_type": "stream",
     "text": [
      "\n",
      "Epoch 255/300,  Step [86/86], Avg training loss:  nan, Avg training accuracy :  3.10683139%\n",
      "\n"
     ]
    },
    {
     "name": "stderr",
     "output_type": "stream",
     "text": [
      "                                               \r"
     ]
    },
    {
     "name": "stdout",
     "output_type": "stream",
     "text": [
      "\n",
      "Epoch 255, Avg validation loss: nan, Avg validation accuracy : 3.41130607%\n",
      "\n",
      "Validation loss decreased (nan --> nan).  Saving model ...\n"
     ]
    },
    {
     "name": "stderr",
     "output_type": "stream",
     "text": [
      "                                                               \r"
     ]
    },
    {
     "name": "stdout",
     "output_type": "stream",
     "text": [
      "\n",
      "Epoch 256/300,  Step [86/86], Avg training loss:  nan, Avg training accuracy :  3.10683139%\n",
      "\n"
     ]
    },
    {
     "name": "stderr",
     "output_type": "stream",
     "text": [
      "                                               \r"
     ]
    },
    {
     "name": "stdout",
     "output_type": "stream",
     "text": [
      "\n",
      "Epoch 256, Avg validation loss: nan, Avg validation accuracy : 3.41130607%\n",
      "\n",
      "Validation loss decreased (nan --> nan).  Saving model ...\n"
     ]
    },
    {
     "name": "stderr",
     "output_type": "stream",
     "text": [
      "                                                               \r"
     ]
    },
    {
     "name": "stdout",
     "output_type": "stream",
     "text": [
      "\n",
      "Epoch 257/300,  Step [86/86], Avg training loss:  nan, Avg training accuracy :  3.10683139%\n",
      "\n"
     ]
    },
    {
     "name": "stderr",
     "output_type": "stream",
     "text": [
      "                                               \r"
     ]
    },
    {
     "name": "stdout",
     "output_type": "stream",
     "text": [
      "\n",
      "Epoch 257, Avg validation loss: nan, Avg validation accuracy : 3.41130607%\n",
      "\n",
      "Validation loss decreased (nan --> nan).  Saving model ...\n"
     ]
    },
    {
     "name": "stderr",
     "output_type": "stream",
     "text": [
      "                                                               \r"
     ]
    },
    {
     "name": "stdout",
     "output_type": "stream",
     "text": [
      "\n",
      "Epoch 258/300,  Step [86/86], Avg training loss:  nan, Avg training accuracy :  3.10683139%\n",
      "\n"
     ]
    },
    {
     "name": "stderr",
     "output_type": "stream",
     "text": [
      "                                               \r"
     ]
    },
    {
     "name": "stdout",
     "output_type": "stream",
     "text": [
      "\n",
      "Epoch 258, Avg validation loss: nan, Avg validation accuracy : 3.41130607%\n",
      "\n",
      "Validation loss decreased (nan --> nan).  Saving model ...\n"
     ]
    },
    {
     "name": "stderr",
     "output_type": "stream",
     "text": [
      "                                                               \r"
     ]
    },
    {
     "name": "stdout",
     "output_type": "stream",
     "text": [
      "\n",
      "Epoch 259/300,  Step [86/86], Avg training loss:  nan, Avg training accuracy :  3.10683139%\n",
      "\n"
     ]
    },
    {
     "name": "stderr",
     "output_type": "stream",
     "text": [
      "                                               \r"
     ]
    },
    {
     "name": "stdout",
     "output_type": "stream",
     "text": [
      "\n",
      "Epoch 259, Avg validation loss: nan, Avg validation accuracy : 3.41130607%\n",
      "\n",
      "Validation loss decreased (nan --> nan).  Saving model ...\n"
     ]
    },
    {
     "name": "stderr",
     "output_type": "stream",
     "text": [
      "                                                               \r"
     ]
    },
    {
     "name": "stdout",
     "output_type": "stream",
     "text": [
      "\n",
      "Epoch 260/300,  Step [86/86], Avg training loss:  nan, Avg training accuracy :  3.10683139%\n",
      "\n"
     ]
    },
    {
     "name": "stderr",
     "output_type": "stream",
     "text": [
      "                                               \r"
     ]
    },
    {
     "name": "stdout",
     "output_type": "stream",
     "text": [
      "\n",
      "Epoch 260, Avg validation loss: nan, Avg validation accuracy : 3.41130607%\n",
      "\n",
      "Validation loss decreased (nan --> nan).  Saving model ...\n"
     ]
    },
    {
     "name": "stderr",
     "output_type": "stream",
     "text": [
      "                                                               \r"
     ]
    },
    {
     "name": "stdout",
     "output_type": "stream",
     "text": [
      "\n",
      "Epoch 261/300,  Step [86/86], Avg training loss:  nan, Avg training accuracy :  3.10683139%\n",
      "\n"
     ]
    },
    {
     "name": "stderr",
     "output_type": "stream",
     "text": [
      "                                               \r"
     ]
    },
    {
     "name": "stdout",
     "output_type": "stream",
     "text": [
      "\n",
      "Epoch 261, Avg validation loss: nan, Avg validation accuracy : 3.41130607%\n",
      "\n",
      "Validation loss decreased (nan --> nan).  Saving model ...\n"
     ]
    },
    {
     "name": "stderr",
     "output_type": "stream",
     "text": [
      "                                                               \r"
     ]
    },
    {
     "name": "stdout",
     "output_type": "stream",
     "text": [
      "\n",
      "Epoch 262/300,  Step [86/86], Avg training loss:  nan, Avg training accuracy :  3.10683139%\n",
      "\n"
     ]
    },
    {
     "name": "stderr",
     "output_type": "stream",
     "text": [
      "                                               \r"
     ]
    },
    {
     "name": "stdout",
     "output_type": "stream",
     "text": [
      "\n",
      "Epoch 262, Avg validation loss: nan, Avg validation accuracy : 3.41130607%\n",
      "\n",
      "Validation loss decreased (nan --> nan).  Saving model ...\n"
     ]
    },
    {
     "name": "stderr",
     "output_type": "stream",
     "text": [
      "                                                               \r"
     ]
    },
    {
     "name": "stdout",
     "output_type": "stream",
     "text": [
      "\n",
      "Epoch 263/300,  Step [86/86], Avg training loss:  nan, Avg training accuracy :  3.10683139%\n",
      "\n"
     ]
    },
    {
     "name": "stderr",
     "output_type": "stream",
     "text": [
      "                                               \r"
     ]
    },
    {
     "name": "stdout",
     "output_type": "stream",
     "text": [
      "\n",
      "Epoch 263, Avg validation loss: nan, Avg validation accuracy : 3.41130607%\n",
      "\n",
      "Validation loss decreased (nan --> nan).  Saving model ...\n"
     ]
    },
    {
     "name": "stderr",
     "output_type": "stream",
     "text": [
      "                                                               \r"
     ]
    },
    {
     "name": "stdout",
     "output_type": "stream",
     "text": [
      "\n",
      "Epoch 264/300,  Step [86/86], Avg training loss:  nan, Avg training accuracy :  3.10683139%\n",
      "\n"
     ]
    },
    {
     "name": "stderr",
     "output_type": "stream",
     "text": [
      "                                               \r"
     ]
    },
    {
     "name": "stdout",
     "output_type": "stream",
     "text": [
      "\n",
      "Epoch 264, Avg validation loss: nan, Avg validation accuracy : 3.41130607%\n",
      "\n",
      "Validation loss decreased (nan --> nan).  Saving model ...\n"
     ]
    },
    {
     "name": "stderr",
     "output_type": "stream",
     "text": [
      "                                                               \r"
     ]
    },
    {
     "name": "stdout",
     "output_type": "stream",
     "text": [
      "\n",
      "Epoch 265/300,  Step [86/86], Avg training loss:  nan, Avg training accuracy :  3.10683139%\n",
      "\n"
     ]
    },
    {
     "name": "stderr",
     "output_type": "stream",
     "text": [
      "                                               \r"
     ]
    },
    {
     "name": "stdout",
     "output_type": "stream",
     "text": [
      "\n",
      "Epoch 265, Avg validation loss: nan, Avg validation accuracy : 3.41130607%\n",
      "\n",
      "Validation loss decreased (nan --> nan).  Saving model ...\n"
     ]
    },
    {
     "name": "stderr",
     "output_type": "stream",
     "text": [
      "                                                               \r"
     ]
    },
    {
     "name": "stdout",
     "output_type": "stream",
     "text": [
      "\n",
      "Epoch 266/300,  Step [86/86], Avg training loss:  nan, Avg training accuracy :  3.10683139%\n",
      "\n"
     ]
    },
    {
     "name": "stderr",
     "output_type": "stream",
     "text": [
      "                                               \r"
     ]
    },
    {
     "name": "stdout",
     "output_type": "stream",
     "text": [
      "\n",
      "Epoch 266, Avg validation loss: nan, Avg validation accuracy : 3.41130607%\n",
      "\n",
      "Validation loss decreased (nan --> nan).  Saving model ...\n"
     ]
    },
    {
     "name": "stderr",
     "output_type": "stream",
     "text": [
      "                                                               \r"
     ]
    },
    {
     "name": "stdout",
     "output_type": "stream",
     "text": [
      "\n",
      "Epoch 267/300,  Step [86/86], Avg training loss:  nan, Avg training accuracy :  3.10683139%\n",
      "\n"
     ]
    },
    {
     "name": "stderr",
     "output_type": "stream",
     "text": [
      "                                               \r"
     ]
    },
    {
     "name": "stdout",
     "output_type": "stream",
     "text": [
      "\n",
      "Epoch 267, Avg validation loss: nan, Avg validation accuracy : 3.41130607%\n",
      "\n",
      "Validation loss decreased (nan --> nan).  Saving model ...\n"
     ]
    },
    {
     "name": "stderr",
     "output_type": "stream",
     "text": [
      "                                                               \r"
     ]
    },
    {
     "name": "stdout",
     "output_type": "stream",
     "text": [
      "\n",
      "Epoch 268/300,  Step [86/86], Avg training loss:  nan, Avg training accuracy :  3.10683139%\n",
      "\n"
     ]
    },
    {
     "name": "stderr",
     "output_type": "stream",
     "text": [
      "                                               \r"
     ]
    },
    {
     "name": "stdout",
     "output_type": "stream",
     "text": [
      "\n",
      "Epoch 268, Avg validation loss: nan, Avg validation accuracy : 3.41130607%\n",
      "\n",
      "Validation loss decreased (nan --> nan).  Saving model ...\n"
     ]
    },
    {
     "name": "stderr",
     "output_type": "stream",
     "text": [
      "                                                               \r"
     ]
    },
    {
     "name": "stdout",
     "output_type": "stream",
     "text": [
      "\n",
      "Epoch 269/300,  Step [86/86], Avg training loss:  nan, Avg training accuracy :  3.10683139%\n",
      "\n"
     ]
    },
    {
     "name": "stderr",
     "output_type": "stream",
     "text": [
      "                                               \r"
     ]
    },
    {
     "name": "stdout",
     "output_type": "stream",
     "text": [
      "\n",
      "Epoch 269, Avg validation loss: nan, Avg validation accuracy : 3.41130607%\n",
      "\n",
      "Validation loss decreased (nan --> nan).  Saving model ...\n"
     ]
    },
    {
     "name": "stderr",
     "output_type": "stream",
     "text": [
      "                                                               \r"
     ]
    },
    {
     "name": "stdout",
     "output_type": "stream",
     "text": [
      "\n",
      "Epoch 270/300,  Step [86/86], Avg training loss:  nan, Avg training accuracy :  3.10683139%\n",
      "\n"
     ]
    },
    {
     "name": "stderr",
     "output_type": "stream",
     "text": [
      "                                               \r"
     ]
    },
    {
     "name": "stdout",
     "output_type": "stream",
     "text": [
      "\n",
      "Epoch 270, Avg validation loss: nan, Avg validation accuracy : 3.41130607%\n",
      "\n",
      "Validation loss decreased (nan --> nan).  Saving model ...\n"
     ]
    },
    {
     "name": "stderr",
     "output_type": "stream",
     "text": [
      "                                                               \r"
     ]
    },
    {
     "name": "stdout",
     "output_type": "stream",
     "text": [
      "\n",
      "Epoch 271/300,  Step [86/86], Avg training loss:  nan, Avg training accuracy :  3.10683139%\n",
      "\n"
     ]
    },
    {
     "name": "stderr",
     "output_type": "stream",
     "text": [
      "                                               \r"
     ]
    },
    {
     "name": "stdout",
     "output_type": "stream",
     "text": [
      "\n",
      "Epoch 271, Avg validation loss: nan, Avg validation accuracy : 3.41130607%\n",
      "\n",
      "Validation loss decreased (nan --> nan).  Saving model ...\n"
     ]
    },
    {
     "name": "stderr",
     "output_type": "stream",
     "text": [
      "                                                               \r"
     ]
    },
    {
     "name": "stdout",
     "output_type": "stream",
     "text": [
      "\n",
      "Epoch 272/300,  Step [86/86], Avg training loss:  nan, Avg training accuracy :  3.10683139%\n",
      "\n"
     ]
    },
    {
     "name": "stderr",
     "output_type": "stream",
     "text": [
      "                                               \r"
     ]
    },
    {
     "name": "stdout",
     "output_type": "stream",
     "text": [
      "\n",
      "Epoch 272, Avg validation loss: nan, Avg validation accuracy : 3.41130607%\n",
      "\n",
      "Validation loss decreased (nan --> nan).  Saving model ...\n"
     ]
    },
    {
     "name": "stderr",
     "output_type": "stream",
     "text": [
      "                                                               \r"
     ]
    },
    {
     "name": "stdout",
     "output_type": "stream",
     "text": [
      "\n",
      "Epoch 273/300,  Step [86/86], Avg training loss:  nan, Avg training accuracy :  3.10683139%\n",
      "\n"
     ]
    },
    {
     "name": "stderr",
     "output_type": "stream",
     "text": [
      "                                               \r"
     ]
    },
    {
     "name": "stdout",
     "output_type": "stream",
     "text": [
      "\n",
      "Epoch 273, Avg validation loss: nan, Avg validation accuracy : 3.41130607%\n",
      "\n",
      "Validation loss decreased (nan --> nan).  Saving model ...\n"
     ]
    },
    {
     "name": "stderr",
     "output_type": "stream",
     "text": [
      "                                                               \r"
     ]
    },
    {
     "name": "stdout",
     "output_type": "stream",
     "text": [
      "\n",
      "Epoch 274/300,  Step [86/86], Avg training loss:  nan, Avg training accuracy :  3.10683139%\n",
      "\n"
     ]
    },
    {
     "name": "stderr",
     "output_type": "stream",
     "text": [
      "                                               \r"
     ]
    },
    {
     "name": "stdout",
     "output_type": "stream",
     "text": [
      "\n",
      "Epoch 274, Avg validation loss: nan, Avg validation accuracy : 3.41130607%\n",
      "\n",
      "Validation loss decreased (nan --> nan).  Saving model ...\n"
     ]
    },
    {
     "name": "stderr",
     "output_type": "stream",
     "text": [
      "                                                               \r"
     ]
    },
    {
     "name": "stdout",
     "output_type": "stream",
     "text": [
      "\n",
      "Epoch 275/300,  Step [86/86], Avg training loss:  nan, Avg training accuracy :  3.10683139%\n",
      "\n"
     ]
    },
    {
     "name": "stderr",
     "output_type": "stream",
     "text": [
      "                                               \r"
     ]
    },
    {
     "name": "stdout",
     "output_type": "stream",
     "text": [
      "\n",
      "Epoch 275, Avg validation loss: nan, Avg validation accuracy : 3.41130607%\n",
      "\n",
      "Validation loss decreased (nan --> nan).  Saving model ...\n"
     ]
    },
    {
     "name": "stderr",
     "output_type": "stream",
     "text": [
      "                                                               \r"
     ]
    },
    {
     "name": "stdout",
     "output_type": "stream",
     "text": [
      "\n",
      "Epoch 276/300,  Step [86/86], Avg training loss:  nan, Avg training accuracy :  3.10683139%\n",
      "\n"
     ]
    },
    {
     "name": "stderr",
     "output_type": "stream",
     "text": [
      "                                               \r"
     ]
    },
    {
     "name": "stdout",
     "output_type": "stream",
     "text": [
      "\n",
      "Epoch 276, Avg validation loss: nan, Avg validation accuracy : 3.41130607%\n",
      "\n",
      "Validation loss decreased (nan --> nan).  Saving model ...\n"
     ]
    },
    {
     "name": "stderr",
     "output_type": "stream",
     "text": [
      "                                                               \r"
     ]
    },
    {
     "name": "stdout",
     "output_type": "stream",
     "text": [
      "\n",
      "Epoch 277/300,  Step [86/86], Avg training loss:  nan, Avg training accuracy :  3.10683139%\n",
      "\n"
     ]
    },
    {
     "name": "stderr",
     "output_type": "stream",
     "text": [
      "                                               \r"
     ]
    },
    {
     "name": "stdout",
     "output_type": "stream",
     "text": [
      "\n",
      "Epoch 277, Avg validation loss: nan, Avg validation accuracy : 3.41130607%\n",
      "\n",
      "Validation loss decreased (nan --> nan).  Saving model ...\n"
     ]
    },
    {
     "name": "stderr",
     "output_type": "stream",
     "text": [
      "                                                               \r"
     ]
    },
    {
     "name": "stdout",
     "output_type": "stream",
     "text": [
      "\n",
      "Epoch 278/300,  Step [86/86], Avg training loss:  nan, Avg training accuracy :  3.10683139%\n",
      "\n"
     ]
    },
    {
     "name": "stderr",
     "output_type": "stream",
     "text": [
      "                                               \r"
     ]
    },
    {
     "name": "stdout",
     "output_type": "stream",
     "text": [
      "\n",
      "Epoch 278, Avg validation loss: nan, Avg validation accuracy : 3.41130607%\n",
      "\n",
      "Validation loss decreased (nan --> nan).  Saving model ...\n"
     ]
    },
    {
     "name": "stderr",
     "output_type": "stream",
     "text": [
      "                                                               \r"
     ]
    },
    {
     "name": "stdout",
     "output_type": "stream",
     "text": [
      "\n",
      "Epoch 279/300,  Step [86/86], Avg training loss:  nan, Avg training accuracy :  3.10683139%\n",
      "\n"
     ]
    },
    {
     "name": "stderr",
     "output_type": "stream",
     "text": [
      "                                               \r"
     ]
    },
    {
     "name": "stdout",
     "output_type": "stream",
     "text": [
      "\n",
      "Epoch 279, Avg validation loss: nan, Avg validation accuracy : 3.41130607%\n",
      "\n",
      "Validation loss decreased (nan --> nan).  Saving model ...\n"
     ]
    },
    {
     "name": "stderr",
     "output_type": "stream",
     "text": [
      "                                                               \r"
     ]
    },
    {
     "name": "stdout",
     "output_type": "stream",
     "text": [
      "\n",
      "Epoch 280/300,  Step [86/86], Avg training loss:  nan, Avg training accuracy :  3.10683139%\n",
      "\n"
     ]
    },
    {
     "name": "stderr",
     "output_type": "stream",
     "text": [
      "                                               \r"
     ]
    },
    {
     "name": "stdout",
     "output_type": "stream",
     "text": [
      "\n",
      "Epoch 280, Avg validation loss: nan, Avg validation accuracy : 3.41130607%\n",
      "\n",
      "Validation loss decreased (nan --> nan).  Saving model ...\n"
     ]
    },
    {
     "name": "stderr",
     "output_type": "stream",
     "text": [
      "                                                               \r"
     ]
    },
    {
     "name": "stdout",
     "output_type": "stream",
     "text": [
      "\n",
      "Epoch 281/300,  Step [86/86], Avg training loss:  nan, Avg training accuracy :  3.10683139%\n",
      "\n"
     ]
    },
    {
     "name": "stderr",
     "output_type": "stream",
     "text": [
      "                                               \r"
     ]
    },
    {
     "name": "stdout",
     "output_type": "stream",
     "text": [
      "\n",
      "Epoch 281, Avg validation loss: nan, Avg validation accuracy : 3.41130607%\n",
      "\n",
      "Validation loss decreased (nan --> nan).  Saving model ...\n"
     ]
    },
    {
     "name": "stderr",
     "output_type": "stream",
     "text": [
      "                                                               \r"
     ]
    },
    {
     "name": "stdout",
     "output_type": "stream",
     "text": [
      "\n",
      "Epoch 282/300,  Step [86/86], Avg training loss:  nan, Avg training accuracy :  3.10683139%\n",
      "\n"
     ]
    },
    {
     "name": "stderr",
     "output_type": "stream",
     "text": [
      "                                               \r"
     ]
    },
    {
     "name": "stdout",
     "output_type": "stream",
     "text": [
      "\n",
      "Epoch 282, Avg validation loss: nan, Avg validation accuracy : 3.41130607%\n",
      "\n",
      "Validation loss decreased (nan --> nan).  Saving model ...\n"
     ]
    },
    {
     "name": "stderr",
     "output_type": "stream",
     "text": [
      "                                                               \r"
     ]
    },
    {
     "name": "stdout",
     "output_type": "stream",
     "text": [
      "\n",
      "Epoch 283/300,  Step [86/86], Avg training loss:  nan, Avg training accuracy :  3.10683139%\n",
      "\n"
     ]
    },
    {
     "name": "stderr",
     "output_type": "stream",
     "text": [
      "                                               \r"
     ]
    },
    {
     "name": "stdout",
     "output_type": "stream",
     "text": [
      "\n",
      "Epoch 283, Avg validation loss: nan, Avg validation accuracy : 3.41130607%\n",
      "\n",
      "Validation loss decreased (nan --> nan).  Saving model ...\n"
     ]
    },
    {
     "name": "stderr",
     "output_type": "stream",
     "text": [
      "                                                               \r"
     ]
    },
    {
     "name": "stdout",
     "output_type": "stream",
     "text": [
      "\n",
      "Epoch 284/300,  Step [86/86], Avg training loss:  nan, Avg training accuracy :  3.10683139%\n",
      "\n"
     ]
    },
    {
     "name": "stderr",
     "output_type": "stream",
     "text": [
      "                                               \r"
     ]
    },
    {
     "name": "stdout",
     "output_type": "stream",
     "text": [
      "\n",
      "Epoch 284, Avg validation loss: nan, Avg validation accuracy : 3.41130607%\n",
      "\n",
      "Validation loss decreased (nan --> nan).  Saving model ...\n"
     ]
    },
    {
     "name": "stderr",
     "output_type": "stream",
     "text": [
      "                                                               \r"
     ]
    },
    {
     "name": "stdout",
     "output_type": "stream",
     "text": [
      "\n",
      "Epoch 285/300,  Step [86/86], Avg training loss:  nan, Avg training accuracy :  3.10683139%\n",
      "\n"
     ]
    },
    {
     "name": "stderr",
     "output_type": "stream",
     "text": [
      "                                               \r"
     ]
    },
    {
     "name": "stdout",
     "output_type": "stream",
     "text": [
      "\n",
      "Epoch 285, Avg validation loss: nan, Avg validation accuracy : 3.41130607%\n",
      "\n",
      "Validation loss decreased (nan --> nan).  Saving model ...\n"
     ]
    },
    {
     "name": "stderr",
     "output_type": "stream",
     "text": [
      "                                                               \r"
     ]
    },
    {
     "name": "stdout",
     "output_type": "stream",
     "text": [
      "\n",
      "Epoch 286/300,  Step [86/86], Avg training loss:  nan, Avg training accuracy :  3.10683139%\n",
      "\n"
     ]
    },
    {
     "name": "stderr",
     "output_type": "stream",
     "text": [
      "                                               \r"
     ]
    },
    {
     "name": "stdout",
     "output_type": "stream",
     "text": [
      "\n",
      "Epoch 286, Avg validation loss: nan, Avg validation accuracy : 3.41130607%\n",
      "\n",
      "Validation loss decreased (nan --> nan).  Saving model ...\n"
     ]
    },
    {
     "name": "stderr",
     "output_type": "stream",
     "text": [
      "                                                               \r"
     ]
    },
    {
     "name": "stdout",
     "output_type": "stream",
     "text": [
      "\n",
      "Epoch 287/300,  Step [86/86], Avg training loss:  nan, Avg training accuracy :  3.10683139%\n",
      "\n"
     ]
    },
    {
     "name": "stderr",
     "output_type": "stream",
     "text": [
      "                                               \r"
     ]
    },
    {
     "name": "stdout",
     "output_type": "stream",
     "text": [
      "\n",
      "Epoch 287, Avg validation loss: nan, Avg validation accuracy : 3.41130607%\n",
      "\n",
      "Validation loss decreased (nan --> nan).  Saving model ...\n"
     ]
    },
    {
     "name": "stderr",
     "output_type": "stream",
     "text": [
      "                                                               \r"
     ]
    },
    {
     "name": "stdout",
     "output_type": "stream",
     "text": [
      "\n",
      "Epoch 288/300,  Step [86/86], Avg training loss:  nan, Avg training accuracy :  3.10683139%\n",
      "\n"
     ]
    },
    {
     "name": "stderr",
     "output_type": "stream",
     "text": [
      "                                               \r"
     ]
    },
    {
     "name": "stdout",
     "output_type": "stream",
     "text": [
      "\n",
      "Epoch 288, Avg validation loss: nan, Avg validation accuracy : 3.41130607%\n",
      "\n",
      "Validation loss decreased (nan --> nan).  Saving model ...\n"
     ]
    },
    {
     "name": "stderr",
     "output_type": "stream",
     "text": [
      "                                                               \r"
     ]
    },
    {
     "name": "stdout",
     "output_type": "stream",
     "text": [
      "\n",
      "Epoch 289/300,  Step [86/86], Avg training loss:  nan, Avg training accuracy :  3.10683139%\n",
      "\n"
     ]
    },
    {
     "name": "stderr",
     "output_type": "stream",
     "text": [
      "                                               \r"
     ]
    },
    {
     "name": "stdout",
     "output_type": "stream",
     "text": [
      "\n",
      "Epoch 289, Avg validation loss: nan, Avg validation accuracy : 3.41130607%\n",
      "\n",
      "Validation loss decreased (nan --> nan).  Saving model ...\n"
     ]
    },
    {
     "name": "stderr",
     "output_type": "stream",
     "text": [
      "                                                               \r"
     ]
    },
    {
     "name": "stdout",
     "output_type": "stream",
     "text": [
      "\n",
      "Epoch 290/300,  Step [86/86], Avg training loss:  nan, Avg training accuracy :  3.10683139%\n",
      "\n"
     ]
    },
    {
     "name": "stderr",
     "output_type": "stream",
     "text": [
      "                                               \r"
     ]
    },
    {
     "name": "stdout",
     "output_type": "stream",
     "text": [
      "\n",
      "Epoch 290, Avg validation loss: nan, Avg validation accuracy : 3.41130607%\n",
      "\n",
      "Validation loss decreased (nan --> nan).  Saving model ...\n"
     ]
    },
    {
     "name": "stderr",
     "output_type": "stream",
     "text": [
      "                                                               \r"
     ]
    },
    {
     "name": "stdout",
     "output_type": "stream",
     "text": [
      "\n",
      "Epoch 291/300,  Step [86/86], Avg training loss:  nan, Avg training accuracy :  3.10683139%\n",
      "\n"
     ]
    },
    {
     "name": "stderr",
     "output_type": "stream",
     "text": [
      "                                               \r"
     ]
    },
    {
     "name": "stdout",
     "output_type": "stream",
     "text": [
      "\n",
      "Epoch 291, Avg validation loss: nan, Avg validation accuracy : 3.41130607%\n",
      "\n",
      "Validation loss decreased (nan --> nan).  Saving model ...\n"
     ]
    },
    {
     "name": "stderr",
     "output_type": "stream",
     "text": [
      "                                                               \r"
     ]
    },
    {
     "name": "stdout",
     "output_type": "stream",
     "text": [
      "\n",
      "Epoch 292/300,  Step [86/86], Avg training loss:  nan, Avg training accuracy :  3.10683139%\n",
      "\n"
     ]
    },
    {
     "name": "stderr",
     "output_type": "stream",
     "text": [
      "                                               \r"
     ]
    },
    {
     "name": "stdout",
     "output_type": "stream",
     "text": [
      "\n",
      "Epoch 292, Avg validation loss: nan, Avg validation accuracy : 3.41130607%\n",
      "\n",
      "Validation loss decreased (nan --> nan).  Saving model ...\n"
     ]
    },
    {
     "name": "stderr",
     "output_type": "stream",
     "text": [
      "                                                               \r"
     ]
    },
    {
     "name": "stdout",
     "output_type": "stream",
     "text": [
      "\n",
      "Epoch 293/300,  Step [86/86], Avg training loss:  nan, Avg training accuracy :  3.10683139%\n",
      "\n"
     ]
    },
    {
     "name": "stderr",
     "output_type": "stream",
     "text": [
      "                                               \r"
     ]
    },
    {
     "name": "stdout",
     "output_type": "stream",
     "text": [
      "\n",
      "Epoch 293, Avg validation loss: nan, Avg validation accuracy : 3.41130607%\n",
      "\n",
      "Validation loss decreased (nan --> nan).  Saving model ...\n"
     ]
    },
    {
     "name": "stderr",
     "output_type": "stream",
     "text": [
      "                                                               \r"
     ]
    },
    {
     "name": "stdout",
     "output_type": "stream",
     "text": [
      "\n",
      "Epoch 294/300,  Step [86/86], Avg training loss:  nan, Avg training accuracy :  3.10683139%\n",
      "\n"
     ]
    },
    {
     "name": "stderr",
     "output_type": "stream",
     "text": [
      "                                               \r"
     ]
    },
    {
     "name": "stdout",
     "output_type": "stream",
     "text": [
      "\n",
      "Epoch 294, Avg validation loss: nan, Avg validation accuracy : 3.41130607%\n",
      "\n",
      "Validation loss decreased (nan --> nan).  Saving model ...\n"
     ]
    },
    {
     "name": "stderr",
     "output_type": "stream",
     "text": [
      "                                                               \r"
     ]
    },
    {
     "name": "stdout",
     "output_type": "stream",
     "text": [
      "\n",
      "Epoch 295/300,  Step [86/86], Avg training loss:  nan, Avg training accuracy :  3.10683139%\n",
      "\n"
     ]
    },
    {
     "name": "stderr",
     "output_type": "stream",
     "text": [
      "                                               \r"
     ]
    },
    {
     "name": "stdout",
     "output_type": "stream",
     "text": [
      "\n",
      "Epoch 295, Avg validation loss: nan, Avg validation accuracy : 3.41130607%\n",
      "\n",
      "Validation loss decreased (nan --> nan).  Saving model ...\n"
     ]
    },
    {
     "name": "stderr",
     "output_type": "stream",
     "text": [
      "                                                               \r"
     ]
    },
    {
     "name": "stdout",
     "output_type": "stream",
     "text": [
      "\n",
      "Epoch 296/300,  Step [86/86], Avg training loss:  nan, Avg training accuracy :  3.10683139%\n",
      "\n"
     ]
    },
    {
     "name": "stderr",
     "output_type": "stream",
     "text": [
      "                                               \r"
     ]
    },
    {
     "name": "stdout",
     "output_type": "stream",
     "text": [
      "\n",
      "Epoch 296, Avg validation loss: nan, Avg validation accuracy : 3.41130607%\n",
      "\n",
      "Validation loss decreased (nan --> nan).  Saving model ...\n"
     ]
    },
    {
     "name": "stderr",
     "output_type": "stream",
     "text": [
      "                                                               \r"
     ]
    },
    {
     "name": "stdout",
     "output_type": "stream",
     "text": [
      "\n",
      "Epoch 297/300,  Step [86/86], Avg training loss:  nan, Avg training accuracy :  3.10683139%\n",
      "\n"
     ]
    },
    {
     "name": "stderr",
     "output_type": "stream",
     "text": [
      "                                               \r"
     ]
    },
    {
     "name": "stdout",
     "output_type": "stream",
     "text": [
      "\n",
      "Epoch 297, Avg validation loss: nan, Avg validation accuracy : 3.41130607%\n",
      "\n",
      "Validation loss decreased (nan --> nan).  Saving model ...\n"
     ]
    },
    {
     "name": "stderr",
     "output_type": "stream",
     "text": [
      "                                                               \r"
     ]
    },
    {
     "name": "stdout",
     "output_type": "stream",
     "text": [
      "\n",
      "Epoch 298/300,  Step [86/86], Avg training loss:  nan, Avg training accuracy :  3.10683139%\n",
      "\n"
     ]
    },
    {
     "name": "stderr",
     "output_type": "stream",
     "text": [
      "                                               \r"
     ]
    },
    {
     "name": "stdout",
     "output_type": "stream",
     "text": [
      "\n",
      "Epoch 298, Avg validation loss: nan, Avg validation accuracy : 3.41130607%\n",
      "\n",
      "Validation loss decreased (nan --> nan).  Saving model ...\n"
     ]
    },
    {
     "name": "stderr",
     "output_type": "stream",
     "text": [
      "                                                               \r"
     ]
    },
    {
     "name": "stdout",
     "output_type": "stream",
     "text": [
      "\n",
      "Epoch 299/300,  Step [86/86], Avg training loss:  nan, Avg training accuracy :  3.10683139%\n",
      "\n"
     ]
    },
    {
     "name": "stderr",
     "output_type": "stream",
     "text": [
      "                                               \r"
     ]
    },
    {
     "name": "stdout",
     "output_type": "stream",
     "text": [
      "\n",
      "Epoch 299, Avg validation loss: nan, Avg validation accuracy : 3.41130607%\n",
      "\n",
      "Validation loss decreased (nan --> nan).  Saving model ...\n"
     ]
    },
    {
     "name": "stderr",
     "output_type": "stream",
     "text": [
      "                                                               \r"
     ]
    },
    {
     "name": "stdout",
     "output_type": "stream",
     "text": [
      "\n",
      "Epoch 300/300,  Step [86/86], Avg training loss:  nan, Avg training accuracy :  3.10683139%\n",
      "\n"
     ]
    },
    {
     "name": "stderr",
     "output_type": "stream",
     "text": [
      "                                               \r"
     ]
    },
    {
     "name": "stdout",
     "output_type": "stream",
     "text": [
      "\n",
      "Epoch 300, Avg validation loss: nan, Avg validation accuracy : 3.41130607%\n",
      "\n",
      "Validation loss decreased (nan --> nan).  Saving model ...\n"
     ]
    }
   ],
   "source": [
    "n_epochs = 300\n",
    "accuracy, best_Acc = 0.0, 0.0, \n",
    "print_each_steps = 100\n",
    "prev_avg_loss = float('inf')\n",
    " \n",
    "\n",
    "# Batch calculations\n",
    "n_total_steps = len(train_loader)\n",
    "running_correct, running_loss_val, running_correct_val, training_running_loss = 0, 0.0, 0.0, 0.0\n",
    "\n",
    "for epoch in range(n_epochs):  # loop over the dataset multiple times\n",
    "    \n",
    "    model.train()\n",
    "\n",
    "    losses_training = [] \n",
    "    accuracies_tarining = []\n",
    "\n",
    "    ###################\n",
    "    # train the model #\n",
    "    ###################  \n",
    "    \n",
    "    for i, batch in tqdm(enumerate(train_loader, 1),\"Epoch # is {}\".format(epoch) ,total = len(train_loader),position=0, leave=False):\n",
    "\n",
    "        inputs, labels, _ = batch \n",
    "\n",
    "        # import pdb; pdb.set_trace()\n",
    "        inputs = inputs.to(device)\n",
    "        labels = labels.to(device)\n",
    "\n",
    "        logits = model(inputs) # logits / scores \n",
    "\n",
    "\n",
    "        logits = logits.to(device)\n",
    "\n",
    "        # Calculate loss\n",
    "        J = loss(logits,labels)\n",
    "\n",
    "        #  re-initlize gradiants, calculate gradients, update the weights\n",
    "        optimzer.zero_grad(); J.backward() ; optimzer.step()\n",
    "\n",
    "        # \n",
    "        training_running_loss += J.item()\n",
    "        # _, predicted = torch.max(logits.data, 1)\n",
    "        # running_correct += (predicted == labels).sum().item()\n",
    "\n",
    "\n",
    "        losses_training.append(J.item())\n",
    "\n",
    "        running_correct += labels.eq(logits.detach().argmax(dim=1)).float().mean()\n",
    "        accuracies_tarining.append(labels.eq(logits.detach().argmax(dim=1)).float().mean())\n",
    "    \n",
    "        # Print some information each \"print_each_steps\" steps \n",
    "\n",
    "        if i%print_each_steps ==0:\n",
    "            print (f'Epoch [{epoch+1}/{n_epochs}], Step [{i}/{n_total_steps}], Loss: {J.item():.8f}')\n",
    "            ############## TENSORBOARD ########################\n",
    "            writer.add_scalar('Batch_training_loss', training_running_loss / print_each_steps, epoch * n_total_steps + i)\n",
    "            running_accuracy = running_correct / print_each_steps  # \n",
    "            writer.add_scalar('Batch_training_accuracy', running_accuracy, epoch * n_total_steps + i)\n",
    "            running_correct = 0\n",
    "            training_running_loss = 0.0\n",
    "            ###################################################\n",
    "\n",
    "    # End epoch calculations \n",
    "    End_Eopch_Training_Loss = torch.tensor(losses_training).float().mean()\n",
    "    End_Eopch_Training_Acc  = torch.tensor(accuracies_tarining).float().mean()\n",
    "  \n",
    "    \n",
    "    # Add training loss and training accuracy each epoch \n",
    "    writer.add_scalar('End_epoch_training_loss', End_Eopch_Training_Loss.item(),epoch)\n",
    "    writer.add_scalar('End_epoch_training_accuracy', End_Eopch_Training_Acc.item(),epoch)\n",
    "\n",
    "\n",
    "    print()\n",
    "    print(f'Epoch {epoch + 1}/{n_epochs},  Step [{i}/{n_total_steps}]', end = ', ')\n",
    "    print(f'Avg training loss: { End_Eopch_Training_Loss.item() : .8f}', end = ', ')\n",
    "    print(f'Avg training accuracy : {End_Eopch_Training_Acc.item() : .8%}')\n",
    "    print()\n",
    "\n",
    "\n",
    "    \n",
    "    \n",
    "    ######################    \n",
    "    # validate the model #\n",
    "    ######################\n",
    "        \n",
    "    losses_validation = [] \n",
    "    accuracies_validation = []\n",
    "  \n",
    "\n",
    "    model.eval()\n",
    "  \n",
    "    with torch.no_grad():\n",
    "        \n",
    "        for batch in tqdm(val_loader, total = len(val_loader), position=0, leave=False):\n",
    "\n",
    "            inputs, labels, _ = batch \n",
    "\n",
    "            inputs = inputs.to(device)\n",
    "            labels = labels.to(device)\n",
    "\n",
    "            logits = model(inputs) # logits / scores \n",
    "\n",
    "            logits = logits.to(device)\n",
    "\n",
    "            J = loss(logits,labels)\n",
    "\n",
    "\n",
    "            losses_validation.append(J.item())\n",
    "\n",
    "            running_loss_val += J.item()\n",
    "            losses_validation.append(J.item())\n",
    "\n",
    "\n",
    "            running_correct = labels.eq(logits.detach().argmax(dim=1)).float().mean()\n",
    "            accuracies_validation.append(labels.eq(logits.detach().argmax(dim=1)).float().mean())\n",
    "      \n",
    "        current_loss  = torch.tensor(losses_validation).float().mean()\n",
    "        current_Accuracy = torch.tensor(accuracies_validation).float().mean()\n",
    "                  \n",
    "\n",
    "        writer.add_scalar('End epoch, Validation loss', running_loss_val / len(val_loader), epoch)\n",
    "        running_accuracy = running_correct / len(val_loader) \n",
    "        writer.add_scalar('End epoch, Validation accuracy', running_accuracy, epoch )\n",
    "        \n",
    "\n",
    "        print()  \n",
    "        print(f'Epoch {epoch + 1}', end = ', ')\n",
    "        print(f'Avg validation loss: {current_loss :.8f}', end = ', ')\n",
    "        print(f'Avg validation accuracy : {current_Accuracy :.8%}')\n",
    "        print()\n",
    "\n",
    "\n",
    "\n",
    "        if current_loss < prev_avg_loss:\n",
    "\n",
    "            prev_avg_loss = current_loss\n",
    "\n",
    "            print()\n",
    "            print('The best validation Loss is ', prev_avg_loss.item())\n",
    "            print('The Current Accuracy of validation is ', current_Accuracy.item() * 100)\n",
    "            print()\n",
    "\n",
    "            torch.save(model.state_dict(), path)\n",
    "      \n",
    "        if current_Accuracy > best_Acc :\n",
    "\n",
    "            best_Acc = current_Accuracy\n",
    "\n",
    "        # early_stopping needs the validation loss to check if it has decresed, \n",
    "        # and if it has, it will make a checkpoint of the current model\n",
    "        early_stopping(current_loss, model)\n",
    "        \n",
    "        if early_stopping.early_stop:\n",
    "            print(\"Early stopping\")\n",
    "            break           \n",
    "            \n",
    "        # Add training loss and training accuracy each epoch \n",
    "        writer.add_scalar('End_epoch_validation_loss', torch.tensor(losses_validation).float().mean().item(),epoch)\n",
    "        writer.add_scalar('End_epoch_validation_accuracy', torch.tensor(accuracies_validation).float().mean().item(),epoch)\n",
    "\n",
    "    # End epoch, training dataset\n",
    "    All_end_eopch_validation_loss.append(torch.tensor(losses_validation).float().mean().item())\n",
    "    \n",
    "    # End epoch, training dataset\n",
    "    All_end_eopch_training_loss.append(End_Eopch_Training_Loss.item())  \n",
    "    \n",
    "    writer.add_scalars('Traning_Validation', {'EOP_training loss':End_Eopch_Training_Loss.item(),\n",
    "                                            'EOP_Validation loss':torch.tensor(losses_validation).float().mean().item()},\n",
    "                                             epoch)\n",
    "\n",
    "    running_loss_val = 0.0 \n",
    "    running_correct_val = 0\n",
    "    "
   ]
  },
  {
   "cell_type": "code",
   "execution_count": 55,
   "id": "e7b42c7f",
   "metadata": {},
   "outputs": [
    {
     "data": {
      "image/png": "[encoded data removed]",
      "text/plain": [
       "<Figure size 720x576 with 1 Axes>"
      ]
     },
     "metadata": {
      "needs_background": "light"
     },
     "output_type": "display_data"
    }
   ],
   "source": [
    "# visualize the loss as the network trained\n",
    "fig = plt.figure(figsize=(10,8))\n",
    "plt.plot(range(1,len(All_end_eopch_training_loss)+1),All_end_eopch_training_loss, label='Training Loss')\n",
    "plt.plot(range(1,len(All_end_eopch_validation_loss)+1),All_end_eopch_validation_loss,label='Validation Loss')\n",
    "\n",
    "# find position of lowest validation loss\n",
    "minposs = All_end_eopch_validation_loss.index(min(All_end_eopch_validation_loss))+1 \n",
    "plt.axvline(minposs, linestyle='--', color='r',label='Early Stopping Checkpoint')\n",
    "\n",
    "plt.xlabel('epochs')\n",
    "plt.ylabel('loss')\n",
    "plt.ylim(0, 4) # consistent scale\n",
    "plt.xlim(0, len(All_end_eopch_training_loss)+1) # consistent scale\n",
    "plt.grid(True)\n",
    "plt.legend()\n",
    "plt.tight_layout()\n",
    "plt.show()\n",
    "fig.savefig('loss_plot.png', bbox_inches='tight')"
   ]
  },
  {
   "cell_type": "markdown",
   "id": "27607f85",
   "metadata": {},
   "source": [
    "## Model testing"
   ]
  },
  {
   "cell_type": "code",
   "execution_count": 56,
   "id": "5227b333",
   "metadata": {},
   "outputs": [
    {
     "name": "stdout",
     "output_type": "stream",
     "text": [
      "31\n"
     ]
    },
    {
     "ename": "FileNotFoundError",
     "evalue": "[Errno 2] No such file or directory: 'CheckPoints/alexnet_2'",
     "output_type": "error",
     "traceback": [
      "\u001b[0;31m---------------------------------------------------------------------------\u001b[0m",
      "\u001b[0;31mFileNotFoundError\u001b[0m                         Traceback (most recent call last)",
      "\u001b[0;32m/tmp/ipykernel_1380028/3861724591.py\u001b[0m in \u001b[0;36m<module>\u001b[0;34m\u001b[0m\n\u001b[1;32m      1\u001b[0m \u001b[0mmodel\u001b[0m \u001b[0;34m=\u001b[0m \u001b[0mModel\u001b[0m\u001b[0;34m(\u001b[0m\u001b[0;34m)\u001b[0m\u001b[0;34m.\u001b[0m\u001b[0mto\u001b[0m\u001b[0;34m(\u001b[0m\u001b[0mdevice\u001b[0m\u001b[0;34m)\u001b[0m\u001b[0;34m\u001b[0m\u001b[0;34m\u001b[0m\u001b[0m\n\u001b[0;32m----> 2\u001b[0;31m \u001b[0mmodel\u001b[0m\u001b[0;34m.\u001b[0m\u001b[0mload_state_dict\u001b[0m\u001b[0;34m(\u001b[0m\u001b[0mtorch\u001b[0m\u001b[0;34m.\u001b[0m\u001b[0mload\u001b[0m\u001b[0;34m(\u001b[0m\u001b[0mpath\u001b[0m\u001b[0;34m)\u001b[0m\u001b[0;34m)\u001b[0m\u001b[0;34m\u001b[0m\u001b[0;34m\u001b[0m\u001b[0m\n\u001b[0m\u001b[1;32m      3\u001b[0m \u001b[0;34m\u001b[0m\u001b[0m\n\u001b[1;32m      4\u001b[0m \u001b[0mprint\u001b[0m\u001b[0;34m(\u001b[0m\u001b[0;34m\"path >> \"\u001b[0m\u001b[0;34m,\u001b[0m \u001b[0mpath\u001b[0m\u001b[0;34m)\u001b[0m\u001b[0;34m\u001b[0m\u001b[0;34m\u001b[0m\u001b[0m\n",
      "\u001b[0;32m~/Desktop/Barham/Conferance_Sign_Language_paper/conf_sign_lang/lib/python3.8/site-packages/torch/serialization.py\u001b[0m in \u001b[0;36mload\u001b[0;34m(f, map_location, pickle_module, **pickle_load_args)\u001b[0m\n\u001b[1;32m    592\u001b[0m         \u001b[0mpickle_load_args\u001b[0m\u001b[0;34m[\u001b[0m\u001b[0;34m'encoding'\u001b[0m\u001b[0;34m]\u001b[0m \u001b[0;34m=\u001b[0m \u001b[0;34m'utf-8'\u001b[0m\u001b[0;34m\u001b[0m\u001b[0;34m\u001b[0m\u001b[0m\n\u001b[1;32m    593\u001b[0m \u001b[0;34m\u001b[0m\u001b[0m\n\u001b[0;32m--> 594\u001b[0;31m     \u001b[0;32mwith\u001b[0m \u001b[0m_open_file_like\u001b[0m\u001b[0;34m(\u001b[0m\u001b[0mf\u001b[0m\u001b[0;34m,\u001b[0m \u001b[0;34m'rb'\u001b[0m\u001b[0;34m)\u001b[0m \u001b[0;32mas\u001b[0m \u001b[0mopened_file\u001b[0m\u001b[0;34m:\u001b[0m\u001b[0;34m\u001b[0m\u001b[0;34m\u001b[0m\u001b[0m\n\u001b[0m\u001b[1;32m    595\u001b[0m         \u001b[0;32mif\u001b[0m \u001b[0m_is_zipfile\u001b[0m\u001b[0;34m(\u001b[0m\u001b[0mopened_file\u001b[0m\u001b[0;34m)\u001b[0m\u001b[0;34m:\u001b[0m\u001b[0;34m\u001b[0m\u001b[0;34m\u001b[0m\u001b[0m\n\u001b[1;32m    596\u001b[0m             \u001b[0;31m# The zipfile reader is going to advance the current file position.\u001b[0m\u001b[0;34m\u001b[0m\u001b[0;34m\u001b[0m\u001b[0;34m\u001b[0m\u001b[0m\n",
      "\u001b[0;32m~/Desktop/Barham/Conferance_Sign_Language_paper/conf_sign_lang/lib/python3.8/site-packages/torch/serialization.py\u001b[0m in \u001b[0;36m_open_file_like\u001b[0;34m(name_or_buffer, mode)\u001b[0m\n\u001b[1;32m    228\u001b[0m \u001b[0;32mdef\u001b[0m \u001b[0m_open_file_like\u001b[0m\u001b[0;34m(\u001b[0m\u001b[0mname_or_buffer\u001b[0m\u001b[0;34m,\u001b[0m \u001b[0mmode\u001b[0m\u001b[0;34m)\u001b[0m\u001b[0;34m:\u001b[0m\u001b[0;34m\u001b[0m\u001b[0;34m\u001b[0m\u001b[0m\n\u001b[1;32m    229\u001b[0m     \u001b[0;32mif\u001b[0m \u001b[0m_is_path\u001b[0m\u001b[0;34m(\u001b[0m\u001b[0mname_or_buffer\u001b[0m\u001b[0;34m)\u001b[0m\u001b[0;34m:\u001b[0m\u001b[0;34m\u001b[0m\u001b[0;34m\u001b[0m\u001b[0m\n\u001b[0;32m--> 230\u001b[0;31m         \u001b[0;32mreturn\u001b[0m \u001b[0m_open_file\u001b[0m\u001b[0;34m(\u001b[0m\u001b[0mname_or_buffer\u001b[0m\u001b[0;34m,\u001b[0m \u001b[0mmode\u001b[0m\u001b[0;34m)\u001b[0m\u001b[0;34m\u001b[0m\u001b[0;34m\u001b[0m\u001b[0m\n\u001b[0m\u001b[1;32m    231\u001b[0m     \u001b[0;32melse\u001b[0m\u001b[0;34m:\u001b[0m\u001b[0;34m\u001b[0m\u001b[0;34m\u001b[0m\u001b[0m\n\u001b[1;32m    232\u001b[0m         \u001b[0;32mif\u001b[0m \u001b[0;34m'w'\u001b[0m \u001b[0;32min\u001b[0m \u001b[0mmode\u001b[0m\u001b[0;34m:\u001b[0m\u001b[0;34m\u001b[0m\u001b[0;34m\u001b[0m\u001b[0m\n",
      "\u001b[0;32m~/Desktop/Barham/Conferance_Sign_Language_paper/conf_sign_lang/lib/python3.8/site-packages/torch/serialization.py\u001b[0m in \u001b[0;36m__init__\u001b[0;34m(self, name, mode)\u001b[0m\n\u001b[1;32m    209\u001b[0m \u001b[0;32mclass\u001b[0m \u001b[0m_open_file\u001b[0m\u001b[0;34m(\u001b[0m\u001b[0m_opener\u001b[0m\u001b[0;34m)\u001b[0m\u001b[0;34m:\u001b[0m\u001b[0;34m\u001b[0m\u001b[0;34m\u001b[0m\u001b[0m\n\u001b[1;32m    210\u001b[0m     \u001b[0;32mdef\u001b[0m \u001b[0m__init__\u001b[0m\u001b[0;34m(\u001b[0m\u001b[0mself\u001b[0m\u001b[0;34m,\u001b[0m \u001b[0mname\u001b[0m\u001b[0;34m,\u001b[0m \u001b[0mmode\u001b[0m\u001b[0;34m)\u001b[0m\u001b[0;34m:\u001b[0m\u001b[0;34m\u001b[0m\u001b[0;34m\u001b[0m\u001b[0m\n\u001b[0;32m--> 211\u001b[0;31m         \u001b[0msuper\u001b[0m\u001b[0;34m(\u001b[0m\u001b[0m_open_file\u001b[0m\u001b[0;34m,\u001b[0m \u001b[0mself\u001b[0m\u001b[0;34m)\u001b[0m\u001b[0;34m.\u001b[0m\u001b[0m__init__\u001b[0m\u001b[0;34m(\u001b[0m\u001b[0mopen\u001b[0m\u001b[0;34m(\u001b[0m\u001b[0mname\u001b[0m\u001b[0;34m,\u001b[0m \u001b[0mmode\u001b[0m\u001b[0;34m)\u001b[0m\u001b[0;34m)\u001b[0m\u001b[0;34m\u001b[0m\u001b[0;34m\u001b[0m\u001b[0m\n\u001b[0m\u001b[1;32m    212\u001b[0m \u001b[0;34m\u001b[0m\u001b[0m\n\u001b[1;32m    213\u001b[0m     \u001b[0;32mdef\u001b[0m \u001b[0m__exit__\u001b[0m\u001b[0;34m(\u001b[0m\u001b[0mself\u001b[0m\u001b[0;34m,\u001b[0m \u001b[0;34m*\u001b[0m\u001b[0margs\u001b[0m\u001b[0;34m)\u001b[0m\u001b[0;34m:\u001b[0m\u001b[0;34m\u001b[0m\u001b[0;34m\u001b[0m\u001b[0m\n",
      "\u001b[0;31mFileNotFoundError\u001b[0m: [Errno 2] No such file or directory: 'CheckPoints/alexnet_2'"
     ]
    }
   ],
   "source": [
    "model = Model().to(device)\n",
    "model.load_state_dict(torch.load(path))\n",
    "\n",
    "print(\"path >> \", path)"
   ]
  },
  {
   "cell_type": "markdown",
   "id": "c90869e2",
   "metadata": {},
   "source": [
    "### Testing loop"
   ]
  },
  {
   "cell_type": "code",
   "execution_count": null,
   "id": "141a65c2",
   "metadata": {},
   "outputs": [],
   "source": [
    "fault_images = []\n",
    "count = 0 \n",
    "\n",
    "true = []\n",
    "pred = []\n",
    "pred_wrong = []\n",
    "true_wrong = []\n",
    "image = [] "
   ]
  },
  {
   "cell_type": "code",
   "execution_count": null,
   "id": "58d382bc",
   "metadata": {},
   "outputs": [],
   "source": [
    "losses_testing = [] \n",
    "accuracies_testing = []\n",
    "labels_list = [] \n",
    "logits_list = [] \n",
    "\n",
    "model.eval()\n",
    "\n",
    "index = 0\n",
    "\n",
    "with torch.no_grad():\n",
    "\n",
    "    for i,batch in tqdm(enumerate(test_loader, 1), total = len(test_loader), position=0, leave=False):\n",
    "        \n",
    "        \n",
    "        inputs, labels, paths = batch\n",
    "\n",
    "        inputs = inputs.to(device)\n",
    "    \n",
    "        labels = labels.to(device)\n",
    "\n",
    "        logits = model(inputs) # logits / scores \n",
    "\n",
    "        labels_list.append(labels.cpu().detach().numpy())\n",
    "        logits_list.append(logits.cpu().detach().argmax(dim=1).numpy())\n",
    "\n",
    "        predicted_labels = logits.cpu().detach().argmax(dim=1).numpy() # list of indices\n",
    "        logits = logits.to(device)\n",
    "\n",
    "        J = loss(logits,labels)\n",
    "\n",
    "\n",
    "        loss_every_batch = J.item()\n",
    "        losses_testing.append(loss_every_batch)\n",
    "        \n",
    "\n",
    "        acc = labels.eq(logits.detach().argmax(dim=1)).float().mean()\n",
    "        check_it = (logits.detach().argmax(dim=1) != labels).nonzero()\n",
    "\n",
    "     \n",
    "        if len(check_it) != 0:\n",
    "            idicies = check_it.cpu().numpy()\n",
    "            \n",
    "            for idx in idicies:\n",
    "                for ele in idx:\n",
    "                    fault_images.append([inputs[ele], predicted_labels[ele], labels[ele].item(), paths[ele]])\n",
    "                    count += 1\n",
    "\n",
    "        accuracies_testing.append(acc)      \n",
    "        \n",
    "        \n",
    "        \n",
    "        for i in range(len(predicted_labels)):\n",
    "            pred.append(predicted_labels[i])\n",
    "            true.append(labels[i].item())\n",
    "            if(predicted_labels[i]!=labels[i]):\n",
    "                pred_wrong.append(predicted_labels[i])\n",
    "                true_wrong.append(labels[i].item())\n",
    "\n",
    "        writer.add_scalar(\"Batch, Testing, loss\",loss_every_batch, i)\n",
    "        writer.add_scalar(\"Batch, Testing, accuracy\",acc, i)\n",
    "\n",
    "    print()\n",
    "    print(f'Avg testing loss: {torch.tensor(losses_testing).mean():.5f}', end = ', ')\n",
    "    print(f'Avg testing accuracy : {torch.tensor(accuracies_testing).float().mean()*100}%')\n",
    "    print()"
   ]
  },
  {
   "cell_type": "code",
   "execution_count": null,
   "id": "1644bd11",
   "metadata": {},
   "outputs": [],
   "source": [
    "from sklearn import metrics\n"
   ]
  },
  {
   "cell_type": "code",
   "execution_count": null,
   "id": "4b125bbc",
   "metadata": {},
   "outputs": [],
   "source": [
    "def performance_matrix(true,pred, type_met):\n",
    "    precision = metrics.precision_score(true,pred,average=type_met)\n",
    "    recall = metrics.recall_score(true,pred,average=type_met)\n",
    "    accuracy = metrics.accuracy_score(true,pred)\n",
    "    f1_score = metrics.f1_score(true,pred,average=type_met)\n",
    "    print('Confusion Matrix:\\n',metrics.confusion_matrix(true, pred))\n",
    "    print('Precision: {} \\n Recall: {}, \\n Accuracy: {}: ,\\n f1_score: {}'.format(precision*100,recall*100,accuracy*100,f1_score*100))"
   ]
  },
  {
   "cell_type": "code",
   "execution_count": null,
   "id": "a69d543a",
   "metadata": {},
   "outputs": [],
   "source": [
    "performance_matrix(true,pred, 'macro')"
   ]
  },
  {
   "cell_type": "code",
   "execution_count": null,
   "id": "278b503c",
   "metadata": {},
   "outputs": [],
   "source": [
    "performance_matrix(true,pred, 'micro')"
   ]
  },
  {
   "cell_type": "code",
   "execution_count": null,
   "id": "b8e0fc98",
   "metadata": {},
   "outputs": [],
   "source": [
    "performance_matrix(true,pred, None)"
   ]
  },
  {
   "cell_type": "code",
   "execution_count": null,
   "id": "258b6469",
   "metadata": {},
   "outputs": [],
   "source": [
    "performance_matrix(true,pred, \"weighted\")"
   ]
  },
  {
   "cell_type": "code",
   "execution_count": null,
   "id": "a46f01d2",
   "metadata": {},
   "outputs": [],
   "source": [
    "count"
   ]
  },
  {
   "cell_type": "code",
   "execution_count": null,
   "id": "367624d6",
   "metadata": {},
   "outputs": [],
   "source": [
    "len(fault_images)\n",
    "# , predicted_labels[ele], labels[ele].item()"
   ]
  },
  {
   "cell_type": "code",
   "execution_count": null,
   "id": "ab215130",
   "metadata": {},
   "outputs": [],
   "source": [
    "traindataset.dataset.class_to_idx ;\n",
    "idx2label = {idx:val for val, idx in traindataset.dataset.class_to_idx.items()}"
   ]
  },
  {
   "cell_type": "code",
   "execution_count": null,
   "id": "b7680329",
   "metadata": {},
   "outputs": [],
   "source": [
    "!mkdir images"
   ]
  },
  {
   "cell_type": "code",
   "execution_count": null,
   "id": "f3b227d0",
   "metadata": {},
   "outputs": [],
   "source": [
    "!ls"
   ]
  },
  {
   "cell_type": "markdown",
   "id": "1e1e22f7",
   "metadata": {},
   "source": [
    "### Print fault images"
   ]
  },
  {
   "cell_type": "code",
   "execution_count": null,
   "id": "13b8678d",
   "metadata": {},
   "outputs": [],
   "source": [
    "plt.figure(figsize=(17,17))\n",
    "\n",
    "for i, img in enumerate(fault_images):\n",
    "    name_image = f\"P_{idx2label[fault_images[i][1]]}_T_{idx2label[fault_images[i][2]]}_{i}.png\"\n",
    "    print(name_image)\n",
    "    print(fault_images[i][3])\n",
    "    # plt.imshow(fault_images[i][0].permute(1, 2, 0).cpu().numpy(), cmap=\"gray\", label=\"fdfsd\")\n",
    "    # plt.savefig(\"images/\" + name_image, format=\"png\", bbox_inches='tight') # , dpi=400\n",
    "    # plt.title(name_image)\n"
   ]
  },
  {
   "cell_type": "code",
   "execution_count": null,
   "id": "d32d22ed",
   "metadata": {},
   "outputs": [],
   "source": [
    "plt.figure(figsize=(17,17))\n",
    "\n",
    "for i, img in enumerate(fault_images[0:16]):\n",
    "    plt.subplot(4,4,i+1)\n",
    "    # print(\"Predicted: \", idx2label[fault_images[i][1]], \" \", \"True: \", idx2label[fault_images[i][2]])\n",
    "   \n",
    "    plt.imshow(fault_images[i][0].permute(1, 2, 0).cpu().numpy(), cmap=\"gray\", label=\"fdfsd\")\n",
    "    plt.title(f\"Predicted: {idx2label[fault_images[i][1]]},    True: {idx2label[fault_images[i][2]]}\")\n"
   ]
  },
  {
   "cell_type": "code",
   "execution_count": null,
   "id": "b92628cc",
   "metadata": {},
   "outputs": [],
   "source": [
    "plt.figure(figsize=(17,17))\n",
    "\n",
    "for i, img in enumerate(fault_images[16:32]):\n",
    "    plt.subplot(4,4,i+1)\n",
    "    # print(\"Predicted: \", idx2label[fault_images[i][1]], \" \", \"True: \", idx2label[fault_images[i][2]])\n",
    "   \n",
    "    plt.imshow(fault_images[i][0].permute(1, 2, 0).cpu().numpy(), cmap=\"gray\", label=\"fdfsd\")\n",
    "    plt.title(f\"Predicted: {idx2label[fault_images[i][1]]},    True: {idx2label[fault_images[i][2]]}\")\n"
   ]
  },
  {
   "cell_type": "code",
   "execution_count": null,
   "id": "31dca024",
   "metadata": {},
   "outputs": [],
   "source": [
    "plt.figure(figsize=(17,17))\n",
    "\n",
    "for i, img in enumerate(fault_images[32:44]):\n",
    "    plt.subplot(4,3,i+1)\n",
    "    # print(\"Predicted: \", idx2label[fault_images[i][1]], \" \", \"True: \", idx2label[fault_images[i][2]])\n",
    "   \n",
    "    plt.imshow(fault_images[i][0].permute(1, 2, 0).cpu().numpy(), cmap=\"gray\", label=\"fdfsd\")\n",
    "    plt.title(f\"Predicted: {idx2label[fault_images[i][1]]},    True: {idx2label[fault_images[i][2]]}\")\n"
   ]
  },
  {
   "cell_type": "code",
   "execution_count": null,
   "id": "d2869e04",
   "metadata": {},
   "outputs": [],
   "source": [
    "plt.figure(figsize=(17,17))\n",
    "\n",
    "for i, img in enumerate(fault_images[45:54]):\n",
    "    plt.subplot(4,3,i+1)\n",
    "    # print(\"Predicted: \", idx2label[fault_images[i][1]], \" \", \"True: \", idx2label[fault_images[i][2]])\n",
    "   \n",
    "    plt.imshow(fault_images[i][0].permute(1, 2, 0).cpu().numpy(), cmap=\"gray\", label=\"fdfsd\")\n",
    "    plt.title(f\"Predicted: {idx2label[fault_images[i][1]]},    True: {idx2label[fault_images[i][2]]}\")\n"
   ]
  },
  {
   "cell_type": "markdown",
   "id": "d2b369dd",
   "metadata": {},
   "source": [
    "## Plot the confusion matrix "
   ]
  },
  {
   "cell_type": "code",
   "execution_count": null,
   "id": "62a21c34",
   "metadata": {},
   "outputs": [],
   "source": [
    "dic_class_idx = traindataset.dataset.class_to_idx\n",
    "dic_class_idx"
   ]
  },
  {
   "cell_type": "code",
   "execution_count": null,
   "id": "c2d08ec6",
   "metadata": {},
   "outputs": [],
   "source": [
    "idx_to_class_dic = {v: k for k, v in dic_class_idx.items()}"
   ]
  },
  {
   "cell_type": "code",
   "execution_count": null,
   "id": "17e7df5b",
   "metadata": {},
   "outputs": [],
   "source": [
    "idx_to_class_dic"
   ]
  },
  {
   "cell_type": "code",
   "execution_count": null,
   "id": "baa5becb",
   "metadata": {},
   "outputs": [],
   "source": [
    "def flatten(input):\n",
    "    new_list = []\n",
    "    for i in input:\n",
    "        for j in i:\n",
    "            new_list.append(j)\n",
    "    return new_list"
   ]
  },
  {
   "cell_type": "code",
   "execution_count": null,
   "id": "55c6936e",
   "metadata": {},
   "outputs": [],
   "source": [
    "label_flattened  = flatten(labels_list)\n",
    "logits_flattened = flatten(logits_list)"
   ]
  },
  {
   "cell_type": "code",
   "execution_count": null,
   "id": "6c44ee9e",
   "metadata": {},
   "outputs": [],
   "source": [
    "cmt = torch.zeros((31,31), dtype=int)\n",
    "np_arr = cmt.detach().numpy()"
   ]
  },
  {
   "cell_type": "code",
   "execution_count": null,
   "id": "b3c17b39",
   "metadata": {},
   "outputs": [],
   "source": [
    "for i,_ in enumerate(label_flattened):\n",
    "   tl = label_flattened[i] \n",
    "   pl = logits_flattened[i]\n",
    "   np_arr[tl,pl] = np_arr[tl,pl] + 1 "
   ]
  },
  {
   "cell_type": "code",
   "execution_count": null,
   "id": "4f04485d",
   "metadata": {},
   "outputs": [],
   "source": [
    "import itertools\n",
    "import numpy as np\n",
    "import matplotlib.pyplot as plt\n",
    "\n",
    "def plot_confusion_matrix(cm, classes, normalize=False, title='Confusion matrix', cmap=plt.cm.Blues):\n",
    "    if normalize:\n",
    "        cm = cm.astype('float') / cm.sum(axis=1)[:, np.newaxis]\n",
    "        print(\"Normalized confusion matrix\")\n",
    "    else:\n",
    "        print('Confusion matrix, without normalization')\n",
    "\n",
    "    print(cm)\n",
    "    plt.imshow(cm, interpolation='nearest', cmap=cmap)\n",
    "    \n",
    "    cbar = plt.colorbar(fraction=0.0457, pad=0.04)\n",
    "    cbar.ax.tick_params(labelsize=40)\n",
    "\n",
    "    \n",
    "    tick_marks = np.arange(len(classes))\n",
    "\n",
    "                        #  {'ain'   'al': 'aleff': 'bb': 'dal' 'dha' ,'dhad'  ,'fa', 'gaaf' 'ghain'  'ha'   'haa'  'jeem' 'kaaf' 'khaa'   'la'  'laam'  'meem'  'nun'   'ra'   saad'  'seen'  'sheen'  'ta'  'taa'   'thaa'  'thal'     'toot'      'waw'   'ya': 29          'yaa'   'zay'}\n",
    "    plt.xticks(tick_marks, [r'Ain',r'Al',r'Alef',r'Beh',r'Dad',r'Dal',r'Feh',r'Ghain',r'Hah', r'Heh', r'Jeem',r'Kaf',r'Khah',r'Laa',r'Lam',r'Meem',r'Noon',r'Qaf',r'Reh',r'Sad',r'Seen',r'Sheen',r'Tah',r'Teh',r'Teh_Marbuta', r'Thal',r'Theh',r'Waw',r'Yeh',r'Zah',r'Zain'],fontsize=80 , rotation=90, fontweight='bold')\n",
    "    plt.yticks(tick_marks,[r'Ain',r'Al',r'Alef',r'Beh',r'Dad',r'Dal',r'Feh',r'Ghain',r'Hah',r'Heh', r'Jeem',r'Kaf',r'Khah',r'Laa',r'Lam',r'Meem',r'Noon',r'Qaf',r'Reh',r'Sad',r'Seen',r'Sheen',r'Tah',r'Teh',r'Teh_Marbuta',r'Thal', r'Theh',r'Waw',r'Yeh',r'Zah',r'Zain'] ,fontsize=80, fontweight='bold')\n",
    "\n",
    "    fmt = '.2f' if normalize else 'd'\n",
    "    thresh = cm.max() / 2.\n",
    "    for i, j in itertools.product(range(cm.shape[0]), range(cm.shape[1])):\n",
    "        plt.text(j, i, format(cm[i, j], fmt), fontsize=35, horizontalalignment=\"center\", color=\"white\" if cm[i, j] > thresh else \"black\")\n",
    "\n",
    "    plt.tight_layout()\n",
    "    plt.ylabel(r'\\bf{True label}', fontsize=40, labelpad=10,fontweight='bold')\n",
    "    plt.xlabel(r'\\bf{Predicted label}', fontsize=40, labelpad=10,fontweight='bold')\n"
   ]
  },
  {
   "cell_type": "code",
   "execution_count": null,
   "id": "28fe42fa",
   "metadata": {},
   "outputs": [],
   "source": [
    "from sklearn.metrics import confusion_matrix\n",
    "import matplotlib as mpl\n",
    "\n",
    "\n",
    "plt.rcParams.update({ \"text.usetex\": True})\n",
    "\n",
    "\n",
    "mpl.rcParams['font.family'] = 'cmu serif'\n",
    "mpl.rcParams['mathtext.fontset'] = 'cm'\n",
    "\n",
    "plt.figure(figsize=(40,40))\n",
    "\n",
    "plot_confusion_matrix(np_arr,dataset.classes)\n",
    "\n",
    "print(dataset.classes)\n",
    "\n",
    "plt.savefig(f\"CM_{tensor_baord_variable}\", format=\"pdf\", dpi= 400, bbox_inches='tight')\n"
   ]
  },
  {
   "cell_type": "code",
   "execution_count": null,
   "id": "067932b6",
   "metadata": {},
   "outputs": [],
   "source": []
  },
  {
   "cell_type": "code",
   "execution_count": null,
   "id": "35f459f9",
   "metadata": {},
   "outputs": [],
   "source": []
  }
 ],
 "metadata": {
  "kernelspec": {
   "display_name": "kernel_conf_sign_lan",
   "language": "python",
   "name": "kernel_conf_sign_lan"
  },
  "language_info": {
   "codemirror_mode": {
    "name": "ipython",
    "version": 3
   },
   "file_extension": ".py",
   "mimetype": "text/x-python",
   "name": "python",
   "nbconvert_exporter": "python",
   "pygments_lexer": "ipython3",
   "version": "3.8.10"
  }
 },
 "nbformat": 4,
 "nbformat_minor": 5
}
